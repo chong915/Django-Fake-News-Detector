{
 "cells": [
  {
   "cell_type": "code",
   "execution_count": 1,
   "metadata": {
    "scrolled": true
   },
   "outputs": [],
   "source": [
    "import pandas as pd\n",
    "pd.set_option('max_colwidth',150)\n",
    "\n",
    "df = pd.read_excel(\"Dataset.xlsx\")"
   ]
  },
  {
   "cell_type": "code",
   "execution_count": 2,
   "metadata": {},
   "outputs": [
    {
     "data": {
      "text/plain": [
       "Index(['Month', 'Text', 'Type'], dtype='object')"
      ]
     },
     "execution_count": 2,
     "metadata": {},
     "output_type": "execute_result"
    }
   ],
   "source": [
    "df.columns"
   ]
  },
  {
   "cell_type": "code",
   "execution_count": 3,
   "metadata": {},
   "outputs": [
    {
     "data": {
      "text/html": [
       "<div>\n",
       "<style scoped>\n",
       "    .dataframe tbody tr th:only-of-type {\n",
       "        vertical-align: middle;\n",
       "    }\n",
       "\n",
       "    .dataframe tbody tr th {\n",
       "        vertical-align: top;\n",
       "    }\n",
       "\n",
       "    .dataframe thead th {\n",
       "        text-align: right;\n",
       "    }\n",
       "</style>\n",
       "<table border=\"1\" class=\"dataframe\">\n",
       "  <thead>\n",
       "    <tr style=\"text-align: right;\">\n",
       "      <th></th>\n",
       "      <th>Month</th>\n",
       "      <th>Text</th>\n",
       "      <th>Type</th>\n",
       "    </tr>\n",
       "  </thead>\n",
       "  <tbody>\n",
       "    <tr>\n",
       "      <th>0</th>\n",
       "      <td>Feb,20</td>\n",
       "      <td>KUALA LUMPUR: The Tourism, Arts and Culture Ministry will focus on the Asean market to try and cover the shortfall of Chinese tourists into the co...</td>\n",
       "      <td>Real</td>\n",
       "    </tr>\n",
       "    <tr>\n",
       "      <th>1</th>\n",
       "      <td>Feb,20</td>\n",
       "      <td>KUCHING: Sarawak recorded four new patients under investigation (PUI) cases of the Covid-19 (novel coronavirus) on Thursday (Feb 13), the state di...</td>\n",
       "      <td>Real</td>\n",
       "    </tr>\n",
       "    <tr>\n",
       "      <th>2</th>\n",
       "      <td>Feb,20</td>\n",
       "      <td>JOHOR BARU (Bernama): Police have opened an investigation paper over the spread of a confidential document on the Covid-19 infection through socia...</td>\n",
       "      <td>Real</td>\n",
       "    </tr>\n",
       "    <tr>\n",
       "      <th>3</th>\n",
       "      <td>Feb,20</td>\n",
       "      <td>JOHOR BARU: Malaysians’ love is like a red, red rose as the bloom remains a popular gift for those celebrating Valentine’s Day.  Red roses, especi...</td>\n",
       "      <td>Real</td>\n",
       "    </tr>\n",
       "    <tr>\n",
       "      <th>4</th>\n",
       "      <td>Feb,20</td>\n",
       "      <td>PETALING JAYA: For one day at least, love trumps all – even anxiety over Covid-19 (novel coronavirus).  Florists have reported healthy sales for F...</td>\n",
       "      <td>Real</td>\n",
       "    </tr>\n",
       "  </tbody>\n",
       "</table>\n",
       "</div>"
      ],
      "text/plain": [
       "    Month  \\\n",
       "0  Feb,20   \n",
       "1  Feb,20   \n",
       "2  Feb,20   \n",
       "3  Feb,20   \n",
       "4  Feb,20   \n",
       "\n",
       "                                                                                                                                                    Text  \\\n",
       "0  KUALA LUMPUR: The Tourism, Arts and Culture Ministry will focus on the Asean market to try and cover the shortfall of Chinese tourists into the co...   \n",
       "1  KUCHING: Sarawak recorded four new patients under investigation (PUI) cases of the Covid-19 (novel coronavirus) on Thursday (Feb 13), the state di...   \n",
       "2  JOHOR BARU (Bernama): Police have opened an investigation paper over the spread of a confidential document on the Covid-19 infection through socia...   \n",
       "3  JOHOR BARU: Malaysians’ love is like a red, red rose as the bloom remains a popular gift for those celebrating Valentine’s Day.  Red roses, especi...   \n",
       "4  PETALING JAYA: For one day at least, love trumps all – even anxiety over Covid-19 (novel coronavirus).  Florists have reported healthy sales for F...   \n",
       "\n",
       "   Type  \n",
       "0  Real  \n",
       "1  Real  \n",
       "2  Real  \n",
       "3  Real  \n",
       "4  Real  "
      ]
     },
     "execution_count": 3,
     "metadata": {},
     "output_type": "execute_result"
    }
   ],
   "source": [
    "df.head()"
   ]
  },
  {
   "cell_type": "code",
   "execution_count": 4,
   "metadata": {},
   "outputs": [
    {
     "data": {
      "text/plain": [
       "\"KUCHING: Sarawak recorded four new patients under investigation (PUI) cases of the Covid-19 (novel coronavirus) on Thursday (Feb 13), the state disaster management committee said.\\n\\nIt said two cases were reported in Miri Hospital, while the other two were in Sibu Hospital and the Sarawak General Hospital here respectively.\\n\\nThis brings the cumulative total of PUI cases in Sarawak to 80 since Jan 10.\\n\\nThe majority are Malaysians (59 cases), 18 Chinese nationals, one Thai, one Indonesian and one Canadian.\\n\\nOf the total, 64 tested negative and 16 are waiting for their results.\\n\\nAs of noon Wednesday (Feb 12), the Health Department screened 5,095 arrivals at the state's airports, as well as land and sea entry points.\\n\\nThe department advised those who have returned from China to seek immediate medical treatment if they experience fever, cough and breathing difficulties within 14 days.\\n\\nThey must also inform the doctors treating them of their travel history.\\n\\nAll doctors are to report any suspected cases to the nearest respective divisional or district health office or contact the department's Crisis Preparedness and Response Centre at cprc@sarawak.gov.my or 082-443 248.\""
      ]
     },
     "execution_count": 4,
     "metadata": {},
     "output_type": "execute_result"
    }
   ],
   "source": [
    "df.Text[1]"
   ]
  },
  {
   "cell_type": "code",
   "execution_count": 5,
   "metadata": {},
   "outputs": [],
   "source": [
    "import re\n",
    "import string\n",
    "\n",
    "def clean_text_round1(text):\n",
    "    '''Make text lowercase, remove text in square brackets, remove punctuation and remove words containing numbers.'''\n",
    "    text = text.lower()\n",
    "    text = re.sub('\\[.*?\\]', '', text)\n",
    "    text = re.sub('\\(.*?\\)', '', text)\n",
    "    text = re.sub('[\\“\\”\\’\\–]', '', text)\n",
    "    text = re.sub('[%s]' % re.escape(string.punctuation), '', text)\n",
    "    text = re.sub('\\w*\\d\\w*', '', text)\n",
    "    return text\n",
    "round1 = lambda x: clean_text_round1(x)"
   ]
  },
  {
   "cell_type": "code",
   "execution_count": 6,
   "metadata": {},
   "outputs": [
    {
     "data": {
      "text/plain": [
       "'yes'"
      ]
     },
     "execution_count": 6,
     "metadata": {},
     "output_type": "execute_result"
    }
   ],
   "source": [
    "text = \"(yes?)'\"\n",
    "re.sub('[\\(\\)\\?\\']', '', text)"
   ]
  },
  {
   "cell_type": "code",
   "execution_count": 7,
   "metadata": {},
   "outputs": [
    {
     "data": {
      "text/plain": [
       "''"
      ]
     },
     "execution_count": 7,
     "metadata": {},
     "output_type": "execute_result"
    }
   ],
   "source": [
    "text = \"year’s\"\n",
    "re.sub('[\\’\\w*]', '', text)"
   ]
  },
  {
   "cell_type": "code",
   "execution_count": 8,
   "metadata": {},
   "outputs": [
    {
     "data": {
      "text/plain": [
       "'!\"\\\\#\\\\$%\\\\&\\'\\\\(\\\\)\\\\*\\\\+,\\\\-\\\\./:;<=>\\\\?@\\\\[\\\\\\\\\\\\]\\\\^_`\\\\{\\\\|\\\\}\\\\~'"
      ]
     },
     "execution_count": 8,
     "metadata": {},
     "output_type": "execute_result"
    }
   ],
   "source": [
    "re.escape(string.punctuation)"
   ]
  },
  {
   "cell_type": "code",
   "execution_count": 9,
   "metadata": {},
   "outputs": [
    {
     "data": {
      "text/plain": [
       "'hari ini Feb'"
      ]
     },
     "execution_count": 9,
     "metadata": {},
     "output_type": "execute_result"
    }
   ],
   "source": [
    "text = \"hari ini 12Feb\"\n",
    "re.sub('\\w*\\d', '', text)"
   ]
  },
  {
   "cell_type": "code",
   "execution_count": 10,
   "metadata": {},
   "outputs": [
    {
     "data": {
      "text/html": [
       "<div>\n",
       "<style scoped>\n",
       "    .dataframe tbody tr th:only-of-type {\n",
       "        vertical-align: middle;\n",
       "    }\n",
       "\n",
       "    .dataframe tbody tr th {\n",
       "        vertical-align: top;\n",
       "    }\n",
       "\n",
       "    .dataframe thead th {\n",
       "        text-align: right;\n",
       "    }\n",
       "</style>\n",
       "<table border=\"1\" class=\"dataframe\">\n",
       "  <thead>\n",
       "    <tr style=\"text-align: right;\">\n",
       "      <th></th>\n",
       "      <th>Month</th>\n",
       "      <th>Text</th>\n",
       "      <th>Type</th>\n",
       "    </tr>\n",
       "  </thead>\n",
       "  <tbody>\n",
       "    <tr>\n",
       "      <th>0</th>\n",
       "      <td>Feb,20</td>\n",
       "      <td>kuala lumpur the tourism arts and culture ministry will focus on the asean market to try and cover the shortfall of chinese tourists into the coun...</td>\n",
       "      <td>Real</td>\n",
       "    </tr>\n",
       "    <tr>\n",
       "      <th>1</th>\n",
       "      <td>Feb,20</td>\n",
       "      <td>kuching sarawak recorded four new patients under investigation  cases of the   on thursday  the state disaster management committee said\\n\\nit sai...</td>\n",
       "      <td>Real</td>\n",
       "    </tr>\n",
       "    <tr>\n",
       "      <th>2</th>\n",
       "      <td>Feb,20</td>\n",
       "      <td>johor baru  police have opened an investigation paper over the spread of a confidential document on the  infection through social media sites on w...</td>\n",
       "      <td>Real</td>\n",
       "    </tr>\n",
       "    <tr>\n",
       "      <th>3</th>\n",
       "      <td>Feb,20</td>\n",
       "      <td>johor baru malaysians love is like a red red rose as the bloom remains a popular gift for those celebrating valentines day  red roses especially f...</td>\n",
       "      <td>Real</td>\n",
       "    </tr>\n",
       "    <tr>\n",
       "      <th>4</th>\n",
       "      <td>Feb,20</td>\n",
       "      <td>petaling jaya for one day at least love trumps all  even anxiety over    florists have reported healthy sales for feb  despite this years day of l...</td>\n",
       "      <td>Real</td>\n",
       "    </tr>\n",
       "    <tr>\n",
       "      <th>...</th>\n",
       "      <td>...</td>\n",
       "      <td>...</td>\n",
       "      <td>...</td>\n",
       "    </tr>\n",
       "    <tr>\n",
       "      <th>885</th>\n",
       "      <td>Nov,20</td>\n",
       "      <td>najib looted rm  billions in bonds from epf  and pass rm  billions of dollars into accounts controlled by proxies ten billion in bonds looted from...</td>\n",
       "      <td>Fake</td>\n",
       "    </tr>\n",
       "    <tr>\n",
       "      <th>886</th>\n",
       "      <td>Nov,20</td>\n",
       "      <td>it is with regret to inform that the kelantan state ministry of health together with the national security council has agreed to hold pkpb in the ...</td>\n",
       "      <td>Fake</td>\n",
       "    </tr>\n",
       "    <tr>\n",
       "      <th>887</th>\n",
       "      <td>Nov,20</td>\n",
       "      <td>due to the influence of  majority of malaysians are facing salary problems we are now launching a mobile online parttime platform earning  per day...</td>\n",
       "      <td>Fake</td>\n",
       "    </tr>\n",
       "    <tr>\n",
       "      <th>888</th>\n",
       "      <td>Nov,20</td>\n",
       "      <td>oldtown curry noodle restaurant is rumored to contain pork</td>\n",
       "      <td>Fake</td>\n",
       "    </tr>\n",
       "    <tr>\n",
       "      <th>889</th>\n",
       "      <td>Nov,20</td>\n",
       "      <td>peace be upon you and please to meet you i have just returned from the kuala ketil hall to get cross district and state permission confirmation th...</td>\n",
       "      <td>Fake</td>\n",
       "    </tr>\n",
       "  </tbody>\n",
       "</table>\n",
       "<p>890 rows × 3 columns</p>\n",
       "</div>"
      ],
      "text/plain": [
       "      Month  \\\n",
       "0    Feb,20   \n",
       "1    Feb,20   \n",
       "2    Feb,20   \n",
       "3    Feb,20   \n",
       "4    Feb,20   \n",
       "..      ...   \n",
       "885  Nov,20   \n",
       "886  Nov,20   \n",
       "887  Nov,20   \n",
       "888  Nov,20   \n",
       "889  Nov,20   \n",
       "\n",
       "                                                                                                                                                      Text  \\\n",
       "0    kuala lumpur the tourism arts and culture ministry will focus on the asean market to try and cover the shortfall of chinese tourists into the coun...   \n",
       "1    kuching sarawak recorded four new patients under investigation  cases of the   on thursday  the state disaster management committee said\\n\\nit sai...   \n",
       "2    johor baru  police have opened an investigation paper over the spread of a confidential document on the  infection through social media sites on w...   \n",
       "3    johor baru malaysians love is like a red red rose as the bloom remains a popular gift for those celebrating valentines day  red roses especially f...   \n",
       "4    petaling jaya for one day at least love trumps all  even anxiety over    florists have reported healthy sales for feb  despite this years day of l...   \n",
       "..                                                                                                                                                     ...   \n",
       "885  najib looted rm  billions in bonds from epf  and pass rm  billions of dollars into accounts controlled by proxies ten billion in bonds looted from...   \n",
       "886  it is with regret to inform that the kelantan state ministry of health together with the national security council has agreed to hold pkpb in the ...   \n",
       "887  due to the influence of  majority of malaysians are facing salary problems we are now launching a mobile online parttime platform earning  per day...   \n",
       "888                                                                                             oldtown curry noodle restaurant is rumored to contain pork   \n",
       "889  peace be upon you and please to meet you i have just returned from the kuala ketil hall to get cross district and state permission confirmation th...   \n",
       "\n",
       "     Type  \n",
       "0    Real  \n",
       "1    Real  \n",
       "2    Real  \n",
       "3    Real  \n",
       "4    Real  \n",
       "..    ...  \n",
       "885  Fake  \n",
       "886  Fake  \n",
       "887  Fake  \n",
       "888  Fake  \n",
       "889  Fake  \n",
       "\n",
       "[890 rows x 3 columns]"
      ]
     },
     "execution_count": 10,
     "metadata": {},
     "output_type": "execute_result"
    }
   ],
   "source": [
    "df.Text = df.Text.apply(round1)\n",
    "df"
   ]
  },
  {
   "cell_type": "code",
   "execution_count": 11,
   "metadata": {},
   "outputs": [],
   "source": [
    "def clean_text_round2(text):\n",
    "    '''Get rid of some additional punctuation and non-sensical text was missed the first time around'''\n",
    "    text = re.sub('[\\n]', '', text)\n",
    "    return text\n",
    "round2 = lambda x: clean_text_round2(x)"
   ]
  },
  {
   "cell_type": "code",
   "execution_count": 12,
   "metadata": {},
   "outputs": [
    {
     "data": {
      "text/html": [
       "<div>\n",
       "<style scoped>\n",
       "    .dataframe tbody tr th:only-of-type {\n",
       "        vertical-align: middle;\n",
       "    }\n",
       "\n",
       "    .dataframe tbody tr th {\n",
       "        vertical-align: top;\n",
       "    }\n",
       "\n",
       "    .dataframe thead th {\n",
       "        text-align: right;\n",
       "    }\n",
       "</style>\n",
       "<table border=\"1\" class=\"dataframe\">\n",
       "  <thead>\n",
       "    <tr style=\"text-align: right;\">\n",
       "      <th></th>\n",
       "      <th>Month</th>\n",
       "      <th>Text</th>\n",
       "      <th>Type</th>\n",
       "    </tr>\n",
       "  </thead>\n",
       "  <tbody>\n",
       "    <tr>\n",
       "      <th>0</th>\n",
       "      <td>Feb,20</td>\n",
       "      <td>kuala lumpur the tourism arts and culture ministry will focus on the asean market to try and cover the shortfall of chinese tourists into the coun...</td>\n",
       "      <td>Real</td>\n",
       "    </tr>\n",
       "    <tr>\n",
       "      <th>1</th>\n",
       "      <td>Feb,20</td>\n",
       "      <td>kuching sarawak recorded four new patients under investigation  cases of the   on thursday  the state disaster management committee saidit said tw...</td>\n",
       "      <td>Real</td>\n",
       "    </tr>\n",
       "    <tr>\n",
       "      <th>2</th>\n",
       "      <td>Feb,20</td>\n",
       "      <td>johor baru  police have opened an investigation paper over the spread of a confidential document on the  infection through social media sites on w...</td>\n",
       "      <td>Real</td>\n",
       "    </tr>\n",
       "    <tr>\n",
       "      <th>3</th>\n",
       "      <td>Feb,20</td>\n",
       "      <td>johor baru malaysians love is like a red red rose as the bloom remains a popular gift for those celebrating valentines day  red roses especially f...</td>\n",
       "      <td>Real</td>\n",
       "    </tr>\n",
       "    <tr>\n",
       "      <th>4</th>\n",
       "      <td>Feb,20</td>\n",
       "      <td>petaling jaya for one day at least love trumps all  even anxiety over    florists have reported healthy sales for feb  despite this years day of l...</td>\n",
       "      <td>Real</td>\n",
       "    </tr>\n",
       "    <tr>\n",
       "      <th>...</th>\n",
       "      <td>...</td>\n",
       "      <td>...</td>\n",
       "      <td>...</td>\n",
       "    </tr>\n",
       "    <tr>\n",
       "      <th>885</th>\n",
       "      <td>Nov,20</td>\n",
       "      <td>najib looted rm  billions in bonds from epf  and pass rm  billions of dollars into accounts controlled by proxies ten billion in bonds looted from...</td>\n",
       "      <td>Fake</td>\n",
       "    </tr>\n",
       "    <tr>\n",
       "      <th>886</th>\n",
       "      <td>Nov,20</td>\n",
       "      <td>it is with regret to inform that the kelantan state ministry of health together with the national security council has agreed to hold pkpb in the ...</td>\n",
       "      <td>Fake</td>\n",
       "    </tr>\n",
       "    <tr>\n",
       "      <th>887</th>\n",
       "      <td>Nov,20</td>\n",
       "      <td>due to the influence of  majority of malaysians are facing salary problems we are now launching a mobile online parttime platform earning  per day...</td>\n",
       "      <td>Fake</td>\n",
       "    </tr>\n",
       "    <tr>\n",
       "      <th>888</th>\n",
       "      <td>Nov,20</td>\n",
       "      <td>oldtown curry noodle restaurant is rumored to contain pork</td>\n",
       "      <td>Fake</td>\n",
       "    </tr>\n",
       "    <tr>\n",
       "      <th>889</th>\n",
       "      <td>Nov,20</td>\n",
       "      <td>peace be upon you and please to meet you i have just returned from the kuala ketil hall to get cross district and state permission confirmation th...</td>\n",
       "      <td>Fake</td>\n",
       "    </tr>\n",
       "  </tbody>\n",
       "</table>\n",
       "<p>890 rows × 3 columns</p>\n",
       "</div>"
      ],
      "text/plain": [
       "      Month  \\\n",
       "0    Feb,20   \n",
       "1    Feb,20   \n",
       "2    Feb,20   \n",
       "3    Feb,20   \n",
       "4    Feb,20   \n",
       "..      ...   \n",
       "885  Nov,20   \n",
       "886  Nov,20   \n",
       "887  Nov,20   \n",
       "888  Nov,20   \n",
       "889  Nov,20   \n",
       "\n",
       "                                                                                                                                                      Text  \\\n",
       "0    kuala lumpur the tourism arts and culture ministry will focus on the asean market to try and cover the shortfall of chinese tourists into the coun...   \n",
       "1    kuching sarawak recorded four new patients under investigation  cases of the   on thursday  the state disaster management committee saidit said tw...   \n",
       "2    johor baru  police have opened an investigation paper over the spread of a confidential document on the  infection through social media sites on w...   \n",
       "3    johor baru malaysians love is like a red red rose as the bloom remains a popular gift for those celebrating valentines day  red roses especially f...   \n",
       "4    petaling jaya for one day at least love trumps all  even anxiety over    florists have reported healthy sales for feb  despite this years day of l...   \n",
       "..                                                                                                                                                     ...   \n",
       "885  najib looted rm  billions in bonds from epf  and pass rm  billions of dollars into accounts controlled by proxies ten billion in bonds looted from...   \n",
       "886  it is with regret to inform that the kelantan state ministry of health together with the national security council has agreed to hold pkpb in the ...   \n",
       "887  due to the influence of  majority of malaysians are facing salary problems we are now launching a mobile online parttime platform earning  per day...   \n",
       "888                                                                                             oldtown curry noodle restaurant is rumored to contain pork   \n",
       "889  peace be upon you and please to meet you i have just returned from the kuala ketil hall to get cross district and state permission confirmation th...   \n",
       "\n",
       "     Type  \n",
       "0    Real  \n",
       "1    Real  \n",
       "2    Real  \n",
       "3    Real  \n",
       "4    Real  \n",
       "..    ...  \n",
       "885  Fake  \n",
       "886  Fake  \n",
       "887  Fake  \n",
       "888  Fake  \n",
       "889  Fake  \n",
       "\n",
       "[890 rows x 3 columns]"
      ]
     },
     "execution_count": 12,
     "metadata": {},
     "output_type": "execute_result"
    }
   ],
   "source": [
    "df.Text = df.Text.apply(round2)\n",
    "df"
   ]
  },
  {
   "cell_type": "code",
   "execution_count": 19,
   "metadata": {
    "scrolled": true
   },
   "outputs": [],
   "source": [
    "# remove stopwords\n",
    "from nltk.corpus import stopwords\n",
    "\n",
    "stopwords = set(stopwords.words('english'))\n",
    "df.Text = df.Text.apply(lambda x: ' '.join(term for term in x.split() if term not in stopwords))"
   ]
  },
  {
   "cell_type": "code",
   "execution_count": 20,
   "metadata": {},
   "outputs": [
    {
     "data": {
      "text/plain": [
       "'petaling jaya one day least love trumps even anxiety florists reported healthy sales feb despite years day love occurring shadow outbreak comes romance one terribly bothered virus valentines day special day everyone people willing spend loved ones said marie phang running business years added business disrupted many customers made advance orders valentines day mostly get walkins red roses remain clear favourite phang said however receive requests like black roses sunflowers tulips hydrangea pots highlighted significance choice blooms sunflower means sunshine pink hydrangea shows heartfelt emotions colourful bouquet variety flowers signifies wishes colourful year ahead another florist esther fong said customers placed orders earlier week get mostly walkins said outlet yesterday fong noted particularly sweet order received year bouquet filled variety chocolate bars florist wished known janette said business peaked since wednesday opted red roses flower symbol love cupid celebrated'"
      ]
     },
     "execution_count": 20,
     "metadata": {},
     "output_type": "execute_result"
    }
   ],
   "source": [
    "df.iloc[4].Text"
   ]
  },
  {
   "cell_type": "code",
   "execution_count": 21,
   "metadata": {},
   "outputs": [
    {
     "data": {
      "text/plain": [
       "'petaling jaya one day least love trumps even anxiety florists reported healthy sales feb despite years day love occurring shadow outbreak comes romance one terribly bothered virus valentines day special day everyone people willing spend loved ones said marie phang running business years added business disrupted many customers made advance orders valentines day mostly get walkins red roses remain clear favourite phang said however receive requests like black roses sunflowers tulips hydrangea pots highlighted significance choice blooms sunflower means sunshine pink hydrangea shows heartfelt emotions colourful bouquet variety flowers signifies wishes colourful year ahead another florist esther fong said customers placed orders earlier week get mostly walkins said outlet yesterday fong noted particularly sweet order received year bouquet filled variety chocolate bars florist wished known janette said business peaked since wednesday opted red roses flower symbol love cupid celebrated'"
      ]
     },
     "execution_count": 21,
     "metadata": {},
     "output_type": "execute_result"
    }
   ],
   "source": [
    "df.iloc[4].Text"
   ]
  },
  {
   "cell_type": "code",
   "execution_count": 22,
   "metadata": {},
   "outputs": [],
   "source": [
    "from nltk.corpus import wordnet\n",
    "\n",
    "def get_wordnet_pos(treebank_tag):\n",
    "    if treebank_tag.startswith('J'):\n",
    "        return wordnet.ADJ\n",
    "    elif treebank_tag.startswith('V'):\n",
    "        return wordnet.VERB\n",
    "    elif treebank_tag.startswith('N'):\n",
    "        return wordnet.NOUN\n",
    "    elif treebank_tag.startswith('R'):\n",
    "        return wordnet.ADV\n",
    "    else:\n",
    "        return None"
   ]
  },
  {
   "cell_type": "code",
   "execution_count": 26,
   "metadata": {},
   "outputs": [],
   "source": [
    "from nltk.stem import WordNetLemmatizer\n",
    "\n",
    "lemmatizer = WordNetLemmatizer()\n",
    "\n",
    "def clean_text_round3(text):\n",
    "    text_tokens = text.split()\n",
    "    tagged = nltk.pos_tag(text_tokens)\n",
    "    full_text = ''\n",
    "    for word, tag in tagged:\n",
    "        wntag = get_wordnet_pos(tag)\n",
    "        if wntag is None:\n",
    "            lemma = lemmatizer.lemmatize(word)\n",
    "        else:\n",
    "            lemma = lemmatizer.lemmatize(word, pos=wntag)\n",
    "        full_text += lemma + ' '\n",
    "    return full_text\n",
    "round3 = lambda x: clean_text_round3(x)"
   ]
  },
  {
   "cell_type": "code",
   "execution_count": 27,
   "metadata": {},
   "outputs": [
    {
     "data": {
      "text/plain": [
       "'kuching sarawak recorded four new patient investigation'"
      ]
     },
     "execution_count": 27,
     "metadata": {},
     "output_type": "execute_result"
    }
   ],
   "source": [
    "text = \"kuching sarawak recorded four new patient investigation\"\n",
    "' '.join(lemmatizer.lemmatize(term) for term in text.split())"
   ]
  },
  {
   "cell_type": "code",
   "execution_count": 28,
   "metadata": {},
   "outputs": [
    {
     "data": {
      "text/plain": [
       "'rock'"
      ]
     },
     "execution_count": 28,
     "metadata": {},
     "output_type": "execute_result"
    }
   ],
   "source": [
    "lemmatizer.lemmatize(\"rocks\")"
   ]
  },
  {
   "cell_type": "code",
   "execution_count": 29,
   "metadata": {},
   "outputs": [
    {
     "data": {
      "text/plain": [
       "'suggest'"
      ]
     },
     "execution_count": 29,
     "metadata": {},
     "output_type": "execute_result"
    }
   ],
   "source": [
    "import nltk\n",
    "stemmer = nltk.PorterStemmer()\n",
    "lemmatizer.lemmatize(\"suggested\", 'v')"
   ]
  },
  {
   "cell_type": "code",
   "execution_count": 33,
   "metadata": {},
   "outputs": [],
   "source": [
    "df.Text = df.Text.apply(round3)"
   ]
  },
  {
   "cell_type": "code",
   "execution_count": 34,
   "metadata": {},
   "outputs": [
    {
     "data": {
      "text/html": [
       "<div>\n",
       "<style scoped>\n",
       "    .dataframe tbody tr th:only-of-type {\n",
       "        vertical-align: middle;\n",
       "    }\n",
       "\n",
       "    .dataframe tbody tr th {\n",
       "        vertical-align: top;\n",
       "    }\n",
       "\n",
       "    .dataframe thead th {\n",
       "        text-align: right;\n",
       "    }\n",
       "</style>\n",
       "<table border=\"1\" class=\"dataframe\">\n",
       "  <thead>\n",
       "    <tr style=\"text-align: right;\">\n",
       "      <th></th>\n",
       "      <th>Month</th>\n",
       "      <th>Text</th>\n",
       "      <th>Type</th>\n",
       "    </tr>\n",
       "  </thead>\n",
       "  <tbody>\n",
       "    <tr>\n",
       "      <th>0</th>\n",
       "      <td>Feb,20</td>\n",
       "      <td>kuala lumpur tourism art culture ministry focus asean market try cover shortfall chinese tourist country due coronavirus deputy minister muhammad ...</td>\n",
       "      <td>Real</td>\n",
       "    </tr>\n",
       "    <tr>\n",
       "      <th>1</th>\n",
       "      <td>Feb,20</td>\n",
       "      <td>kuching sarawak record four new patient investigation case thursday state disaster management committee saidit say two case report miri hospital t...</td>\n",
       "      <td>Real</td>\n",
       "    </tr>\n",
       "    <tr>\n",
       "      <th>2</th>\n",
       "      <td>Feb,20</td>\n",
       "      <td>johor baru police open investigation paper spread confidential document infection social medium site wednesday kota tinggi district police chief s...</td>\n",
       "      <td>Real</td>\n",
       "    </tr>\n",
       "    <tr>\n",
       "      <th>3</th>\n",
       "      <td>Feb,20</td>\n",
       "      <td>johor baru malaysian love like red red rise bloom remain popular gift celebrate valentine day red rose especially fresh one still soughtafter gift...</td>\n",
       "      <td>Real</td>\n",
       "    </tr>\n",
       "    <tr>\n",
       "      <th>4</th>\n",
       "      <td>Feb,20</td>\n",
       "      <td>petaling jaya one day least love trump even anxiety florist report healthy sale feb despite year day love occur shadow outbreak come romance one t...</td>\n",
       "      <td>Real</td>\n",
       "    </tr>\n",
       "    <tr>\n",
       "      <th>...</th>\n",
       "      <td>...</td>\n",
       "      <td>...</td>\n",
       "      <td>...</td>\n",
       "    </tr>\n",
       "    <tr>\n",
       "      <th>885</th>\n",
       "      <td>Nov,20</td>\n",
       "      <td>najib loot rm billion bond epf pas rm billion dollar account control proxy ten billion bond loot epf raise four billion dollar najib explosive exc...</td>\n",
       "      <td>Fake</td>\n",
       "    </tr>\n",
       "    <tr>\n",
       "      <th>886</th>\n",
       "      <td>Nov,20</td>\n",
       "      <td>regret inform kelantan state ministry health together national security council agree hold pkpb state kelantan effective november start take accou...</td>\n",
       "      <td>Fake</td>\n",
       "    </tr>\n",
       "    <tr>\n",
       "      <th>887</th>\n",
       "      <td>Nov,20</td>\n",
       "      <td>due influence majority malaysian face salary problem launch mobile online parttime platform earn per day please click</td>\n",
       "      <td>Fake</td>\n",
       "    </tr>\n",
       "    <tr>\n",
       "      <th>888</th>\n",
       "      <td>Nov,20</td>\n",
       "      <td>oldtown curry noodle restaurant rumor contain pork</td>\n",
       "      <td>Fake</td>\n",
       "    </tr>\n",
       "    <tr>\n",
       "      <th>889</th>\n",
       "      <td>Nov,20</td>\n",
       "      <td>peace upon please meet return kuala ketil hall get cross district state permission confirmation kuala ketil police inform need letter permission c...</td>\n",
       "      <td>Fake</td>\n",
       "    </tr>\n",
       "  </tbody>\n",
       "</table>\n",
       "<p>890 rows × 3 columns</p>\n",
       "</div>"
      ],
      "text/plain": [
       "      Month  \\\n",
       "0    Feb,20   \n",
       "1    Feb,20   \n",
       "2    Feb,20   \n",
       "3    Feb,20   \n",
       "4    Feb,20   \n",
       "..      ...   \n",
       "885  Nov,20   \n",
       "886  Nov,20   \n",
       "887  Nov,20   \n",
       "888  Nov,20   \n",
       "889  Nov,20   \n",
       "\n",
       "                                                                                                                                                      Text  \\\n",
       "0    kuala lumpur tourism art culture ministry focus asean market try cover shortfall chinese tourist country due coronavirus deputy minister muhammad ...   \n",
       "1    kuching sarawak record four new patient investigation case thursday state disaster management committee saidit say two case report miri hospital t...   \n",
       "2    johor baru police open investigation paper spread confidential document infection social medium site wednesday kota tinggi district police chief s...   \n",
       "3    johor baru malaysian love like red red rise bloom remain popular gift celebrate valentine day red rose especially fresh one still soughtafter gift...   \n",
       "4    petaling jaya one day least love trump even anxiety florist report healthy sale feb despite year day love occur shadow outbreak come romance one t...   \n",
       "..                                                                                                                                                     ...   \n",
       "885  najib loot rm billion bond epf pas rm billion dollar account control proxy ten billion bond loot epf raise four billion dollar najib explosive exc...   \n",
       "886  regret inform kelantan state ministry health together national security council agree hold pkpb state kelantan effective november start take accou...   \n",
       "887                                 due influence majority malaysian face salary problem launch mobile online parttime platform earn per day please click    \n",
       "888                                                                                                    oldtown curry noodle restaurant rumor contain pork    \n",
       "889  peace upon please meet return kuala ketil hall get cross district state permission confirmation kuala ketil police inform need letter permission c...   \n",
       "\n",
       "     Type  \n",
       "0    Real  \n",
       "1    Real  \n",
       "2    Real  \n",
       "3    Real  \n",
       "4    Real  \n",
       "..    ...  \n",
       "885  Fake  \n",
       "886  Fake  \n",
       "887  Fake  \n",
       "888  Fake  \n",
       "889  Fake  \n",
       "\n",
       "[890 rows x 3 columns]"
      ]
     },
     "execution_count": 34,
     "metadata": {},
     "output_type": "execute_result"
    }
   ],
   "source": [
    "df"
   ]
  },
  {
   "cell_type": "code",
   "execution_count": 35,
   "metadata": {},
   "outputs": [
    {
     "data": {
      "text/plain": [
       "'shortfall '"
      ]
     },
     "execution_count": 35,
     "metadata": {},
     "output_type": "execute_result"
    }
   ],
   "source": [
    "text = \"kuala lumpur the tourism arts and culture ministry will focus on the asean market to try and cover the shortfalls\"\n",
    "clean_text_round3(\"shortfalls\")"
   ]
  },
  {
   "cell_type": "code",
   "execution_count": 36,
   "metadata": {},
   "outputs": [],
   "source": [
    "import pickle\n",
    "df.to_pickle(\"data_clean.pkl\")"
   ]
  },
  {
   "cell_type": "code",
   "execution_count": 37,
   "metadata": {},
   "outputs": [],
   "source": [
    "from sklearn.base import TransformerMixin\n",
    "from sklearn.base import BaseEstimator\n",
    "import re\n",
    "import string\n",
    "import nltk\n",
    "from nltk.corpus import stopwords\n",
    "from sklearn.feature_extraction import text\n",
    "from nltk.corpus import wordnet\n",
    "from nltk.stem import WordNetLemmatizer\n",
    "\n",
    "def cleaning(text):\n",
    "    text = text.lower()\n",
    "    text = re.sub('\\[.*?\\]', '', text)\n",
    "    text = re.sub('\\(.*?\\)', '', text)\n",
    "    text = re.sub('[\\“\\”\\’\\–]', '', text)\n",
    "    text = re.sub('[%s]' % re.escape(string.punctuation), '', text)\n",
    "    text = re.sub('\\w*\\d\\w*', '', text)\n",
    "    text = re.sub('[\\n]', '', text)\n",
    "    return text\n",
    "\n",
    "def clean_text_round3(text):\n",
    "    lemmatizer = WordNetLemmatizer()\n",
    "    text_tokens = text.split()\n",
    "    tagged = nltk.pos_tag(text_tokens)\n",
    "    full_text = ''\n",
    "    for word, tag in tagged:\n",
    "        wntag = get_wordnet_pos(tag)\n",
    "        if wntag is None:\n",
    "            lemma = lemmatizer.lemmatize(word)\n",
    "        else:\n",
    "            lemma = lemmatizer.lemmatize(word, pos=wntag)\n",
    "        full_text += lemma + ' '\n",
    "    return full_text\n",
    "\n",
    "def get_wordnet_pos(treebank_tag):\n",
    "    if treebank_tag.startswith('J'):\n",
    "        return wordnet.ADJ\n",
    "    elif treebank_tag.startswith('V'):\n",
    "        return wordnet.VERB\n",
    "    elif treebank_tag.startswith('N'):\n",
    "        return wordnet.NOUN\n",
    "    elif treebank_tag.startswith('R'):\n",
    "        return wordnet.ADV\n",
    "    else:\n",
    "        return None\n",
    "\n",
    "class Cleaning(TransformerMixin, BaseEstimator):\n",
    "    def __init__(self, verbose=False):\n",
    "        self.verbose = verbose\n",
    "    def fit(self, df, y=None):\n",
    "        if(self.verbose):\n",
    "            print(\"Verbose mode on!\")\n",
    "        return self\n",
    "    def transform(self, df):\n",
    "        # Cleaning (Remove punctuation)\n",
    "        round1 = lambda x: cleaning(x)\n",
    "        df.Text = df.Text.apply(round1)\n",
    "        \n",
    "        # remove stopwords\n",
    "        stop_words = set(stopwords.words('english'))\n",
    "        df.Text = df.Text.apply(lambda x: ' '.join(term for term in x.split() if term not in stop_words))\n",
    "        \n",
    "        # Lemmatize\n",
    "        round3 = lambda x: clean_text_round3(x)\n",
    "        df.Text = df.Text.apply(round3)\n",
    "        return df"
   ]
  },
  {
   "cell_type": "code",
   "execution_count": 38,
   "metadata": {},
   "outputs": [],
   "source": [
    "df = pd.read_excel(\"Dataset.xlsx\")"
   ]
  },
  {
   "cell_type": "code",
   "execution_count": 39,
   "metadata": {},
   "outputs": [],
   "source": [
    "from sklearn.pipeline import Pipeline\n",
    "\n",
    "cleaning_pipeline = Pipeline([\n",
    "    ('cleaning', Cleaning())\n",
    "])"
   ]
  },
  {
   "cell_type": "code",
   "execution_count": 40,
   "metadata": {},
   "outputs": [],
   "source": [
    "text = 'kuala lumpur tourism art culture ministry focus asean market try cover shortfall chinese tourist country due coronavirus deputy minister'"
   ]
  },
  {
   "cell_type": "code",
   "execution_count": 42,
   "metadata": {},
   "outputs": [
    {
     "data": {
      "text/html": [
       "<div>\n",
       "<style scoped>\n",
       "    .dataframe tbody tr th:only-of-type {\n",
       "        vertical-align: middle;\n",
       "    }\n",
       "\n",
       "    .dataframe tbody tr th {\n",
       "        vertical-align: top;\n",
       "    }\n",
       "\n",
       "    .dataframe thead th {\n",
       "        text-align: right;\n",
       "    }\n",
       "</style>\n",
       "<table border=\"1\" class=\"dataframe\">\n",
       "  <thead>\n",
       "    <tr style=\"text-align: right;\">\n",
       "      <th></th>\n",
       "      <th>Month</th>\n",
       "      <th>Text</th>\n",
       "      <th>Type</th>\n",
       "    </tr>\n",
       "  </thead>\n",
       "  <tbody>\n",
       "    <tr>\n",
       "      <th>0</th>\n",
       "      <td>Feb,20</td>\n",
       "      <td>kuala lumpur tourism art culture ministry focus asean market try cover shortfall chinese tourist country due coronavirus deputy minister muhammad ...</td>\n",
       "      <td>Real</td>\n",
       "    </tr>\n",
       "    <tr>\n",
       "      <th>1</th>\n",
       "      <td>Feb,20</td>\n",
       "      <td>kuching sarawak record four new patient investigation case thursday state disaster management committee saidit say two case report miri hospital t...</td>\n",
       "      <td>Real</td>\n",
       "    </tr>\n",
       "    <tr>\n",
       "      <th>2</th>\n",
       "      <td>Feb,20</td>\n",
       "      <td>johor baru police open investigation paper spread confidential document infection social medium site wednesday kota tinggi district police chief s...</td>\n",
       "      <td>Real</td>\n",
       "    </tr>\n",
       "    <tr>\n",
       "      <th>3</th>\n",
       "      <td>Feb,20</td>\n",
       "      <td>johor baru malaysian love like red red rise bloom remain popular gift celebrate valentine day red rose especially fresh one still soughtafter gift...</td>\n",
       "      <td>Real</td>\n",
       "    </tr>\n",
       "    <tr>\n",
       "      <th>4</th>\n",
       "      <td>Feb,20</td>\n",
       "      <td>petaling jaya one day least love trump even anxiety florist report healthy sale feb despite year day love occur shadow outbreak come romance one t...</td>\n",
       "      <td>Real</td>\n",
       "    </tr>\n",
       "    <tr>\n",
       "      <th>...</th>\n",
       "      <td>...</td>\n",
       "      <td>...</td>\n",
       "      <td>...</td>\n",
       "    </tr>\n",
       "    <tr>\n",
       "      <th>885</th>\n",
       "      <td>Nov,20</td>\n",
       "      <td>najib loot rm billion bond epf pas rm billion dollar account control proxy ten billion bond loot epf raise four billion dollar najib explosive exc...</td>\n",
       "      <td>Fake</td>\n",
       "    </tr>\n",
       "    <tr>\n",
       "      <th>886</th>\n",
       "      <td>Nov,20</td>\n",
       "      <td>regret inform kelantan state ministry health together national security council agree hold pkpb state kelantan effective november start take accou...</td>\n",
       "      <td>Fake</td>\n",
       "    </tr>\n",
       "    <tr>\n",
       "      <th>887</th>\n",
       "      <td>Nov,20</td>\n",
       "      <td>due influence majority malaysian face salary problem launch mobile online parttime platform earn per day please click</td>\n",
       "      <td>Fake</td>\n",
       "    </tr>\n",
       "    <tr>\n",
       "      <th>888</th>\n",
       "      <td>Nov,20</td>\n",
       "      <td>oldtown curry noodle restaurant rumor contain pork</td>\n",
       "      <td>Fake</td>\n",
       "    </tr>\n",
       "    <tr>\n",
       "      <th>889</th>\n",
       "      <td>Nov,20</td>\n",
       "      <td>peace upon please meet return kuala ketil hall get cross district state permission confirmation kuala ketil police inform need letter permission c...</td>\n",
       "      <td>Fake</td>\n",
       "    </tr>\n",
       "  </tbody>\n",
       "</table>\n",
       "<p>890 rows × 3 columns</p>\n",
       "</div>"
      ],
      "text/plain": [
       "      Month  \\\n",
       "0    Feb,20   \n",
       "1    Feb,20   \n",
       "2    Feb,20   \n",
       "3    Feb,20   \n",
       "4    Feb,20   \n",
       "..      ...   \n",
       "885  Nov,20   \n",
       "886  Nov,20   \n",
       "887  Nov,20   \n",
       "888  Nov,20   \n",
       "889  Nov,20   \n",
       "\n",
       "                                                                                                                                                      Text  \\\n",
       "0    kuala lumpur tourism art culture ministry focus asean market try cover shortfall chinese tourist country due coronavirus deputy minister muhammad ...   \n",
       "1    kuching sarawak record four new patient investigation case thursday state disaster management committee saidit say two case report miri hospital t...   \n",
       "2    johor baru police open investigation paper spread confidential document infection social medium site wednesday kota tinggi district police chief s...   \n",
       "3    johor baru malaysian love like red red rise bloom remain popular gift celebrate valentine day red rose especially fresh one still soughtafter gift...   \n",
       "4    petaling jaya one day least love trump even anxiety florist report healthy sale feb despite year day love occur shadow outbreak come romance one t...   \n",
       "..                                                                                                                                                     ...   \n",
       "885  najib loot rm billion bond epf pas rm billion dollar account control proxy ten billion bond loot epf raise four billion dollar najib explosive exc...   \n",
       "886  regret inform kelantan state ministry health together national security council agree hold pkpb state kelantan effective november start take accou...   \n",
       "887                                 due influence majority malaysian face salary problem launch mobile online parttime platform earn per day please click    \n",
       "888                                                                                                    oldtown curry noodle restaurant rumor contain pork    \n",
       "889  peace upon please meet return kuala ketil hall get cross district state permission confirmation kuala ketil police inform need letter permission c...   \n",
       "\n",
       "     Type  \n",
       "0    Real  \n",
       "1    Real  \n",
       "2    Real  \n",
       "3    Real  \n",
       "4    Real  \n",
       "..    ...  \n",
       "885  Fake  \n",
       "886  Fake  \n",
       "887  Fake  \n",
       "888  Fake  \n",
       "889  Fake  \n",
       "\n",
       "[890 rows x 3 columns]"
      ]
     },
     "execution_count": 42,
     "metadata": {},
     "output_type": "execute_result"
    }
   ],
   "source": [
    "cleaning_pipeline.fit_transform(df)"
   ]
  },
  {
   "cell_type": "code",
   "execution_count": 43,
   "metadata": {},
   "outputs": [],
   "source": [
    "import pickle\n",
    "\n",
    "with open('cleaning.pkl', 'wb') as f:\n",
    "    pickle.dump(cleaning_pipeline, f)"
   ]
  },
  {
   "cell_type": "code",
   "execution_count": 44,
   "metadata": {},
   "outputs": [],
   "source": [
    "import pickle\n",
    "\n",
    "with open('cleaning.pkl', 'rb') as f:\n",
    "    cleaning_pipeline = pickle.load(f)"
   ]
  },
  {
   "cell_type": "code",
   "execution_count": 45,
   "metadata": {},
   "outputs": [
    {
     "data": {
      "text/html": [
       "<div>\n",
       "<style scoped>\n",
       "    .dataframe tbody tr th:only-of-type {\n",
       "        vertical-align: middle;\n",
       "    }\n",
       "\n",
       "    .dataframe tbody tr th {\n",
       "        vertical-align: top;\n",
       "    }\n",
       "\n",
       "    .dataframe thead th {\n",
       "        text-align: right;\n",
       "    }\n",
       "</style>\n",
       "<table border=\"1\" class=\"dataframe\">\n",
       "  <thead>\n",
       "    <tr style=\"text-align: right;\">\n",
       "      <th></th>\n",
       "      <th>Month</th>\n",
       "      <th>Text</th>\n",
       "      <th>Type</th>\n",
       "    </tr>\n",
       "  </thead>\n",
       "  <tbody>\n",
       "    <tr>\n",
       "      <th>0</th>\n",
       "      <td>Feb,20</td>\n",
       "      <td>kuala lumpur tourism art culture ministry focus asean market try cover shortfall chinese tourist country due coronavirus deputy minister muhammad ...</td>\n",
       "      <td>Real</td>\n",
       "    </tr>\n",
       "    <tr>\n",
       "      <th>1</th>\n",
       "      <td>Feb,20</td>\n",
       "      <td>kuching sarawak record four new patient investigation case thursday state disaster management committee saidit say two case report miri hospital t...</td>\n",
       "      <td>Real</td>\n",
       "    </tr>\n",
       "    <tr>\n",
       "      <th>2</th>\n",
       "      <td>Feb,20</td>\n",
       "      <td>johor baru police open investigation paper spread confidential document infection social medium site wednesday kota tinggi district police chief s...</td>\n",
       "      <td>Real</td>\n",
       "    </tr>\n",
       "    <tr>\n",
       "      <th>3</th>\n",
       "      <td>Feb,20</td>\n",
       "      <td>johor baru malaysian love like red red rise bloom remain popular gift celebrate valentine day red rise especially fresh one still soughtafter gift...</td>\n",
       "      <td>Real</td>\n",
       "    </tr>\n",
       "    <tr>\n",
       "      <th>4</th>\n",
       "      <td>Feb,20</td>\n",
       "      <td>petaling jaya one day least love trump even anxiety florist report healthy sale feb despite year day love occur shadow outbreak come romance one t...</td>\n",
       "      <td>Real</td>\n",
       "    </tr>\n",
       "    <tr>\n",
       "      <th>...</th>\n",
       "      <td>...</td>\n",
       "      <td>...</td>\n",
       "      <td>...</td>\n",
       "    </tr>\n",
       "    <tr>\n",
       "      <th>885</th>\n",
       "      <td>Nov,20</td>\n",
       "      <td>najib loot rm billion bond epf pa rm billion dollar account control proxy ten billion bond loot epf raise four billion dollar najib explosive excl...</td>\n",
       "      <td>Fake</td>\n",
       "    </tr>\n",
       "    <tr>\n",
       "      <th>886</th>\n",
       "      <td>Nov,20</td>\n",
       "      <td>regret inform kelantan state ministry health together national security council agree hold pkpb state kelantan effective november start take accou...</td>\n",
       "      <td>Fake</td>\n",
       "    </tr>\n",
       "    <tr>\n",
       "      <th>887</th>\n",
       "      <td>Nov,20</td>\n",
       "      <td>due influence majority malaysian face salary problem launch mobile online parttime platform earn per day please click</td>\n",
       "      <td>Fake</td>\n",
       "    </tr>\n",
       "    <tr>\n",
       "      <th>888</th>\n",
       "      <td>Nov,20</td>\n",
       "      <td>oldtown curry noodle restaurant rumor contain pork</td>\n",
       "      <td>Fake</td>\n",
       "    </tr>\n",
       "    <tr>\n",
       "      <th>889</th>\n",
       "      <td>Nov,20</td>\n",
       "      <td>peace upon please meet return kuala ketil hall get cross district state permission confirmation kuala ketil police inform need letter permission c...</td>\n",
       "      <td>Fake</td>\n",
       "    </tr>\n",
       "  </tbody>\n",
       "</table>\n",
       "<p>890 rows × 3 columns</p>\n",
       "</div>"
      ],
      "text/plain": [
       "      Month  \\\n",
       "0    Feb,20   \n",
       "1    Feb,20   \n",
       "2    Feb,20   \n",
       "3    Feb,20   \n",
       "4    Feb,20   \n",
       "..      ...   \n",
       "885  Nov,20   \n",
       "886  Nov,20   \n",
       "887  Nov,20   \n",
       "888  Nov,20   \n",
       "889  Nov,20   \n",
       "\n",
       "                                                                                                                                                      Text  \\\n",
       "0    kuala lumpur tourism art culture ministry focus asean market try cover shortfall chinese tourist country due coronavirus deputy minister muhammad ...   \n",
       "1    kuching sarawak record four new patient investigation case thursday state disaster management committee saidit say two case report miri hospital t...   \n",
       "2    johor baru police open investigation paper spread confidential document infection social medium site wednesday kota tinggi district police chief s...   \n",
       "3    johor baru malaysian love like red red rise bloom remain popular gift celebrate valentine day red rise especially fresh one still soughtafter gift...   \n",
       "4    petaling jaya one day least love trump even anxiety florist report healthy sale feb despite year day love occur shadow outbreak come romance one t...   \n",
       "..                                                                                                                                                     ...   \n",
       "885  najib loot rm billion bond epf pa rm billion dollar account control proxy ten billion bond loot epf raise four billion dollar najib explosive excl...   \n",
       "886  regret inform kelantan state ministry health together national security council agree hold pkpb state kelantan effective november start take accou...   \n",
       "887                                 due influence majority malaysian face salary problem launch mobile online parttime platform earn per day please click    \n",
       "888                                                                                                    oldtown curry noodle restaurant rumor contain pork    \n",
       "889  peace upon please meet return kuala ketil hall get cross district state permission confirmation kuala ketil police inform need letter permission c...   \n",
       "\n",
       "     Type  \n",
       "0    Real  \n",
       "1    Real  \n",
       "2    Real  \n",
       "3    Real  \n",
       "4    Real  \n",
       "..    ...  \n",
       "885  Fake  \n",
       "886  Fake  \n",
       "887  Fake  \n",
       "888  Fake  \n",
       "889  Fake  \n",
       "\n",
       "[890 rows x 3 columns]"
      ]
     },
     "execution_count": 45,
     "metadata": {},
     "output_type": "execute_result"
    }
   ],
   "source": [
    "cleaning_pipeline.fit_transform(df)"
   ]
  },
  {
   "cell_type": "code",
   "execution_count": null,
   "metadata": {},
   "outputs": [],
   "source": []
  }
 ],
 "metadata": {
  "kernelspec": {
   "display_name": "Python 3 (ipykernel)",
   "language": "python",
   "name": "python3"
  },
  "language_info": {
   "codemirror_mode": {
    "name": "ipython",
    "version": 3
   },
   "file_extension": ".py",
   "mimetype": "text/x-python",
   "name": "python",
   "nbconvert_exporter": "python",
   "pygments_lexer": "ipython3",
   "version": "3.8.17"
  }
 },
 "nbformat": 4,
 "nbformat_minor": 4
}
