{
 "cells": [
  {
   "cell_type": "code",
   "execution_count": 24,
   "metadata": {},
   "outputs": [
    {
     "data": {
      "text/html": [
       "<div>\n",
       "<style scoped>\n",
       "    .dataframe tbody tr th:only-of-type {\n",
       "        vertical-align: middle;\n",
       "    }\n",
       "\n",
       "    .dataframe tbody tr th {\n",
       "        vertical-align: top;\n",
       "    }\n",
       "\n",
       "    .dataframe thead th {\n",
       "        text-align: right;\n",
       "    }\n",
       "</style>\n",
       "<table border=\"1\" class=\"dataframe\">\n",
       "  <thead>\n",
       "    <tr style=\"text-align: right;\">\n",
       "      <th></th>\n",
       "      <th>Month</th>\n",
       "      <th>Text</th>\n",
       "      <th>Type</th>\n",
       "    </tr>\n",
       "  </thead>\n",
       "  <tbody>\n",
       "    <tr>\n",
       "      <th>0</th>\n",
       "      <td>Feb,20</td>\n",
       "      <td>kuala lumpur tourism art culture ministry focu...</td>\n",
       "      <td>0</td>\n",
       "    </tr>\n",
       "    <tr>\n",
       "      <th>1</th>\n",
       "      <td>Feb,20</td>\n",
       "      <td>kuching sarawak record four new patient invest...</td>\n",
       "      <td>0</td>\n",
       "    </tr>\n",
       "    <tr>\n",
       "      <th>2</th>\n",
       "      <td>Feb,20</td>\n",
       "      <td>johor baru police open investigation paper spr...</td>\n",
       "      <td>0</td>\n",
       "    </tr>\n",
       "    <tr>\n",
       "      <th>3</th>\n",
       "      <td>Feb,20</td>\n",
       "      <td>johor baru malaysian love like red red rise bl...</td>\n",
       "      <td>0</td>\n",
       "    </tr>\n",
       "    <tr>\n",
       "      <th>4</th>\n",
       "      <td>Feb,20</td>\n",
       "      <td>petaling jaya one day least love trump even an...</td>\n",
       "      <td>0</td>\n",
       "    </tr>\n",
       "    <tr>\n",
       "      <th>...</th>\n",
       "      <td>...</td>\n",
       "      <td>...</td>\n",
       "      <td>...</td>\n",
       "    </tr>\n",
       "    <tr>\n",
       "      <th>885</th>\n",
       "      <td>Nov,20</td>\n",
       "      <td>najib loot rm billion bond epf pas rm billion ...</td>\n",
       "      <td>1</td>\n",
       "    </tr>\n",
       "    <tr>\n",
       "      <th>886</th>\n",
       "      <td>Nov,20</td>\n",
       "      <td>regret inform kelantan state ministry health t...</td>\n",
       "      <td>1</td>\n",
       "    </tr>\n",
       "    <tr>\n",
       "      <th>887</th>\n",
       "      <td>Nov,20</td>\n",
       "      <td>due influence majority malaysian face salary p...</td>\n",
       "      <td>1</td>\n",
       "    </tr>\n",
       "    <tr>\n",
       "      <th>888</th>\n",
       "      <td>Nov,20</td>\n",
       "      <td>oldtown curry noodle restaurant rumor contain ...</td>\n",
       "      <td>1</td>\n",
       "    </tr>\n",
       "    <tr>\n",
       "      <th>889</th>\n",
       "      <td>Nov,20</td>\n",
       "      <td>peace upon please meet return kuala ketil hall...</td>\n",
       "      <td>1</td>\n",
       "    </tr>\n",
       "  </tbody>\n",
       "</table>\n",
       "<p>890 rows × 3 columns</p>\n",
       "</div>"
      ],
      "text/plain": [
       "      Month                                               Text  Type\n",
       "0    Feb,20  kuala lumpur tourism art culture ministry focu...     0\n",
       "1    Feb,20  kuching sarawak record four new patient invest...     0\n",
       "2    Feb,20  johor baru police open investigation paper spr...     0\n",
       "3    Feb,20  johor baru malaysian love like red red rise bl...     0\n",
       "4    Feb,20  petaling jaya one day least love trump even an...     0\n",
       "..      ...                                                ...   ...\n",
       "885  Nov,20  najib loot rm billion bond epf pas rm billion ...     1\n",
       "886  Nov,20  regret inform kelantan state ministry health t...     1\n",
       "887  Nov,20  due influence majority malaysian face salary p...     1\n",
       "888  Nov,20  oldtown curry noodle restaurant rumor contain ...     1\n",
       "889  Nov,20  peace upon please meet return kuala ketil hall...     1\n",
       "\n",
       "[890 rows x 3 columns]"
      ]
     },
     "execution_count": 24,
     "metadata": {},
     "output_type": "execute_result"
    }
   ],
   "source": [
    "import pandas as pd\n",
    "\n",
    "df = pd.read_pickle(\"data_clean.pkl\")\n",
    "dict = {'Real': 0, 'Fake': 1}\n",
    "df[\"Type\"] = df[\"Type\"].map(dict)\n",
    "df"
   ]
  },
  {
   "cell_type": "code",
   "execution_count": 25,
   "metadata": {},
   "outputs": [],
   "source": [
    "X = df[\"Text\"].values\n",
    "y = df[\"Type\"].values"
   ]
  },
  {
   "cell_type": "code",
   "execution_count": 26,
   "metadata": {},
   "outputs": [],
   "source": [
    "#from sklearn.model_selection import train_test_split\n",
    "#X_train, X_test, y_train, y_test = train_test_split(X, y, test_size = 0.3, random_state = 42, stratify=y)"
   ]
  },
  {
   "cell_type": "code",
   "execution_count": 27,
   "metadata": {},
   "outputs": [],
   "source": [
    "from sklearn.feature_extraction.text import TfidfVectorizer\n",
    "\n",
    "tfidf_vectorizer = TfidfVectorizer(min_df=0.01)"
   ]
  },
  {
   "cell_type": "code",
   "execution_count": 37,
   "metadata": {},
   "outputs": [],
   "source": [
    "import pickle\n",
    "\n",
    "pickle.dump(tfidf_vectorizer, open('tfidf_vectorizer.pkl', 'wb'))"
   ]
  },
  {
   "cell_type": "code",
   "execution_count": 28,
   "metadata": {},
   "outputs": [],
   "source": [
    "#X_train_tf = tfidf_vectorizer.fit_transform(X_train)\n",
    "X = tfidf_vectorizer.fit_transform(X)"
   ]
  },
  {
   "cell_type": "code",
   "execution_count": 29,
   "metadata": {},
   "outputs": [
    {
     "data": {
      "text/plain": [
       "(890, 1461)"
      ]
     },
     "execution_count": 29,
     "metadata": {},
     "output_type": "execute_result"
    }
   ],
   "source": [
    "#X_train_tf.shape\n",
    "X.shape"
   ]
  },
  {
   "cell_type": "code",
   "execution_count": 30,
   "metadata": {},
   "outputs": [],
   "source": [
    "#X_test_tf = tfidf_vectorizer.transform(X_test)"
   ]
  },
  {
   "cell_type": "code",
   "execution_count": 31,
   "metadata": {},
   "outputs": [],
   "source": [
    "#X_train_tf"
   ]
  },
  {
   "cell_type": "code",
   "execution_count": 32,
   "metadata": {},
   "outputs": [],
   "source": [
    "from sklearn.ensemble import RandomForestClassifier\n",
    "rf_clf = RandomForestClassifier(n_estimators=1000, random_state=42)"
   ]
  },
  {
   "cell_type": "code",
   "execution_count": 33,
   "metadata": {},
   "outputs": [
    {
     "data": {
      "text/plain": [
       "RandomForestClassifier(n_estimators=1000, random_state=42)"
      ]
     },
     "execution_count": 33,
     "metadata": {},
     "output_type": "execute_result"
    }
   ],
   "source": [
    "rf_clf.fit(X, y)"
   ]
  },
  {
   "cell_type": "code",
   "execution_count": 44,
   "metadata": {},
   "outputs": [
    {
     "data": {
      "text/plain": [
       "array([[0.969, 0.031]])"
      ]
     },
     "execution_count": 44,
     "metadata": {},
     "output_type": "execute_result"
    }
   ],
   "source": [
    "rf_clf.predict_proba(X[0])"
   ]
  },
  {
   "cell_type": "code",
   "execution_count": 38,
   "metadata": {},
   "outputs": [],
   "source": [
    "pickle.dump(rf_clf, open('random_forest.pkl', 'wb'))"
   ]
  },
  {
   "cell_type": "code",
   "execution_count": null,
   "metadata": {},
   "outputs": [],
   "source": [
    "tfidf_pipeline.fit_transform(X)"
   ]
  },
  {
   "cell_type": "code",
   "execution_count": 8,
   "metadata": {},
   "outputs": [],
   "source": [
    "from sklearn.naive_bayes import MultinomialNB\n",
    "mnb_clf = MultinomialNB(alpha=0.84)\n",
    "\n",
    "from sklearn.svm import SVC\n",
    "svm_clf = SVC(kernel=\"rbf\", C=9.0, gamma=0.00126)\n",
    "\n",
    "from sklearn.tree import DecisionTreeClassifier\n",
    "dt_clf = DecisionTreeClassifier(max_depth=5)\n",
    "\n",
    "from sklearn.ensemble import RandomForestClassifier\n",
    "rf_clf = RandomForestClassifier(n_estimators=1000, random_state=42)\n",
    "\n",
    "from sklearn.linear_model import LogisticRegression\n",
    "log_reg_clf = LogisticRegression(solver=\"lbfgs\", random_state=42, C=96)\n",
    "\n",
    "from sklearn.ensemble import AdaBoostClassifier\n",
    "from sklearn.tree import DecisionTreeClassifier\n",
    "\n",
    "ada_clf = AdaBoostClassifier(\n",
    "    DecisionTreeClassifier(max_depth=1), n_estimators=200,\n",
    "    algorithm=\"SAMME.R\", learning_rate=0.63, random_state=42\n",
    ")"
   ]
  },
  {
   "cell_type": "code",
   "execution_count": 9,
   "metadata": {},
   "outputs": [],
   "source": [
    "from sklearn.ensemble import VotingClassifier\n",
    "hard_voting_clf = VotingClassifier(\n",
    "    estimators=[\n",
    "        ('mnb', mnb_clf),\n",
    "        ('svm', svm_clf),\n",
    "        ('dt', dt_clf),\n",
    "        ('rf', rf_clf),\n",
    "        ('log_reg', log_reg_clf),\n",
    "        ('adaboost', ada_clf)\n",
    "    ],\n",
    "    voting='hard'\n",
    ")"
   ]
  },
  {
   "cell_type": "code",
   "execution_count": 10,
   "metadata": {},
   "outputs": [],
   "source": [
    "from sklearn.model_selection import StratifiedKFold\n",
    "\n",
    "kf = StratifiedKFold(n_splits=10)"
   ]
  },
  {
   "cell_type": "code",
   "execution_count": 11,
   "metadata": {},
   "outputs": [
    {
     "name": "stdout",
     "output_type": "stream",
     "text": [
      "Training MultinomialNB\n",
      "Training SVC\n",
      "Training DecisionTreeClassifier\n",
      "Training RandomForestClassifier\n",
      "Training LogisticRegression\n",
      "Training AdaBoostClassifier\n",
      "Training MultinomialNB\n"
     ]
    },
    {
     "name": "stderr",
     "output_type": "stream",
     "text": [
      "C:\\Users\\munch\\anaconda3\\envs\\nlu\\lib\\site-packages\\sklearn\\naive_bayes.py:555: UserWarning: alpha too small will result in numeric errors, setting alpha = 1.0e-10\n",
      "  warnings.warn(\n",
      "C:\\Users\\munch\\anaconda3\\envs\\nlu\\lib\\site-packages\\sklearn\\naive_bayes.py:555: UserWarning: alpha too small will result in numeric errors, setting alpha = 1.0e-10\n",
      "  warnings.warn(\n",
      "C:\\Users\\munch\\anaconda3\\envs\\nlu\\lib\\site-packages\\sklearn\\naive_bayes.py:555: UserWarning: alpha too small will result in numeric errors, setting alpha = 1.0e-10\n",
      "  warnings.warn(\n",
      "C:\\Users\\munch\\anaconda3\\envs\\nlu\\lib\\site-packages\\sklearn\\naive_bayes.py:555: UserWarning: alpha too small will result in numeric errors, setting alpha = 1.0e-10\n",
      "  warnings.warn(\n",
      "C:\\Users\\munch\\anaconda3\\envs\\nlu\\lib\\site-packages\\sklearn\\naive_bayes.py:555: UserWarning: alpha too small will result in numeric errors, setting alpha = 1.0e-10\n",
      "  warnings.warn(\n"
     ]
    },
    {
     "name": "stdout",
     "output_type": "stream",
     "text": [
      "Training SVC\n",
      "Training DecisionTreeClassifier\n",
      "Training RandomForestClassifier\n",
      "Training LogisticRegression\n",
      "Training AdaBoostClassifier\n",
      "Training MultinomialNB\n",
      "Training SVC\n"
     ]
    },
    {
     "name": "stderr",
     "output_type": "stream",
     "text": [
      "C:\\Users\\munch\\anaconda3\\envs\\nlu\\lib\\site-packages\\sklearn\\naive_bayes.py:555: UserWarning: alpha too small will result in numeric errors, setting alpha = 1.0e-10\n",
      "  warnings.warn(\n",
      "C:\\Users\\munch\\anaconda3\\envs\\nlu\\lib\\site-packages\\sklearn\\naive_bayes.py:555: UserWarning: alpha too small will result in numeric errors, setting alpha = 1.0e-10\n",
      "  warnings.warn(\n",
      "C:\\Users\\munch\\anaconda3\\envs\\nlu\\lib\\site-packages\\sklearn\\naive_bayes.py:555: UserWarning: alpha too small will result in numeric errors, setting alpha = 1.0e-10\n",
      "  warnings.warn(\n",
      "C:\\Users\\munch\\anaconda3\\envs\\nlu\\lib\\site-packages\\sklearn\\naive_bayes.py:555: UserWarning: alpha too small will result in numeric errors, setting alpha = 1.0e-10\n",
      "  warnings.warn(\n",
      "C:\\Users\\munch\\anaconda3\\envs\\nlu\\lib\\site-packages\\sklearn\\naive_bayes.py:555: UserWarning: alpha too small will result in numeric errors, setting alpha = 1.0e-10\n",
      "  warnings.warn(\n"
     ]
    },
    {
     "name": "stdout",
     "output_type": "stream",
     "text": [
      "Training DecisionTreeClassifier\n",
      "Training RandomForestClassifier\n",
      "Training LogisticRegression\n",
      "Training AdaBoostClassifier\n",
      "Training MultinomialNB\n",
      "Training SVC\n"
     ]
    },
    {
     "name": "stderr",
     "output_type": "stream",
     "text": [
      "C:\\Users\\munch\\anaconda3\\envs\\nlu\\lib\\site-packages\\sklearn\\naive_bayes.py:555: UserWarning: alpha too small will result in numeric errors, setting alpha = 1.0e-10\n",
      "  warnings.warn(\n",
      "C:\\Users\\munch\\anaconda3\\envs\\nlu\\lib\\site-packages\\sklearn\\naive_bayes.py:555: UserWarning: alpha too small will result in numeric errors, setting alpha = 1.0e-10\n",
      "  warnings.warn(\n",
      "C:\\Users\\munch\\anaconda3\\envs\\nlu\\lib\\site-packages\\sklearn\\naive_bayes.py:555: UserWarning: alpha too small will result in numeric errors, setting alpha = 1.0e-10\n",
      "  warnings.warn(\n",
      "C:\\Users\\munch\\anaconda3\\envs\\nlu\\lib\\site-packages\\sklearn\\naive_bayes.py:555: UserWarning: alpha too small will result in numeric errors, setting alpha = 1.0e-10\n",
      "  warnings.warn(\n",
      "C:\\Users\\munch\\anaconda3\\envs\\nlu\\lib\\site-packages\\sklearn\\naive_bayes.py:555: UserWarning: alpha too small will result in numeric errors, setting alpha = 1.0e-10\n",
      "  warnings.warn(\n"
     ]
    },
    {
     "name": "stdout",
     "output_type": "stream",
     "text": [
      "Training DecisionTreeClassifier\n",
      "Training RandomForestClassifier\n",
      "Training LogisticRegression\n",
      "Training AdaBoostClassifier\n",
      "Training MultinomialNB\n",
      "Training SVC\n"
     ]
    },
    {
     "name": "stderr",
     "output_type": "stream",
     "text": [
      "C:\\Users\\munch\\anaconda3\\envs\\nlu\\lib\\site-packages\\sklearn\\naive_bayes.py:555: UserWarning: alpha too small will result in numeric errors, setting alpha = 1.0e-10\n",
      "  warnings.warn(\n",
      "C:\\Users\\munch\\anaconda3\\envs\\nlu\\lib\\site-packages\\sklearn\\naive_bayes.py:555: UserWarning: alpha too small will result in numeric errors, setting alpha = 1.0e-10\n",
      "  warnings.warn(\n",
      "C:\\Users\\munch\\anaconda3\\envs\\nlu\\lib\\site-packages\\sklearn\\naive_bayes.py:555: UserWarning: alpha too small will result in numeric errors, setting alpha = 1.0e-10\n",
      "  warnings.warn(\n",
      "C:\\Users\\munch\\anaconda3\\envs\\nlu\\lib\\site-packages\\sklearn\\naive_bayes.py:555: UserWarning: alpha too small will result in numeric errors, setting alpha = 1.0e-10\n",
      "  warnings.warn(\n",
      "C:\\Users\\munch\\anaconda3\\envs\\nlu\\lib\\site-packages\\sklearn\\naive_bayes.py:555: UserWarning: alpha too small will result in numeric errors, setting alpha = 1.0e-10\n",
      "  warnings.warn(\n"
     ]
    },
    {
     "name": "stdout",
     "output_type": "stream",
     "text": [
      "Training DecisionTreeClassifier\n",
      "Training RandomForestClassifier\n",
      "Training LogisticRegression\n",
      "Training AdaBoostClassifier\n",
      "Training MultinomialNB\n",
      "Training SVC\n",
      "Training DecisionTreeClassifier\n",
      "Training RandomForestClassifier\n",
      "Training LogisticRegression\n",
      "Training AdaBoostClassifier\n",
      "Training MultinomialNB\n"
     ]
    },
    {
     "name": "stderr",
     "output_type": "stream",
     "text": [
      "C:\\Users\\munch\\anaconda3\\envs\\nlu\\lib\\site-packages\\sklearn\\naive_bayes.py:555: UserWarning: alpha too small will result in numeric errors, setting alpha = 1.0e-10\n",
      "  warnings.warn(\n",
      "C:\\Users\\munch\\anaconda3\\envs\\nlu\\lib\\site-packages\\sklearn\\naive_bayes.py:555: UserWarning: alpha too small will result in numeric errors, setting alpha = 1.0e-10\n",
      "  warnings.warn(\n",
      "C:\\Users\\munch\\anaconda3\\envs\\nlu\\lib\\site-packages\\sklearn\\naive_bayes.py:555: UserWarning: alpha too small will result in numeric errors, setting alpha = 1.0e-10\n",
      "  warnings.warn(\n",
      "C:\\Users\\munch\\anaconda3\\envs\\nlu\\lib\\site-packages\\sklearn\\naive_bayes.py:555: UserWarning: alpha too small will result in numeric errors, setting alpha = 1.0e-10\n",
      "  warnings.warn(\n",
      "C:\\Users\\munch\\anaconda3\\envs\\nlu\\lib\\site-packages\\sklearn\\naive_bayes.py:555: UserWarning: alpha too small will result in numeric errors, setting alpha = 1.0e-10\n",
      "  warnings.warn(\n",
      "C:\\Users\\munch\\anaconda3\\envs\\nlu\\lib\\site-packages\\sklearn\\naive_bayes.py:555: UserWarning: alpha too small will result in numeric errors, setting alpha = 1.0e-10\n",
      "  warnings.warn(\n",
      "C:\\Users\\munch\\anaconda3\\envs\\nlu\\lib\\site-packages\\sklearn\\naive_bayes.py:555: UserWarning: alpha too small will result in numeric errors, setting alpha = 1.0e-10\n",
      "  warnings.warn(\n",
      "C:\\Users\\munch\\anaconda3\\envs\\nlu\\lib\\site-packages\\sklearn\\naive_bayes.py:555: UserWarning: alpha too small will result in numeric errors, setting alpha = 1.0e-10\n",
      "  warnings.warn(\n",
      "C:\\Users\\munch\\anaconda3\\envs\\nlu\\lib\\site-packages\\sklearn\\naive_bayes.py:555: UserWarning: alpha too small will result in numeric errors, setting alpha = 1.0e-10\n",
      "  warnings.warn(\n",
      "C:\\Users\\munch\\anaconda3\\envs\\nlu\\lib\\site-packages\\sklearn\\naive_bayes.py:555: UserWarning: alpha too small will result in numeric errors, setting alpha = 1.0e-10\n",
      "  warnings.warn(\n"
     ]
    },
    {
     "name": "stdout",
     "output_type": "stream",
     "text": [
      "Training SVC\n",
      "Training DecisionTreeClassifier\n",
      "Training RandomForestClassifier\n",
      "Training LogisticRegression\n",
      "Training AdaBoostClassifier\n",
      "Training MultinomialNB\n",
      "Training SVC\n",
      "Training DecisionTreeClassifier\n",
      "Training RandomForestClassifier\n",
      "Training LogisticRegression\n",
      "Training AdaBoostClassifier\n",
      "Training MultinomialNB\n"
     ]
    },
    {
     "name": "stderr",
     "output_type": "stream",
     "text": [
      "C:\\Users\\munch\\anaconda3\\envs\\nlu\\lib\\site-packages\\sklearn\\naive_bayes.py:555: UserWarning: alpha too small will result in numeric errors, setting alpha = 1.0e-10\n",
      "  warnings.warn(\n",
      "C:\\Users\\munch\\anaconda3\\envs\\nlu\\lib\\site-packages\\sklearn\\naive_bayes.py:555: UserWarning: alpha too small will result in numeric errors, setting alpha = 1.0e-10\n",
      "  warnings.warn(\n",
      "C:\\Users\\munch\\anaconda3\\envs\\nlu\\lib\\site-packages\\sklearn\\naive_bayes.py:555: UserWarning: alpha too small will result in numeric errors, setting alpha = 1.0e-10\n",
      "  warnings.warn(\n",
      "C:\\Users\\munch\\anaconda3\\envs\\nlu\\lib\\site-packages\\sklearn\\naive_bayes.py:555: UserWarning: alpha too small will result in numeric errors, setting alpha = 1.0e-10\n",
      "  warnings.warn(\n",
      "C:\\Users\\munch\\anaconda3\\envs\\nlu\\lib\\site-packages\\sklearn\\naive_bayes.py:555: UserWarning: alpha too small will result in numeric errors, setting alpha = 1.0e-10\n",
      "  warnings.warn(\n"
     ]
    },
    {
     "name": "stdout",
     "output_type": "stream",
     "text": [
      "Training SVC\n",
      "Training DecisionTreeClassifier\n",
      "Training RandomForestClassifier\n",
      "Training LogisticRegression\n",
      "Training AdaBoostClassifier\n",
      "Training MultinomialNB\n",
      "Training SVC\n"
     ]
    },
    {
     "name": "stderr",
     "output_type": "stream",
     "text": [
      "C:\\Users\\munch\\anaconda3\\envs\\nlu\\lib\\site-packages\\sklearn\\naive_bayes.py:555: UserWarning: alpha too small will result in numeric errors, setting alpha = 1.0e-10\n",
      "  warnings.warn(\n",
      "C:\\Users\\munch\\anaconda3\\envs\\nlu\\lib\\site-packages\\sklearn\\naive_bayes.py:555: UserWarning: alpha too small will result in numeric errors, setting alpha = 1.0e-10\n",
      "  warnings.warn(\n",
      "C:\\Users\\munch\\anaconda3\\envs\\nlu\\lib\\site-packages\\sklearn\\naive_bayes.py:555: UserWarning: alpha too small will result in numeric errors, setting alpha = 1.0e-10\n",
      "  warnings.warn(\n",
      "C:\\Users\\munch\\anaconda3\\envs\\nlu\\lib\\site-packages\\sklearn\\naive_bayes.py:555: UserWarning: alpha too small will result in numeric errors, setting alpha = 1.0e-10\n",
      "  warnings.warn(\n",
      "C:\\Users\\munch\\anaconda3\\envs\\nlu\\lib\\site-packages\\sklearn\\naive_bayes.py:555: UserWarning: alpha too small will result in numeric errors, setting alpha = 1.0e-10\n",
      "  warnings.warn(\n"
     ]
    },
    {
     "name": "stdout",
     "output_type": "stream",
     "text": [
      "Training DecisionTreeClassifier\n",
      "Training RandomForestClassifier\n",
      "Training LogisticRegression\n",
      "Training AdaBoostClassifier\n",
      "Wall time: 13min 42s\n"
     ]
    }
   ],
   "source": [
    "%%time\n",
    "from sklearn.metrics import accuracy_score, f1_score, precision_score, recall_score, roc_auc_score\n",
    "import numpy as np\n",
    "from scipy.stats import reciprocal\n",
    "from sklearn.model_selection import RandomizedSearchCV\n",
    "from scipy.stats import reciprocal, uniform\n",
    "\n",
    "scores_mnb = {'train_acc':[], 'test_acc':[], 'train_f1':[], 'test_f1':[], 'train_precision':[], 'test_precision':[], 'train_recall':[], 'test_recall':[], 'train_auc':[], 'test_auc':[]}\n",
    "scores_svm = {'train_acc':[], 'test_acc':[], 'train_f1':[], 'test_f1':[], 'train_precision':[], 'test_precision':[], 'train_recall':[], 'test_recall':[], 'train_auc':[], 'test_auc':[]}\n",
    "scores_dt = {'train_acc':[], 'test_acc':[], 'train_f1':[], 'test_f1':[], 'train_precision':[], 'test_precision':[], 'train_recall':[], 'test_recall':[], 'train_auc':[], 'test_auc':[]}\n",
    "scores_rf = {'train_acc':[], 'test_acc':[], 'train_f1':[], 'test_f1':[], 'train_precision':[], 'test_precision':[], 'train_recall':[], 'test_recall':[], 'train_auc':[], 'test_auc':[]}\n",
    "scores_log_reg = {'train_acc':[], 'test_acc':[], 'train_f1':[], 'test_f1':[], 'train_precision':[], 'test_precision':[], 'train_recall':[], 'test_recall':[], 'train_auc':[], 'test_auc':[]}\n",
    "scores_ada = {'train_acc':[], 'test_acc':[], 'train_f1':[], 'test_f1':[], 'train_precision':[], 'test_precision':[], 'train_recall':[], 'test_recall':[], 'train_auc':[], 'test_auc':[]}\n",
    "scores_hard_voting = {'train_acc':[], 'test_acc':[], 'train_f1':[], 'test_f1':[], 'train_precision':[], 'test_precision':[], 'train_recall':[], 'test_recall':[], 'train_auc':[], 'test_auc':[]}\n",
    "\n",
    "lookup_clf = {0:scores_mnb, 1:scores_svm, 2:scores_dt, 3:scores_rf, 4:scores_log_reg, 5:scores_ada}\n",
    "\n",
    "param_distributions_mnb = {'alpha': np.linspace(0, 2, 20), 'fit_prior': [True, False]}\n",
    "param_distributions_svm = {\"gamma\": reciprocal(0.001, 0.1), \"C\": uniform(1, 10)}\n",
    "param_distributions_dt = {\"max_depth\": uniform(5, 100)}\n",
    "param_distributions_rf = {\"n_estimators\": np.arange(5, 100)}\n",
    "param_distributions_log = {\"C\": uniform(0.01, 100)}\n",
    "param_distributions_ada = {\"learning_rate\": uniform(0, 2)}\n",
    "\n",
    "param_distributions = [param_distributions_mnb, param_distributions_svm, param_distributions_dt, param_distributions_rf, param_distributions_log, param_distributions_ada]\n",
    "\n",
    "\n",
    "for train_index, test_index in kf.split(X, y):\n",
    "    X_train, X_test, y_train, y_test = X[train_index], X[test_index], y[train_index], y[test_index]\n",
    "    clf_list = [mnb_clf, svm_clf, dt_clf, rf_clf, log_reg_clf, ada_clf]\n",
    "    for index, clf in enumerate(clf_list):\n",
    "        print(f\"Training {clf.__class__.__name__}\")\n",
    "        clf.fit(X_train, y_train)\n",
    "        rnd_search_cv = RandomizedSearchCV(clf, param_distributions[index], n_iter=20, verbose=0, cv=5)\n",
    "        rnd_search_cv.fit(X_train, y_train)\n",
    "        y_train_pred = rnd_search_cv.predict(X_train)\n",
    "        #print(\"Training Accuracy :\", clf.__class__.__name__, accuracy_score(y_train, y_train_pred))\n",
    "        y_pred = rnd_search_cv.predict(X_test)\n",
    "        #print(\"Validation Accuracy :\", clf.__class__.__name__, accuracy_score(y_val, y_pred))\n",
    "        #print(\"Validation F1-score :\", clf.__class__.__name__, f1_score(y_val, y_pred))\n",
    "        #print()\n",
    "        train_accuracy = accuracy_score(y_train, y_train_pred)\n",
    "        test_accuracy = accuracy_score(y_test, y_pred)\n",
    "        \n",
    "        train_f1 = f1_score(y_train, y_train_pred)\n",
    "        test_f1 = f1_score(y_test, y_pred)\n",
    "        \n",
    "        train_precision = precision_score(y_train, y_train_pred)\n",
    "        test_precision = precision_score(y_test, y_pred)\n",
    "        \n",
    "        train_recall = recall_score(y_train, y_train_pred)\n",
    "        test_recall = recall_score(y_test, y_pred)\n",
    "        \n",
    "        train_roc_auc_score = roc_auc_score(y_train, y_train_pred)\n",
    "        test_roc_auc_score = roc_auc_score(y_test, y_pred)\n",
    "        \n",
    "        scores_clf = lookup_clf[index]\n",
    "        \n",
    "        scores_clf[\"train_acc\"].append(train_accuracy)\n",
    "        scores_clf[\"test_acc\"].append(test_accuracy)\n",
    "        \n",
    "        scores_clf[\"train_f1\"].append(train_f1)\n",
    "        scores_clf[\"test_f1\"].append(test_f1)\n",
    "        \n",
    "        scores_clf[\"train_precision\"].append(train_precision)\n",
    "        scores_clf[\"test_precision\"].append(test_precision)\n",
    "        \n",
    "        scores_clf[\"train_recall\"].append(train_recall)\n",
    "        scores_clf[\"test_recall\"].append(test_recall)\n",
    "        \n",
    "        scores_clf[\"train_auc\"].append(train_roc_auc_score)\n",
    "        scores_clf[\"test_auc\"].append(test_roc_auc_score)"
   ]
  },
  {
   "cell_type": "code",
   "execution_count": 13,
   "metadata": {},
   "outputs": [
    {
     "name": "stdout",
     "output_type": "stream",
     "text": [
      "MultinomialNB\n",
      "train_acc: 0.9153558052434457\n",
      "test_acc: 0.8876404494382022\n",
      "train_f1: 0.9086408064577394\n",
      "test_f1: 0.8744776447798082\n",
      "train_precision: 0.9740150542671823\n",
      "test_precision: 0.9623678446246512\n",
      "train_recall: 0.8515151515151516\n",
      "test_recall: 0.8045454545454546\n",
      "train_auc: 0.9146464646464647\n",
      "test_auc: 0.8867171717171717\n",
      "\n",
      "SVC\n",
      "train_acc: 0.9803995006242197\n",
      "test_acc: 0.9730337078651685\n",
      "train_f1: 0.9800506957511985\n",
      "test_f1: 0.9725292237833162\n",
      "train_precision: 0.9864597245733538\n",
      "test_precision: 0.975517039486264\n",
      "train_recall: 0.9737373737373737\n",
      "test_recall: 0.9704545454545455\n",
      "train_auc: 0.9803254769921437\n",
      "test_auc: 0.9730050505050505\n",
      "\n",
      "DecisionTreeClassifier\n",
      "train_acc: 0.9903870162297128\n",
      "test_acc: 0.9393258426966292\n",
      "train_f1: 0.9901321332927338\n",
      "test_f1: 0.9376197190052635\n",
      "train_precision: 0.9984455194509165\n",
      "test_precision: 0.9502703556890713\n",
      "train_recall: 0.9820707070707071\n",
      "test_recall: 0.9272727272727272\n",
      "train_auc: 0.9902946127946128\n",
      "test_auc: 0.9391919191919191\n",
      "\n",
      "RandomForestClassifier\n",
      "train_acc: 1.0\n",
      "test_acc: 0.9662921348314607\n",
      "train_f1: 1.0\n",
      "test_f1: 0.9653185551282876\n",
      "train_precision: 1.0\n",
      "test_precision: 0.9794586447473078\n",
      "train_recall: 1.0\n",
      "test_recall: 0.9522727272727273\n",
      "train_auc: 1.0\n",
      "test_auc: 0.9661363636363636\n",
      "\n",
      "LogisticRegression\n",
      "train_acc: 0.9868913857677902\n",
      "test_acc: 0.9662921348314607\n",
      "train_f1: 0.9866381040960892\n",
      "test_f1: 0.965964525670408\n",
      "train_precision: 0.9941005157882846\n",
      "test_precision: 0.96256181658192\n",
      "train_recall: 0.9792929292929293\n",
      "test_recall: 0.9704545454545455\n",
      "train_auc: 0.9868069584736251\n",
      "test_auc: 0.9663383838383839\n",
      "\n",
      "AdaBoostClassifier\n",
      "train_acc: 1.0\n",
      "test_acc: 0.9584269662921348\n",
      "train_f1: 1.0\n",
      "test_f1: 0.9581326002697294\n",
      "train_precision: 1.0\n",
      "test_precision: 0.9534191874644298\n",
      "train_recall: 1.0\n",
      "test_recall: 0.9636363636363636\n",
      "train_auc: 1.0\n",
      "test_auc: 0.9584848484848485\n",
      "\n"
     ]
    }
   ],
   "source": [
    "import statistics\n",
    "clf_list = [mnb_clf, svm_clf, dt_clf, rf_clf, log_reg_clf, ada_clf, hard_voting_clf]\n",
    "ls = [\"train_acc\", \"test_acc\"]\n",
    "for index, scores_clf in lookup_clf.items():\n",
    "    clf_class = clf_list[index].__class__.__name__\n",
    "    print(f\"{clf_class}\")\n",
    "    for key, item in scores_clf.items():\n",
    "        mean = statistics.mean(item)\n",
    "        print(f\"{key}: {mean}\")\n",
    "    print()"
   ]
  },
  {
   "cell_type": "code",
   "execution_count": null,
   "metadata": {},
   "outputs": [],
   "source": []
  },
  {
   "cell_type": "code",
   "execution_count": 43,
   "metadata": {},
   "outputs": [
    {
     "data": {
      "text/plain": [
       "MultinomialNB(alpha=0.84)"
      ]
     },
     "execution_count": 43,
     "metadata": {},
     "output_type": "execute_result"
    }
   ],
   "source": [
    "from sklearn.naive_bayes import MultinomialNB\n",
    "mnb_clf = MultinomialNB(alpha=0.84)\n",
    "\n",
    "mnb_clf.fit(X_train_tf, y_train)"
   ]
  },
  {
   "cell_type": "code",
   "execution_count": 44,
   "metadata": {},
   "outputs": [],
   "source": [
    "y_pred = mnb_clf.predict(X_test_tf)"
   ]
  },
  {
   "cell_type": "code",
   "execution_count": 45,
   "metadata": {},
   "outputs": [
    {
     "name": "stdout",
     "output_type": "stream",
     "text": [
      "              precision    recall  f1-score   support\n",
      "\n",
      "           0       0.82      0.99      0.90       135\n",
      "           1       0.98      0.78      0.87       132\n",
      "\n",
      "    accuracy                           0.88       267\n",
      "   macro avg       0.90      0.88      0.88       267\n",
      "weighted avg       0.90      0.88      0.88       267\n",
      "\n"
     ]
    }
   ],
   "source": [
    "from sklearn.metrics import classification_report\n",
    "\n",
    "print(classification_report(y_test, y_pred))"
   ]
  },
  {
   "cell_type": "code",
   "execution_count": null,
   "metadata": {},
   "outputs": [],
   "source": []
  },
  {
   "cell_type": "code",
   "execution_count": null,
   "metadata": {},
   "outputs": [],
   "source": []
  },
  {
   "cell_type": "code",
   "execution_count": 27,
   "metadata": {},
   "outputs": [
    {
     "name": "stderr",
     "output_type": "stream",
     "text": [
      "C:\\Users\\munch\\anaconda3\\envs\\nlu\\lib\\site-packages\\sklearn\\utils\\deprecation.py:87: FutureWarning: Function get_feature_names is deprecated; get_feature_names is deprecated in 1.0 and will be removed in 1.2. Please use get_feature_names_out instead.\n",
      "  warnings.warn(msg, category=FutureWarning)\n"
     ]
    }
   ],
   "source": [
    "df_idf = pd.DataFrame(tfidf_vectorizer.idf_, index=tfidf_vectorizer.get_feature_names(),columns=[\"idf_weights\"])"
   ]
  },
  {
   "cell_type": "code",
   "execution_count": 20,
   "metadata": {},
   "outputs": [
    {
     "data": {
      "text/html": [
       "<div>\n",
       "<style scoped>\n",
       "    .dataframe tbody tr th:only-of-type {\n",
       "        vertical-align: middle;\n",
       "    }\n",
       "\n",
       "    .dataframe tbody tr th {\n",
       "        vertical-align: top;\n",
       "    }\n",
       "\n",
       "    .dataframe thead th {\n",
       "        text-align: right;\n",
       "    }\n",
       "</style>\n",
       "<table border=\"1\" class=\"dataframe\">\n",
       "  <thead>\n",
       "    <tr style=\"text-align: right;\">\n",
       "      <th></th>\n",
       "      <th>idf_weights</th>\n",
       "    </tr>\n",
       "  </thead>\n",
       "  <tbody>\n",
       "    <tr>\n",
       "      <th>abdul</th>\n",
       "      <td>3.909790</td>\n",
       "    </tr>\n",
       "    <tr>\n",
       "      <th>abdullah</th>\n",
       "      <td>3.341806</td>\n",
       "    </tr>\n",
       "    <tr>\n",
       "      <th>accord</th>\n",
       "      <td>3.939643</td>\n",
       "    </tr>\n",
       "    <tr>\n",
       "      <th>act</th>\n",
       "      <td>3.747271</td>\n",
       "    </tr>\n",
       "    <tr>\n",
       "      <th>action</th>\n",
       "      <td>3.410799</td>\n",
       "    </tr>\n",
       "    <tr>\n",
       "      <th>...</th>\n",
       "      <td>...</td>\n",
       "    </tr>\n",
       "    <tr>\n",
       "      <th>worker</th>\n",
       "      <td>3.504325</td>\n",
       "    </tr>\n",
       "    <tr>\n",
       "      <th>would</th>\n",
       "      <td>2.248765</td>\n",
       "    </tr>\n",
       "    <tr>\n",
       "      <th>yaakob</th>\n",
       "      <td>3.798564</td>\n",
       "    </tr>\n",
       "    <tr>\n",
       "      <th>year</th>\n",
       "      <td>2.903551</td>\n",
       "    </tr>\n",
       "    <tr>\n",
       "      <th>yesterday</th>\n",
       "      <td>3.484907</td>\n",
       "    </tr>\n",
       "  </tbody>\n",
       "</table>\n",
       "<p>322 rows × 1 columns</p>\n",
       "</div>"
      ],
      "text/plain": [
       "           idf_weights\n",
       "abdul         3.909790\n",
       "abdullah      3.341806\n",
       "accord        3.939643\n",
       "act           3.747271\n",
       "action        3.410799\n",
       "...                ...\n",
       "worker        3.504325\n",
       "would         2.248765\n",
       "yaakob        3.798564\n",
       "year          2.903551\n",
       "yesterday     3.484907\n",
       "\n",
       "[322 rows x 1 columns]"
      ]
     },
     "execution_count": 20,
     "metadata": {},
     "output_type": "execute_result"
    }
   ],
   "source": [
    "df_idf"
   ]
  },
  {
   "cell_type": "code",
   "execution_count": null,
   "metadata": {},
   "outputs": [],
   "source": []
  }
 ],
 "metadata": {
  "kernelspec": {
   "display_name": "Python 3",
   "language": "python",
   "name": "python3"
  },
  "language_info": {
   "codemirror_mode": {
    "name": "ipython",
    "version": 3
   },
   "file_extension": ".py",
   "mimetype": "text/x-python",
   "name": "python",
   "nbconvert_exporter": "python",
   "pygments_lexer": "ipython3",
   "version": "3.8.5"
  }
 },
 "nbformat": 4,
 "nbformat_minor": 5
}
