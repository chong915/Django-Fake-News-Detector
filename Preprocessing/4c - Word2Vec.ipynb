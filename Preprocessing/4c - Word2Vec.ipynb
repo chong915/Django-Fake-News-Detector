{
 "cells": [
  {
   "cell_type": "code",
   "execution_count": 1,
   "metadata": {},
   "outputs": [
    {
     "data": {
      "text/html": [
       "<div>\n",
       "<style scoped>\n",
       "    .dataframe tbody tr th:only-of-type {\n",
       "        vertical-align: middle;\n",
       "    }\n",
       "\n",
       "    .dataframe tbody tr th {\n",
       "        vertical-align: top;\n",
       "    }\n",
       "\n",
       "    .dataframe thead th {\n",
       "        text-align: right;\n",
       "    }\n",
       "</style>\n",
       "<table border=\"1\" class=\"dataframe\">\n",
       "  <thead>\n",
       "    <tr style=\"text-align: right;\">\n",
       "      <th></th>\n",
       "      <th>Month</th>\n",
       "      <th>Text</th>\n",
       "      <th>Type</th>\n",
       "    </tr>\n",
       "  </thead>\n",
       "  <tbody>\n",
       "    <tr>\n",
       "      <th>0</th>\n",
       "      <td>Feb,20</td>\n",
       "      <td>kuala lumpur tourism art culture ministry focu...</td>\n",
       "      <td>0</td>\n",
       "    </tr>\n",
       "    <tr>\n",
       "      <th>1</th>\n",
       "      <td>Feb,20</td>\n",
       "      <td>kuching sarawak record four new patient invest...</td>\n",
       "      <td>0</td>\n",
       "    </tr>\n",
       "    <tr>\n",
       "      <th>2</th>\n",
       "      <td>Feb,20</td>\n",
       "      <td>johor baru police open investigation paper spr...</td>\n",
       "      <td>0</td>\n",
       "    </tr>\n",
       "    <tr>\n",
       "      <th>3</th>\n",
       "      <td>Feb,20</td>\n",
       "      <td>johor baru malaysian love like red red rise bl...</td>\n",
       "      <td>0</td>\n",
       "    </tr>\n",
       "    <tr>\n",
       "      <th>4</th>\n",
       "      <td>Feb,20</td>\n",
       "      <td>petaling jaya one day least love trump even an...</td>\n",
       "      <td>0</td>\n",
       "    </tr>\n",
       "    <tr>\n",
       "      <th>...</th>\n",
       "      <td>...</td>\n",
       "      <td>...</td>\n",
       "      <td>...</td>\n",
       "    </tr>\n",
       "    <tr>\n",
       "      <th>885</th>\n",
       "      <td>Nov,20</td>\n",
       "      <td>najib loot rm billion bond epf pas rm billion ...</td>\n",
       "      <td>1</td>\n",
       "    </tr>\n",
       "    <tr>\n",
       "      <th>886</th>\n",
       "      <td>Nov,20</td>\n",
       "      <td>regret inform kelantan state ministry health t...</td>\n",
       "      <td>1</td>\n",
       "    </tr>\n",
       "    <tr>\n",
       "      <th>887</th>\n",
       "      <td>Nov,20</td>\n",
       "      <td>due influence majority malaysian face salary p...</td>\n",
       "      <td>1</td>\n",
       "    </tr>\n",
       "    <tr>\n",
       "      <th>888</th>\n",
       "      <td>Nov,20</td>\n",
       "      <td>oldtown curry noodle restaurant rumor contain ...</td>\n",
       "      <td>1</td>\n",
       "    </tr>\n",
       "    <tr>\n",
       "      <th>889</th>\n",
       "      <td>Nov,20</td>\n",
       "      <td>peace upon please meet return kuala ketil hall...</td>\n",
       "      <td>1</td>\n",
       "    </tr>\n",
       "  </tbody>\n",
       "</table>\n",
       "<p>890 rows × 3 columns</p>\n",
       "</div>"
      ],
      "text/plain": [
       "      Month                                               Text  Type\n",
       "0    Feb,20  kuala lumpur tourism art culture ministry focu...     0\n",
       "1    Feb,20  kuching sarawak record four new patient invest...     0\n",
       "2    Feb,20  johor baru police open investigation paper spr...     0\n",
       "3    Feb,20  johor baru malaysian love like red red rise bl...     0\n",
       "4    Feb,20  petaling jaya one day least love trump even an...     0\n",
       "..      ...                                                ...   ...\n",
       "885  Nov,20  najib loot rm billion bond epf pas rm billion ...     1\n",
       "886  Nov,20  regret inform kelantan state ministry health t...     1\n",
       "887  Nov,20  due influence majority malaysian face salary p...     1\n",
       "888  Nov,20  oldtown curry noodle restaurant rumor contain ...     1\n",
       "889  Nov,20  peace upon please meet return kuala ketil hall...     1\n",
       "\n",
       "[890 rows x 3 columns]"
      ]
     },
     "execution_count": 1,
     "metadata": {},
     "output_type": "execute_result"
    }
   ],
   "source": [
    "import pandas as pd\n",
    "\n",
    "df = pd.read_pickle(\"data_clean.pkl\")\n",
    "dict = {'Real': 0, 'Fake': 1}\n",
    "df[\"Type\"] = df[\"Type\"].map(dict)\n",
    "df"
   ]
  },
  {
   "cell_type": "code",
   "execution_count": 2,
   "metadata": {},
   "outputs": [],
   "source": [
    "X = df[\"Text\"].values\n",
    "y = df[\"Type\"].values"
   ]
  },
  {
   "cell_type": "code",
   "execution_count": 3,
   "metadata": {},
   "outputs": [],
   "source": [
    "from gensim.models import KeyedVectors\n",
    "\n",
    "pretrained_word2vec = KeyedVectors.load_word2vec_format(\"GoogleNews-vectors-negative300.bin\", binary=True)"
   ]
  },
  {
   "cell_type": "code",
   "execution_count": 4,
   "metadata": {
    "scrolled": true
   },
   "outputs": [
    {
     "data": {
      "text/plain": [
       "(300,)"
      ]
     },
     "execution_count": 4,
     "metadata": {},
     "output_type": "execute_result"
    }
   ],
   "source": [
    "pretrained_word2vec[\"data\"].shape"
   ]
  },
  {
   "cell_type": "code",
   "execution_count": 5,
   "metadata": {},
   "outputs": [],
   "source": [
    "import matplotlib.pyplot as plt\n",
    "import seaborn as sns\n",
    "\n",
    "from sklearn import manifold\n",
    "from lime import lime_text\n",
    "\n",
    "import pandas as pd"
   ]
  },
  {
   "cell_type": "code",
   "execution_count": 6,
   "metadata": {},
   "outputs": [
    {
     "name": "stderr",
     "output_type": "stream",
     "text": [
      "C:\\Users\\munch\\anaconda3\\envs\\nlu\\lib\\site-packages\\sklearn\\manifold\\_t_sne.py:790: FutureWarning: The default learning rate in TSNE will change from 200.0 to 'auto' in 1.2.\n",
      "  warnings.warn(\n",
      "C:\\Users\\munch\\anaconda3\\envs\\nlu\\lib\\site-packages\\sklearn\\manifold\\_t_sne.py:982: FutureWarning: The PCA initialization in TSNE will change to have the standard deviation of PC1 equal to 1e-4 in 1.2. This will ensure better convergence.\n",
      "  warnings.warn(\n",
      "C:\\Users\\munch\\anaconda3\\envs\\nlu\\lib\\site-packages\\pandas\\core\\indexing.py:1732: SettingWithCopyWarning: \n",
      "A value is trying to be set on a copy of a slice from a DataFrame\n",
      "\n",
      "See the caveats in the documentation: https://pandas.pydata.org/pandas-docs/stable/user_guide/indexing.html#returning-a-view-versus-a-copy\n",
      "  self._setitem_single_block(indexer, value, name)\n"
     ]
    },
    {
     "data": {
      "image/png": "[encoded data removed]",
      "text/plain": [
       "<Figure size 432x288 with 1 Axes>"
      ]
     },
     "metadata": {
      "needs_background": "light"
     },
     "output_type": "display_data"
    }
   ],
   "source": [
    "word = \"data\"\n",
    "fig = plt.figure()\n",
    "## word embedding\n",
    "tot_words = [word] + [tupla[0] for tupla in \n",
    "                 pretrained_word2vec.most_similar(word, topn=20)]\n",
    "X = pretrained_word2vec[tot_words]\n",
    "## pca to reduce dimensionality from 300 to 3\n",
    "pca = manifold.TSNE(perplexity=40, n_components=3, init='pca')\n",
    "X = pca.fit_transform(X)\n",
    "## create dtf\n",
    "dtf_ = pd.DataFrame(X, index=tot_words, columns=[\"x\",\"y\",\"z\"])\n",
    "dtf_[\"input\"] = 0\n",
    "dtf_[\"input\"].iloc[0:1] = 1\n",
    "## plot 3d\n",
    "from mpl_toolkits.mplot3d import Axes3D\n",
    "ax = fig.add_subplot(111, projection='3d')\n",
    "ax.scatter(dtf_[dtf_[\"input\"]==0]['x'], \n",
    "           dtf_[dtf_[\"input\"]==0]['y'], \n",
    "           dtf_[dtf_[\"input\"]==0]['z'], c=\"black\")\n",
    "ax.scatter(dtf_[dtf_[\"input\"]==1]['x'], \n",
    "           dtf_[dtf_[\"input\"]==1]['y'], \n",
    "           dtf_[dtf_[\"input\"]==1]['z'], c=\"red\")\n",
    "ax.set(xlabel=None, ylabel=None, zlabel=None, xticklabels=[], \n",
    "       yticklabels=[], zticklabels=[])\n",
    "for label, row in dtf_[[\"x\",\"y\",\"z\"]].iterrows():\n",
    "    x, y, z = row\n",
    "    ax.text(x, y, z, s=label)"
   ]
  },
  {
   "cell_type": "code",
   "execution_count": 7,
   "metadata": {},
   "outputs": [],
   "source": [
    "X = df[\"Text\"].values\n",
    "y = df[\"Type\"].values"
   ]
  },
  {
   "cell_type": "code",
   "execution_count": 105,
   "metadata": {},
   "outputs": [],
   "source": [
    "#from sklearn.model_selection import train_test_split\n",
    "\n",
    "#X_train, X_test, y_train, y_test = train_test_split(X, y, test_size = 0.2, random_state = 42, stratify=y)"
   ]
  },
  {
   "cell_type": "code",
   "execution_count": 8,
   "metadata": {},
   "outputs": [],
   "source": [
    "from keras.preprocessing.text import Tokenizer\n",
    "\n",
    "tokenizer = Tokenizer()\n",
    "tokenizer.fit_on_texts(X)"
   ]
  },
  {
   "cell_type": "code",
   "execution_count": 9,
   "metadata": {},
   "outputs": [],
   "source": [
    "dic_vocabulary = tokenizer.word_index\n",
    "\n",
    "## create sequence\n",
    "lst_text2seq = tokenizer.texts_to_sequences(X)\n",
    "\n",
    "## padding sequence\n",
    "from keras.preprocessing.sequence import pad_sequences\n",
    "\n",
    "maxLen = 150\n",
    "X_indices = pad_sequences(lst_text2seq, maxlen=maxLen, padding=\"post\")"
   ]
  },
  {
   "cell_type": "code",
   "execution_count": 10,
   "metadata": {},
   "outputs": [
    {
     "name": "stdout",
     "output_type": "stream",
     "text": [
      "Largest length of text: 890\n",
      "Average length of text: 111.38539325842697\n"
     ]
    }
   ],
   "source": [
    "max_len = len(lst_text2seq)\n",
    "total = 0\n",
    "count = 0\n",
    "for ls in lst_text2seq:\n",
    "    if len(ls) > max_len:\n",
    "        max_len = len(ls)\n",
    "    total += len(ls)\n",
    "    count += 1\n",
    "print(f\"Largest length of text: {max_len}\")\n",
    "print(f\"Average length of text: {total/count}\")"
   ]
  },
  {
   "cell_type": "code",
   "execution_count": 12,
   "metadata": {},
   "outputs": [
    {
     "data": {
      "image/png": "[encoded data removed]",
      "text/plain": [
       "<Figure size 432x288 with 1 Axes>"
      ]
     },
     "metadata": {
      "needs_background": "light"
     },
     "output_type": "display_data"
    }
   ],
   "source": [
    "sns.heatmap(X_indices==0, vmin=0, vmax=1, cbar=False)\n",
    "plt.show()"
   ]
  },
  {
   "cell_type": "code",
   "execution_count": 39,
   "metadata": {},
   "outputs": [],
   "source": [
    "## create sequence\n",
    "#X_test_indices = tokenizer.texts_to_sequences(X_test)\n",
    "\n",
    "## padding sequence\n",
    "#from keras.preprocessing.sequence import pad_sequences\n",
    "\n",
    "#maxLen = 150\n",
    "#X_test_indices = pad_sequences(X_test_indices, maxlen=maxLen, padding=\"post\")"
   ]
  },
  {
   "cell_type": "code",
   "execution_count": 13,
   "metadata": {},
   "outputs": [],
   "source": [
    "import numpy as np\n",
    "embeddings = np.zeros((len(dic_vocabulary), 300))\n",
    "\n",
    "for word, idx in dic_vocabulary.items():\n",
    "    ## update the row with vector\n",
    "    try:\n",
    "        embeddings[idx] = pretrained_word2vec[word]\n",
    "    except:\n",
    "        pass"
   ]
  },
  {
   "cell_type": "code",
   "execution_count": 14,
   "metadata": {},
   "outputs": [],
   "source": [
    "import numpy as np\n",
    "from keras.models import Sequential\n",
    "from keras.layers import Embedding\n",
    "from keras.layers import Dense\n",
    "from keras.layers import Flatten\n",
    "\n",
    "feature_extractor = Sequential()\n",
    "feature_extractor.add(Embedding(input_dim=len(dic_vocabulary), output_dim=300, input_length=maxLen, weights=[embeddings], trainable=False))\n",
    "feature_extractor.add(Flatten())\n",
    "#model.add(Dense(1, activation=\"sigmoid\"))"
   ]
  },
  {
   "cell_type": "code",
   "execution_count": 129,
   "metadata": {},
   "outputs": [
    {
     "name": "stdout",
     "output_type": "stream",
     "text": [
      "Model: \"sequential_9\"\n",
      "_________________________________________________________________\n",
      " Layer (type)                Output Shape              Param #   \n",
      "=================================================================\n",
      " embedding_9 (Embedding)     (None, 150, 300)          3647400   \n",
      "                                                                 \n",
      " flatten_9 (Flatten)         (None, 45000)             0         \n",
      "                                                                 \n",
      " dense_9 (Dense)             (None, 1)                 45001     \n",
      "                                                                 \n",
      "=================================================================\n",
      "Total params: 3,692,401\n",
      "Trainable params: 45,001\n",
      "Non-trainable params: 3,647,400\n",
      "_________________________________________________________________\n",
      "None\n"
     ]
    }
   ],
   "source": [
    "#model.compile(optimizer=\"adam\", loss=\"binary_crossentropy\", metrics=[\"accuracy\"])\n",
    "#print(model.summary())"
   ]
  },
  {
   "cell_type": "code",
   "execution_count": 30,
   "metadata": {},
   "outputs": [],
   "source": [
    "from sklearn.naive_bayes import MultinomialNB\n",
    "mnb_clf = MultinomialNB(alpha=0.84)\n",
    "\n",
    "from sklearn.svm import SVC\n",
    "svm_clf = SVC(kernel=\"rbf\", C=9.0, gamma=0.00126)\n",
    "\n",
    "from sklearn.tree import DecisionTreeClassifier\n",
    "dt_clf = DecisionTreeClassifier(max_depth=5)\n",
    "\n",
    "from sklearn.ensemble import RandomForestClassifier\n",
    "rf_clf = RandomForestClassifier(n_estimators=1000, random_state=42)\n",
    "\n",
    "from sklearn.linear_model import LogisticRegression\n",
    "log_reg_clf = LogisticRegression(solver=\"lbfgs\", random_state=42, C=96)\n",
    "\n",
    "from sklearn.ensemble import AdaBoostClassifier\n",
    "from sklearn.tree import DecisionTreeClassifier\n",
    "\n",
    "ada_clf = AdaBoostClassifier(\n",
    "    DecisionTreeClassifier(max_depth=1), n_estimators=50,\n",
    "    algorithm=\"SAMME.R\", learning_rate=0.63, random_state=42\n",
    ")"
   ]
  },
  {
   "cell_type": "code",
   "execution_count": 130,
   "metadata": {},
   "outputs": [],
   "source": [
    "#from sklearn.model_selection import StratifiedKFold\n",
    "\n",
    "#kf = StratifiedKFold(n_splits=5)"
   ]
  },
  {
   "cell_type": "code",
   "execution_count": 31,
   "metadata": {},
   "outputs": [
    {
     "data": {
      "text/plain": [
       "(890, 150)"
      ]
     },
     "execution_count": 31,
     "metadata": {},
     "output_type": "execute_result"
    }
   ],
   "source": [
    "X_indices.shape"
   ]
  },
  {
   "cell_type": "code",
   "execution_count": 32,
   "metadata": {},
   "outputs": [],
   "source": [
    "from sklearn.model_selection import StratifiedKFold\n",
    "\n",
    "kf = StratifiedKFold(n_splits=10)"
   ]
  },
  {
   "cell_type": "code",
   "execution_count": 35,
   "metadata": {
    "scrolled": true
   },
   "outputs": [
    {
     "name": "stdout",
     "output_type": "stream",
     "text": [
      "Training MultinomialNB\n",
      "Training F1 score : 0.9027431421446384\n",
      "Testing F1 score : 0.945054945054945\n",
      "Training SVC\n",
      "Training F1 score : 1.0\n",
      "Testing F1 score : 0.9302325581395349\n",
      "Training DecisionTreeClassifier\n",
      "Training F1 score : 1.0\n",
      "Testing F1 score : 0.8421052631578948\n",
      "Training RandomForestClassifier\n",
      "Training F1 score : 1.0\n",
      "Testing F1 score : 0.9411764705882352\n",
      "Training LogisticRegression\n",
      "Training F1 score : 1.0\n",
      "Testing F1 score : 0.9302325581395349\n",
      "Training AdaBoostClassifier\n",
      "Training F1 score : 1.0\n",
      "Testing F1 score : 0.9438202247191012\n",
      "Training MultinomialNB\n",
      "Training F1 score : 0.9075\n",
      "Testing F1 score : 0.9032258064516128\n",
      "Training SVC\n",
      "Training F1 score : 1.0\n",
      "Testing F1 score : 0.9318181818181818\n",
      "Training DecisionTreeClassifier\n",
      "Training F1 score : 1.0\n",
      "Testing F1 score : 0.8636363636363636\n",
      "Training RandomForestClassifier\n",
      "Training F1 score : 1.0\n",
      "Testing F1 score : 0.942528735632184\n",
      "Training LogisticRegression\n",
      "Training F1 score : 1.0\n",
      "Testing F1 score : 0.9213483146067416\n",
      "Training AdaBoostClassifier\n",
      "Training F1 score : 0.9987389659520807\n",
      "Testing F1 score : 0.9318181818181818\n",
      "Training MultinomialNB\n",
      "Training F1 score : 0.9106699751861043\n",
      "Testing F1 score : 0.8941176470588236\n",
      "Training SVC\n",
      "Training F1 score : 1.0\n",
      "Testing F1 score : 0.875\n",
      "Training DecisionTreeClassifier\n",
      "Training F1 score : 0.9961977186311787\n",
      "Testing F1 score : 0.7710843373493976\n",
      "Training RandomForestClassifier\n",
      "Training F1 score : 1.0\n",
      "Testing F1 score : 0.8311688311688312\n",
      "Training LogisticRegression\n",
      "Training F1 score : 1.0\n",
      "Testing F1 score : 0.9156626506024097\n",
      "Training AdaBoostClassifier\n",
      "Training F1 score : 0.9937264742785445\n",
      "Testing F1 score : 0.9024390243902439\n",
      "Training MultinomialNB\n",
      "Training F1 score : 0.9179104477611939\n",
      "Testing F1 score : 0.8181818181818182\n",
      "Training SVC\n",
      "Training F1 score : 0.9987389659520807\n",
      "Testing F1 score : 0.8641975308641975\n",
      "Training DecisionTreeClassifier\n",
      "Training F1 score : 0.9987389659520807\n",
      "Testing F1 score : 0.7560975609756098\n",
      "Training RandomForestClassifier\n",
      "Training F1 score : 1.0\n",
      "Testing F1 score : 0.846153846153846\n",
      "Training LogisticRegression\n",
      "Training F1 score : 1.0\n",
      "Testing F1 score : 0.9176470588235294\n",
      "Training AdaBoostClassifier\n",
      "Training F1 score : 0.9873737373737373\n",
      "Testing F1 score : 0.8941176470588236\n",
      "Training MultinomialNB\n",
      "Training F1 score : 0.9113607990012484\n",
      "Testing F1 score : 0.8636363636363636\n",
      "Training SVC\n",
      "Training F1 score : 1.0\n",
      "Testing F1 score : 0.9047619047619048\n",
      "Training DecisionTreeClassifier\n",
      "Training F1 score : 1.0\n",
      "Testing F1 score : 0.8764044943820225\n",
      "Training RandomForestClassifier\n",
      "Training F1 score : 1.0\n",
      "Testing F1 score : 0.9156626506024097\n",
      "Training LogisticRegression\n",
      "Training F1 score : 1.0\n",
      "Testing F1 score : 0.9302325581395349\n",
      "Training AdaBoostClassifier\n",
      "Training F1 score : 1.0\n",
      "Testing F1 score : 0.9090909090909091\n",
      "Training MultinomialNB\n",
      "Training F1 score : 0.9081885856079405\n",
      "Testing F1 score : 0.9069767441860465\n",
      "Training SVC\n",
      "Training F1 score : 1.0\n",
      "Testing F1 score : 0.9135802469135803\n",
      "Training DecisionTreeClassifier\n",
      "Training F1 score : 1.0\n",
      "Testing F1 score : 0.8674698795180724\n",
      "Training RandomForestClassifier\n",
      "Training F1 score : 1.0\n",
      "Testing F1 score : 0.9\n",
      "Training LogisticRegression\n",
      "Training F1 score : 1.0\n",
      "Testing F1 score : 0.9523809523809523\n",
      "Training AdaBoostClassifier\n",
      "Training F1 score : 0.9899497487437187\n",
      "Testing F1 score : 0.9397590361445783\n",
      "Training MultinomialNB\n",
      "Training F1 score : 0.9034653465346536\n",
      "Testing F1 score : 0.9411764705882352\n",
      "Training SVC\n",
      "Training F1 score : 1.0\n",
      "Testing F1 score : 0.9523809523809523\n",
      "Training DecisionTreeClassifier\n",
      "Training F1 score : 1.0\n",
      "Testing F1 score : 0.8409090909090909\n",
      "Training RandomForestClassifier\n",
      "Training F1 score : 1.0\n",
      "Testing F1 score : 0.9268292682926829\n",
      "Training LogisticRegression\n",
      "Training F1 score : 1.0\n",
      "Testing F1 score : 0.9647058823529412\n",
      "Training AdaBoostClassifier\n",
      "Training F1 score : 0.9810366624525916\n",
      "Testing F1 score : 0.9767441860465117\n",
      "Training MultinomialNB\n",
      "Training F1 score : 0.9049999999999999\n",
      "Testing F1 score : 0.9247311827956989\n",
      "Training SVC\n",
      "Training F1 score : 1.0\n",
      "Testing F1 score : 0.942528735632184\n",
      "Training DecisionTreeClassifier\n",
      "Training F1 score : 1.0\n",
      "Testing F1 score : 0.8837209302325582\n",
      "Training RandomForestClassifier\n",
      "Training F1 score : 1.0\n",
      "Testing F1 score : 0.9047619047619048\n",
      "Training LogisticRegression\n",
      "Training F1 score : 1.0\n",
      "Testing F1 score : 0.9438202247191012\n",
      "Training AdaBoostClassifier\n",
      "Training F1 score : 0.979746835443038\n",
      "Testing F1 score : 0.942528735632184\n",
      "Training MultinomialNB\n",
      "Training F1 score : 0.9049999999999999\n",
      "Testing F1 score : 0.9247311827956989\n",
      "Training SVC\n",
      "Training F1 score : 1.0\n",
      "Testing F1 score : 0.9655172413793104\n",
      "Training DecisionTreeClassifier\n",
      "Training F1 score : 1.0\n",
      "Testing F1 score : 0.8863636363636365\n",
      "Training RandomForestClassifier\n",
      "Training F1 score : 1.0\n",
      "Testing F1 score : 0.9655172413793104\n",
      "Training LogisticRegression\n",
      "Training F1 score : 1.0\n",
      "Testing F1 score : 0.9772727272727273\n",
      "Training AdaBoostClassifier\n",
      "Training F1 score : 0.9784537389100126\n",
      "Testing F1 score : 0.9347826086956522\n",
      "Training MultinomialNB\n"
     ]
    },
    {
     "name": "stderr",
     "output_type": "stream",
     "text": [
      "C:\\Users\\munch\\anaconda3\\envs\\nlu\\lib\\site-packages\\sklearn\\naive_bayes.py:555: UserWarning: alpha too small will result in numeric errors, setting alpha = 1.0e-10\n",
      "  warnings.warn(\n",
      "C:\\Users\\munch\\anaconda3\\envs\\nlu\\lib\\site-packages\\sklearn\\naive_bayes.py:555: UserWarning: alpha too small will result in numeric errors, setting alpha = 1.0e-10\n",
      "  warnings.warn(\n",
      "C:\\Users\\munch\\anaconda3\\envs\\nlu\\lib\\site-packages\\sklearn\\naive_bayes.py:555: UserWarning: alpha too small will result in numeric errors, setting alpha = 1.0e-10\n",
      "  warnings.warn(\n",
      "C:\\Users\\munch\\anaconda3\\envs\\nlu\\lib\\site-packages\\sklearn\\naive_bayes.py:555: UserWarning: alpha too small will result in numeric errors, setting alpha = 1.0e-10\n",
      "  warnings.warn(\n",
      "C:\\Users\\munch\\anaconda3\\envs\\nlu\\lib\\site-packages\\sklearn\\naive_bayes.py:555: UserWarning: alpha too small will result in numeric errors, setting alpha = 1.0e-10\n",
      "  warnings.warn(\n",
      "C:\\Users\\munch\\anaconda3\\envs\\nlu\\lib\\site-packages\\sklearn\\naive_bayes.py:555: UserWarning: alpha too small will result in numeric errors, setting alpha = 1.0e-10\n",
      "  warnings.warn(\n"
     ]
    },
    {
     "name": "stdout",
     "output_type": "stream",
     "text": [
      "Training F1 score : 0.9063670411985019\n",
      "Testing F1 score : 0.9213483146067416\n",
      "Training SVC\n",
      "Training F1 score : 1.0\n",
      "Testing F1 score : 0.9195402298850575\n",
      "Training DecisionTreeClassifier\n",
      "Training F1 score : 1.0\n",
      "Testing F1 score : 0.8421052631578948\n",
      "Training RandomForestClassifier\n",
      "Training F1 score : 1.0\n",
      "Testing F1 score : 0.9047619047619048\n",
      "Training LogisticRegression\n",
      "Training F1 score : 1.0\n",
      "Testing F1 score : 0.9438202247191012\n",
      "Training AdaBoostClassifier\n",
      "Training F1 score : 1.0\n",
      "Testing F1 score : 0.9285714285714285\n",
      "Wall time: 3h 19min\n"
     ]
    }
   ],
   "source": [
    "%%time\n",
    "from sklearn.metrics import accuracy_score, f1_score, precision_score, recall_score, roc_auc_score\n",
    "import numpy as np\n",
    "from scipy.stats import reciprocal\n",
    "from sklearn.model_selection import RandomizedSearchCV\n",
    "from scipy.stats import reciprocal, uniform\n",
    "\n",
    "np.random.seed(42)\n",
    "\n",
    "#scores_nn = {'train_acc':[], 'test_acc':[], 'train_f1':[], 'test_f1':[], 'train_precision':[], 'test_precision':[], 'train_recall':[], 'test_recall':[], 'train_auc':[], 'test_auc':[]}\n",
    "\n",
    "scores_mnb = {'train_acc':[], 'test_acc':[], 'train_f1':[], 'test_f1':[], 'train_precision':[], 'test_precision':[], 'train_recall':[], 'test_recall':[], 'train_auc':[], 'test_auc':[]}\n",
    "scores_svm = {'train_acc':[], 'test_acc':[], 'train_f1':[], 'test_f1':[], 'train_precision':[], 'test_precision':[], 'train_recall':[], 'test_recall':[], 'train_auc':[], 'test_auc':[]}\n",
    "scores_dt = {'train_acc':[], 'test_acc':[], 'train_f1':[], 'test_f1':[], 'train_precision':[], 'test_precision':[], 'train_recall':[], 'test_recall':[], 'train_auc':[], 'test_auc':[]}\n",
    "scores_rf = {'train_acc':[], 'test_acc':[], 'train_f1':[], 'test_f1':[], 'train_precision':[], 'test_precision':[], 'train_recall':[], 'test_recall':[], 'train_auc':[], 'test_auc':[]}\n",
    "scores_log_reg = {'train_acc':[], 'test_acc':[], 'train_f1':[], 'test_f1':[], 'train_precision':[], 'test_precision':[], 'train_recall':[], 'test_recall':[], 'train_auc':[], 'test_auc':[]}\n",
    "scores_ada = {'train_acc':[], 'test_acc':[], 'train_f1':[], 'test_f1':[], 'train_precision':[], 'test_precision':[], 'train_recall':[], 'test_recall':[], 'train_auc':[], 'test_auc':[]}\n",
    "\n",
    "lookup_clf = {0:scores_mnb, 1:scores_svm, 2:scores_dt, 3:scores_rf, 4:scores_log_reg, 5:scores_ada}\n",
    "\n",
    "param_distributions_mnb = {'alpha': np.linspace(0, 2, 20), 'fit_prior': [True, False]}\n",
    "param_distributions_svm = {\"gamma\": reciprocal(0.001, 0.1), \"C\": uniform(1, 10)}\n",
    "param_distributions_dt = {\"max_depth\": uniform(5, 30)}\n",
    "param_distributions_rf = {\"n_estimators\": np.arange(5, 100)}\n",
    "param_distributions_log = {\"C\": uniform(0.01, 100)}\n",
    "param_distributions_ada = {\"learning_rate\": uniform(0.1, 2)}\n",
    "\n",
    "param_distributions = [param_distributions_mnb, param_distributions_svm, param_distributions_dt, param_distributions_rf, param_distributions_log, param_distributions_ada]\n",
    "\n",
    "\n",
    "for train_index, test_index in kf.split(X_indices, y):\n",
    "    X_train, X_test, y_train, y_test = X_indices[train_index], X_indices[test_index], y[train_index], y[test_index]\n",
    "    \n",
    "    X_train_features = feature_extractor.predict(X_train)\n",
    "    \n",
    "    X_test_features = feature_extractor.predict(X_test)\n",
    "    \n",
    "    clf_list = [mnb_clf, svm_clf, dt_clf, rf_clf, log_reg_clf, ada_clf]\n",
    "    \n",
    "    for index, clf in enumerate(clf_list):\n",
    "        print(f\"Training {clf.__class__.__name__}\")\n",
    "        \n",
    "        if index == 0:\n",
    "            X_train_features = np.abs(X_train_features)\n",
    "            X_test_features = np.abs(X_test_features)\n",
    "        elif index == 1:\n",
    "            X_train_features = feature_extractor.predict(X_train)\n",
    "            X_test_features = feature_extractor.predict(X_test)\n",
    "        \n",
    "        rnd_search_cv = RandomizedSearchCV(clf, param_distributions[index], n_iter=5, verbose=0, cv=3)\n",
    "        \n",
    "        #if index == 5:\n",
    "        #    rnd_search_cv = RandomizedSearchCV(clf, param_distributions[index], n_iter=5, cv=3)\n",
    "        \n",
    "        rnd_search_cv.fit(X_train_features, y_train)\n",
    "        y_train_pred = rnd_search_cv.predict(X_train_features)\n",
    "        #y_train_pred = [1 if pred>0.5 else 0 for pred in y_train_pred]\n",
    "\n",
    "        y_pred = rnd_search_cv.predict(X_test_features)\n",
    "        #y_pred = [1 if pred>0.5 else 0 for pred in predicted_prob]\n",
    "        #y_train_pred = model.predict(X_train)\n",
    "        #y_train_pred = [1 if pred>0.5 else 0 for pred in y_train_pred]\n",
    "\n",
    "        #predicted_prob = model.predict(X_test)\n",
    "        #y_pred = [1 if pred>0.5 else 0 for pred in predicted_prob]\n",
    "\n",
    "        train_accuracy = accuracy_score(y_train, y_train_pred)\n",
    "        test_accuracy = accuracy_score(y_test, y_pred)\n",
    "\n",
    "        train_f1 = f1_score(y_train, y_train_pred)\n",
    "        test_f1 = f1_score(y_test, y_pred)\n",
    "        print(f\"Training F1 score : {train_f1}\")\n",
    "        print(f\"Testing F1 score : {test_f1}\")\n",
    "        \n",
    "        train_precision = precision_score(y_train, y_train_pred)\n",
    "        test_precision = precision_score(y_test, y_pred)\n",
    "\n",
    "        train_recall = recall_score(y_train, y_train_pred)\n",
    "        test_recall = recall_score(y_test, y_pred)\n",
    "\n",
    "        train_roc_auc_score = roc_auc_score(y_train, y_train_pred)\n",
    "        test_roc_auc_score = roc_auc_score(y_test, y_pred)\n",
    "        \n",
    "        scores_clf = lookup_clf[index]\n",
    "        \n",
    "        scores_clf[\"train_acc\"].append(train_accuracy)\n",
    "        scores_clf[\"test_acc\"].append(test_accuracy)\n",
    "        \n",
    "        scores_clf[\"train_f1\"].append(train_f1)\n",
    "        scores_clf[\"test_f1\"].append(test_f1)\n",
    "        \n",
    "        scores_clf[\"train_precision\"].append(train_precision)\n",
    "        scores_clf[\"test_precision\"].append(test_precision)\n",
    "        \n",
    "        scores_clf[\"train_recall\"].append(train_recall)\n",
    "        scores_clf[\"test_recall\"].append(test_recall)\n",
    "        \n",
    "        scores_clf[\"train_auc\"].append(train_roc_auc_score)\n",
    "        scores_clf[\"test_auc\"].append(test_roc_auc_score)\n",
    "        \n",
    "        '''\n",
    "        scores_clf = scores_nn\n",
    "\n",
    "        scores_clf[\"train_acc\"].append(train_accuracy)\n",
    "        scores_clf[\"test_acc\"].append(test_accuracy)\n",
    "\n",
    "        scores_clf[\"train_f1\"].append(train_f1)\n",
    "        scores_clf[\"test_f1\"].append(test_f1)\n",
    "\n",
    "        scores_clf[\"train_precision\"].append(train_precision)\n",
    "        scores_clf[\"test_precision\"].append(test_precision)\n",
    "\n",
    "        scores_clf[\"train_recall\"].append(train_recall)\n",
    "        scores_clf[\"test_recall\"].append(test_recall)\n",
    "\n",
    "        scores_clf[\"train_auc\"].append(train_roc_auc_score)\n",
    "        scores_clf[\"test_auc\"].append(test_roc_auc_score)\n",
    "        '''"
   ]
  },
  {
   "cell_type": "code",
   "execution_count": 37,
   "metadata": {},
   "outputs": [
    {
     "name": "stdout",
     "output_type": "stream",
     "text": [
      "MultinomialNB\n",
      "train_acc: 0.9076154806491885\n",
      "test_acc: 0.9044943820224719\n",
      "train_f1: 0.9078205337434281\n",
      "test_f1: 0.9043180475355984\n",
      "train_precision: 0.8957889512218769\n",
      "test_precision: 0.8951078260871426\n",
      "train_recall: 0.9202020202020202\n",
      "test_recall: 0.9159090909090909\n",
      "train_auc: 0.9077553310886644\n",
      "test_auc: 0.9046212121212122\n",
      "\n",
      "SVC\n",
      "train_acc: 0.9998751560549314\n",
      "test_acc: 0.9247191011235955\n",
      "train_f1: 0.9998738965952081\n",
      "test_f1: 0.9199557581774903\n",
      "train_precision: 0.9997481108312343\n",
      "test_precision: 0.9612832418646372\n",
      "train_recall: 1.0\n",
      "test_recall: 0.884090909090909\n",
      "train_auc: 0.9998765432098765\n",
      "test_auc: 0.9242676767676767\n",
      "\n",
      "DecisionTreeClassifier\n",
      "train_acc: 0.9995006242197253\n",
      "test_acc: 0.8460674157303371\n",
      "train_f1: 0.999493668458326\n",
      "test_f1: 0.8429896819682541\n",
      "train_precision: 0.9997481108312343\n",
      "test_precision: 0.8490344330592009\n",
      "train_recall: 0.9992424242424243\n",
      "test_recall: 0.8409090909090909\n",
      "train_auc: 0.9994977553310886\n",
      "test_auc: 0.846010101010101\n",
      "\n",
      "RandomForestClassifier\n",
      "train_acc: 1.0\n",
      "test_acc: 0.9157303370786517\n",
      "train_f1: 1.0\n",
      "test_f1: 0.9078560853341309\n",
      "train_precision: 1.0\n",
      "test_precision: 0.9720486493587157\n",
      "train_recall: 1.0\n",
      "test_recall: 0.8545454545454545\n",
      "train_auc: 1.0\n",
      "test_auc: 0.9150505050505051\n",
      "\n",
      "LogisticRegression\n",
      "train_acc: 1.0\n",
      "test_acc: 0.9415730337078652\n",
      "train_f1: 1.0\n",
      "test_f1: 0.9397123151756573\n",
      "train_precision: 1.0\n",
      "test_precision: 0.9585390896366506\n",
      "train_recall: 1.0\n",
      "test_recall: 0.9227272727272727\n",
      "train_auc: 1.0\n",
      "test_auc: 0.9413636363636364\n",
      "\n",
      "AdaBoostClassifier\n",
      "train_acc: 0.9910112359550561\n",
      "test_acc: 0.9325842696629213\n",
      "train_f1: 0.9909026163153724\n",
      "test_f1: 0.9303671982167614\n",
      "train_precision: 0.9904086296472029\n",
      "test_precision: 0.9499077608487779\n",
      "train_recall: 0.9914141414141414\n",
      "test_recall: 0.9136363636363636\n",
      "train_auc: 0.9910157126823793\n",
      "test_auc: 0.9323737373737373\n",
      "\n"
     ]
    }
   ],
   "source": [
    "import statistics\n",
    "clf_list = [mnb_clf, svm_clf, dt_clf, rf_clf, log_reg_clf, ada_clf]\n",
    "ls = [\"train_acc\", \"test_acc\"]\n",
    "for index, scores_clf in lookup_clf.items():\n",
    "    clf_class = clf_list[index].__class__.__name__\n",
    "    print(f\"{clf_class}\")\n",
    "    for key, item in scores_clf.items():\n",
    "        mean = statistics.mean(item)\n",
    "        print(f\"{key}: {mean}\")\n",
    "    print()"
   ]
  },
  {
   "cell_type": "code",
   "execution_count": 133,
   "metadata": {},
   "outputs": [
    {
     "name": "stdout",
     "output_type": "stream",
     "text": [
      "train_acc: 1.0\n",
      "test_acc: 0.9876404494382023\n",
      "train_f1: 1.0\n",
      "test_f1: 0.9874285714285714\n",
      "train_precision: 1.0\n",
      "test_precision: 0.9885057471264368\n",
      "train_recall: 1.0\n",
      "test_recall: 0.9863636363636363\n",
      "train_auc: 1.0\n",
      "test_auc: 0.9876262626262626\n"
     ]
    }
   ],
   "source": [
    "import statistics\n",
    "for key, item in scores_nn.items():\n",
    "    mean = statistics.mean(item)\n",
    "    print(f\"{key}: {mean}\")"
   ]
  },
  {
   "cell_type": "code",
   "execution_count": 134,
   "metadata": {},
   "outputs": [
    {
     "data": {
      "text/plain": [
       "[1.0, 1.0, 1.0, 1.0, 1.0]"
      ]
     },
     "execution_count": 134,
     "metadata": {},
     "output_type": "execute_result"
    }
   ],
   "source": [
    "scores_nn[\"train_acc\"]"
   ]
  },
  {
   "cell_type": "code",
   "execution_count": 53,
   "metadata": {},
   "outputs": [
    {
     "name": "stdout",
     "output_type": "stream",
     "text": [
      "6/6 [==============================] - 0s 3ms/step - loss: 0.2409 - accuracy: 0.9438\n"
     ]
    },
    {
     "data": {
      "text/plain": [
       "[0.2408781796693802, 0.9438202381134033]"
      ]
     },
     "execution_count": 53,
     "metadata": {},
     "output_type": "execute_result"
    }
   ],
   "source": [
    "X_test_indices = tokenizer.texts_to_sequences(X_test)\n",
    "\n",
    "X_test_indices = pad_sequences(X_test_indices, maxlen=maxLen, padding='post')\n",
    "model.evaluate(X_test_indices, y_test)"
   ]
  },
  {
   "cell_type": "code",
   "execution_count": 58,
   "metadata": {},
   "outputs": [
    {
     "name": "stdout",
     "output_type": "stream",
     "text": [
      "28/28 [==============================] - 0s 4ms/step - loss: 0.3762 - accuracy: 0.8742\n"
     ]
    },
    {
     "data": {
      "text/plain": [
       "<keras.callbacks.History at 0x1f509e9e340>"
      ]
     },
     "execution_count": 58,
     "metadata": {},
     "output_type": "execute_result"
    }
   ],
   "source": [
    "model.fit(X_indices, y)"
   ]
  },
  {
   "cell_type": "code",
   "execution_count": null,
   "metadata": {},
   "outputs": [],
   "source": []
  }
 ],
 "metadata": {
  "kernelspec": {
   "display_name": "Python 3",
   "language": "python",
   "name": "python3"
  },
  "language_info": {
   "codemirror_mode": {
    "name": "ipython",
    "version": 3
   },
   "file_extension": ".py",
   "mimetype": "text/x-python",
   "name": "python",
   "nbconvert_exporter": "python",
   "pygments_lexer": "ipython3",
   "version": "3.8.5"
  }
 },
 "nbformat": 4,
 "nbformat_minor": 4
}
