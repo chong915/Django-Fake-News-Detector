{
 "cells": [
  {
   "cell_type": "code",
   "execution_count": 1,
   "metadata": {},
   "outputs": [
    {
     "data": {
      "text/html": [
       "<div>\n",
       "<style scoped>\n",
       "    .dataframe tbody tr th:only-of-type {\n",
       "        vertical-align: middle;\n",
       "    }\n",
       "\n",
       "    .dataframe tbody tr th {\n",
       "        vertical-align: top;\n",
       "    }\n",
       "\n",
       "    .dataframe thead th {\n",
       "        text-align: right;\n",
       "    }\n",
       "</style>\n",
       "<table border=\"1\" class=\"dataframe\">\n",
       "  <thead>\n",
       "    <tr style=\"text-align: right;\">\n",
       "      <th></th>\n",
       "      <th>Month</th>\n",
       "      <th>Text</th>\n",
       "      <th>Type</th>\n",
       "    </tr>\n",
       "  </thead>\n",
       "  <tbody>\n",
       "    <tr>\n",
       "      <th>0</th>\n",
       "      <td>Feb,20</td>\n",
       "      <td>kuala lumpur tourism art culture ministry focu...</td>\n",
       "      <td>0</td>\n",
       "    </tr>\n",
       "    <tr>\n",
       "      <th>1</th>\n",
       "      <td>Feb,20</td>\n",
       "      <td>kuching sarawak record four new patient invest...</td>\n",
       "      <td>0</td>\n",
       "    </tr>\n",
       "    <tr>\n",
       "      <th>2</th>\n",
       "      <td>Feb,20</td>\n",
       "      <td>johor baru police open investigation paper spr...</td>\n",
       "      <td>0</td>\n",
       "    </tr>\n",
       "    <tr>\n",
       "      <th>3</th>\n",
       "      <td>Feb,20</td>\n",
       "      <td>johor baru malaysian love like red red rise bl...</td>\n",
       "      <td>0</td>\n",
       "    </tr>\n",
       "    <tr>\n",
       "      <th>4</th>\n",
       "      <td>Feb,20</td>\n",
       "      <td>petaling jaya one day least love trump even an...</td>\n",
       "      <td>0</td>\n",
       "    </tr>\n",
       "    <tr>\n",
       "      <th>...</th>\n",
       "      <td>...</td>\n",
       "      <td>...</td>\n",
       "      <td>...</td>\n",
       "    </tr>\n",
       "    <tr>\n",
       "      <th>885</th>\n",
       "      <td>Nov,20</td>\n",
       "      <td>najib loot rm billion bond epf pas rm billion ...</td>\n",
       "      <td>1</td>\n",
       "    </tr>\n",
       "    <tr>\n",
       "      <th>886</th>\n",
       "      <td>Nov,20</td>\n",
       "      <td>regret inform kelantan state ministry health t...</td>\n",
       "      <td>1</td>\n",
       "    </tr>\n",
       "    <tr>\n",
       "      <th>887</th>\n",
       "      <td>Nov,20</td>\n",
       "      <td>due influence majority malaysian face salary p...</td>\n",
       "      <td>1</td>\n",
       "    </tr>\n",
       "    <tr>\n",
       "      <th>888</th>\n",
       "      <td>Nov,20</td>\n",
       "      <td>oldtown curry noodle restaurant rumor contain ...</td>\n",
       "      <td>1</td>\n",
       "    </tr>\n",
       "    <tr>\n",
       "      <th>889</th>\n",
       "      <td>Nov,20</td>\n",
       "      <td>peace upon please meet return kuala ketil hall...</td>\n",
       "      <td>1</td>\n",
       "    </tr>\n",
       "  </tbody>\n",
       "</table>\n",
       "<p>890 rows × 3 columns</p>\n",
       "</div>"
      ],
      "text/plain": [
       "      Month                                               Text  Type\n",
       "0    Feb,20  kuala lumpur tourism art culture ministry focu...     0\n",
       "1    Feb,20  kuching sarawak record four new patient invest...     0\n",
       "2    Feb,20  johor baru police open investigation paper spr...     0\n",
       "3    Feb,20  johor baru malaysian love like red red rise bl...     0\n",
       "4    Feb,20  petaling jaya one day least love trump even an...     0\n",
       "..      ...                                                ...   ...\n",
       "885  Nov,20  najib loot rm billion bond epf pas rm billion ...     1\n",
       "886  Nov,20  regret inform kelantan state ministry health t...     1\n",
       "887  Nov,20  due influence majority malaysian face salary p...     1\n",
       "888  Nov,20  oldtown curry noodle restaurant rumor contain ...     1\n",
       "889  Nov,20  peace upon please meet return kuala ketil hall...     1\n",
       "\n",
       "[890 rows x 3 columns]"
      ]
     },
     "execution_count": 1,
     "metadata": {},
     "output_type": "execute_result"
    }
   ],
   "source": [
    "import pandas as pd\n",
    "\n",
    "df = pd.read_pickle(\"data_clean.pkl\")\n",
    "dict = {'Real': 0, 'Fake': 1}\n",
    "df[\"Type\"] = df[\"Type\"].map(dict)\n",
    "df"
   ]
  },
  {
   "cell_type": "code",
   "execution_count": 2,
   "metadata": {},
   "outputs": [],
   "source": [
    "X = df[[\"Month\", \"Text\"]]\n",
    "y = df[\"Type\"].values"
   ]
  },
  {
   "cell_type": "code",
   "execution_count": 3,
   "metadata": {},
   "outputs": [],
   "source": [
    "#from sklearn.model_selection import train_test_split\n",
    "#X_train, X_val, y_train, y_val = train_test_split(X, y, test_size = 0.3, random_state = 42, stratify=y)"
   ]
  },
  {
   "cell_type": "code",
   "execution_count": 3,
   "metadata": {},
   "outputs": [],
   "source": [
    "from sklearn.base import TransformerMixin\n",
    "from sklearn.base import BaseEstimator\n",
    "from sklearn.feature_extraction import text\n",
    "from sklearn.feature_extraction.text import CountVectorizer\n",
    "\n",
    "# Stop words\n",
    "stop_words = text.ENGLISH_STOP_WORDS\n",
    "\n",
    "class BagOfWordsTransformer(TransformerMixin, BaseEstimator):\n",
    "    def __init__(self, verbose=False, ngram=1):\n",
    "        self.verbose = verbose\n",
    "        self.ngram=ngram\n",
    "        self.cv = CountVectorizer(stop_words=stop_words, ngram_range=(self.ngram, self.ngram), min_df=0.01)\n",
    "    def fit(self, X, y=None):\n",
    "        if(self.verbose):\n",
    "            print(\"Verbose mode on!\")\n",
    "        self.cv.fit(X.Text)\n",
    "        return self\n",
    "    def transform(self, X):\n",
    "        data_cv = self.cv.transform(X.Text)\n",
    "        dtm = pd.DataFrame(data_cv.toarray(), columns=self.cv.get_feature_names())\n",
    "        dtm.index = X.index\n",
    "        return dtm"
   ]
  },
  {
   "cell_type": "code",
   "execution_count": 4,
   "metadata": {},
   "outputs": [],
   "source": [
    "from sklearn.pipeline import Pipeline\n",
    "\n",
    "bow_pipeline = Pipeline([\n",
    "    ('bow_vectorizer', BagOfWordsTransformer(ngram=1)),\n",
    "])"
   ]
  },
  {
   "cell_type": "code",
   "execution_count": 5,
   "metadata": {},
   "outputs": [
    {
     "name": "stderr",
     "output_type": "stream",
     "text": [
      "C:\\Users\\munch\\anaconda3\\envs\\nlu\\lib\\site-packages\\sklearn\\utils\\deprecation.py:87: FutureWarning: Function get_feature_names is deprecated; get_feature_names is deprecated in 1.0 and will be removed in 1.2. Please use get_feature_names_out instead.\n",
      "  warnings.warn(msg, category=FutureWarning)\n"
     ]
    }
   ],
   "source": [
    "#X_train = bow_pipeline.fit_transform(X_train)\n",
    "#X_val = bow_pipeline.transform(X_val)\n",
    "\n",
    "X = bow_pipeline.fit_transform(X)"
   ]
  },
  {
   "cell_type": "code",
   "execution_count": 6,
   "metadata": {},
   "outputs": [
    {
     "data": {
      "text/plain": [
       "(890, 1355)"
      ]
     },
     "execution_count": 6,
     "metadata": {},
     "output_type": "execute_result"
    }
   ],
   "source": [
    "X.shape"
   ]
  },
  {
   "cell_type": "code",
   "execution_count": 7,
   "metadata": {},
   "outputs": [
    {
     "data": {
      "text/html": [
       "<div>\n",
       "<style scoped>\n",
       "    .dataframe tbody tr th:only-of-type {\n",
       "        vertical-align: middle;\n",
       "    }\n",
       "\n",
       "    .dataframe tbody tr th {\n",
       "        vertical-align: top;\n",
       "    }\n",
       "\n",
       "    .dataframe thead th {\n",
       "        text-align: right;\n",
       "    }\n",
       "</style>\n",
       "<table border=\"1\" class=\"dataframe\">\n",
       "  <thead>\n",
       "    <tr style=\"text-align: right;\">\n",
       "      <th></th>\n",
       "      <th>abd</th>\n",
       "      <th>abdul</th>\n",
       "      <th>abdullah</th>\n",
       "      <th>abide</th>\n",
       "      <th>able</th>\n",
       "      <th>abroad</th>\n",
       "      <th>abu</th>\n",
       "      <th>accept</th>\n",
       "      <th>access</th>\n",
       "      <th>accommodation</th>\n",
       "      <th>...</th>\n",
       "      <th>yang</th>\n",
       "      <th>yassin</th>\n",
       "      <th>year</th>\n",
       "      <th>yellow</th>\n",
       "      <th>yes</th>\n",
       "      <th>yesterday</th>\n",
       "      <th>young</th>\n",
       "      <th>youth</th>\n",
       "      <th>yusof</th>\n",
       "      <th>zone</th>\n",
       "    </tr>\n",
       "  </thead>\n",
       "  <tbody>\n",
       "    <tr>\n",
       "      <th>0</th>\n",
       "      <td>0</td>\n",
       "      <td>0</td>\n",
       "      <td>0</td>\n",
       "      <td>0</td>\n",
       "      <td>0</td>\n",
       "      <td>0</td>\n",
       "      <td>0</td>\n",
       "      <td>0</td>\n",
       "      <td>0</td>\n",
       "      <td>0</td>\n",
       "      <td>...</td>\n",
       "      <td>0</td>\n",
       "      <td>0</td>\n",
       "      <td>3</td>\n",
       "      <td>0</td>\n",
       "      <td>0</td>\n",
       "      <td>0</td>\n",
       "      <td>0</td>\n",
       "      <td>0</td>\n",
       "      <td>0</td>\n",
       "      <td>0</td>\n",
       "    </tr>\n",
       "    <tr>\n",
       "      <th>1</th>\n",
       "      <td>0</td>\n",
       "      <td>0</td>\n",
       "      <td>0</td>\n",
       "      <td>0</td>\n",
       "      <td>0</td>\n",
       "      <td>0</td>\n",
       "      <td>0</td>\n",
       "      <td>0</td>\n",
       "      <td>0</td>\n",
       "      <td>0</td>\n",
       "      <td>...</td>\n",
       "      <td>0</td>\n",
       "      <td>0</td>\n",
       "      <td>0</td>\n",
       "      <td>0</td>\n",
       "      <td>0</td>\n",
       "      <td>0</td>\n",
       "      <td>0</td>\n",
       "      <td>0</td>\n",
       "      <td>0</td>\n",
       "      <td>0</td>\n",
       "    </tr>\n",
       "  </tbody>\n",
       "</table>\n",
       "<p>2 rows × 1355 columns</p>\n",
       "</div>"
      ],
      "text/plain": [
       "   abd  abdul  abdullah  abide  able  abroad  abu  accept  access  \\\n",
       "0    0      0         0      0     0       0    0       0       0   \n",
       "1    0      0         0      0     0       0    0       0       0   \n",
       "\n",
       "   accommodation  ...  yang  yassin  year  yellow  yes  yesterday  young  \\\n",
       "0              0  ...     0       0     3       0    0          0      0   \n",
       "1              0  ...     0       0     0       0    0          0      0   \n",
       "\n",
       "   youth  yusof  zone  \n",
       "0      0      0     0  \n",
       "1      0      0     0  \n",
       "\n",
       "[2 rows x 1355 columns]"
      ]
     },
     "execution_count": 7,
     "metadata": {},
     "output_type": "execute_result"
    }
   ],
   "source": [
    "X.iloc[[0,1]]"
   ]
  },
  {
   "cell_type": "markdown",
   "metadata": {},
   "source": [
    "## Ensemble Model"
   ]
  },
  {
   "cell_type": "code",
   "execution_count": 13,
   "metadata": {},
   "outputs": [],
   "source": [
    "from sklearn.naive_bayes import MultinomialNB\n",
    "mnb_clf = MultinomialNB(alpha=0.84)\n",
    "\n",
    "from sklearn.svm import SVC\n",
    "svm_clf = SVC(kernel=\"rbf\", C=9.0, gamma=0.00126)\n",
    "\n",
    "from sklearn.tree import DecisionTreeClassifier\n",
    "dt_clf = DecisionTreeClassifier(max_depth=5)\n",
    "\n",
    "from sklearn.ensemble import RandomForestClassifier\n",
    "rf_clf = RandomForestClassifier(n_estimators=1000, random_state=42)\n",
    "\n",
    "from sklearn.linear_model import LogisticRegression\n",
    "log_reg_clf = LogisticRegression(solver=\"lbfgs\", random_state=42, C=96)\n",
    "\n",
    "from sklearn.ensemble import AdaBoostClassifier\n",
    "from sklearn.tree import DecisionTreeClassifier\n",
    "\n",
    "ada_clf = AdaBoostClassifier(\n",
    "    DecisionTreeClassifier(max_depth=1), n_estimators=200,\n",
    "    algorithm=\"SAMME.R\", learning_rate=0.63, random_state=42\n",
    ")"
   ]
  },
  {
   "cell_type": "code",
   "execution_count": 14,
   "metadata": {},
   "outputs": [],
   "source": [
    "from sklearn.ensemble import VotingClassifier\n",
    "hard_voting_clf = VotingClassifier(\n",
    "    estimators=[\n",
    "        ('mnb', mnb_clf),\n",
    "        ('svm', svm_clf),\n",
    "        ('dt', dt_clf),\n",
    "        ('rf', rf_clf),\n",
    "        ('log_reg', log_reg_clf),\n",
    "        ('adaboost', ada_clf)\n",
    "    ],\n",
    "    voting='hard'\n",
    ")\n",
    "#hard_voting_clf.fit(X_train, y_train)"
   ]
  },
  {
   "cell_type": "code",
   "execution_count": 15,
   "metadata": {},
   "outputs": [],
   "source": [
    "from sklearn.model_selection import StratifiedKFold\n",
    "\n",
    "kf = StratifiedKFold(n_splits=10)"
   ]
  },
  {
   "cell_type": "code",
   "execution_count": 16,
   "metadata": {},
   "outputs": [
    {
     "name": "stdout",
     "output_type": "stream",
     "text": [
      "[ 45  46  47  48  49  50  51  52  53  54  55  56  57  58  59  60  61  62\n",
      "  63  64  65  66  67  68  69  70  71  72  73  74  75  76  77  78  79  80\n",
      "  81  82  83  84  85  86  87  88  89  90  91  92  93  94  95  96  97  98\n",
      "  99 100 101 102 103 104 105 106 107 108 109 110 111 112 113 114 115 116\n",
      " 117 118 119 120 121 122 123 124 125 126 127 128 129 130 131 132 133 134\n",
      " 135 136 137 138 139 140 141 142 143 144 145 146 147 148 149 150 151 152\n",
      " 153 154 155 156 157 158 159 160 161 162 163 164 165 166 167 168 169 170\n",
      " 171 172 173 174 175 176 177 178 179 180 181 182 183 184 185 186 187 188\n",
      " 189 190 191 192 193 194 195 196 197 198 199 200 201 202 203 204 205 206\n",
      " 207 208 209 210 211 212 213 214 215 216 217 218 219 220 221 222 223 224\n",
      " 225 226 227 228 229 230 231 232 233 234 235 236 237 238 239 240 241 242\n",
      " 243 244 245 246 247 248 249 250 251 252 253 254 255 256 257 258 259 260\n",
      " 261 262 263 264 265 266 267 268 269 270 271 272 273 274 275 276 277 278\n",
      " 279 280 281 282 283 284 285 286 287 288 289 290 291 292 293 294 295 296\n",
      " 297 298 299 300 301 302 303 304 305 306 307 308 309 310 311 312 313 314\n",
      " 315 316 317 318 319 320 321 322 323 324 325 326 327 328 329 330 331 332\n",
      " 333 334 335 336 337 338 339 340 341 342 343 344 345 346 347 348 349 350\n",
      " 351 352 353 354 355 356 357 358 359 360 361 362 363 364 365 366 367 368\n",
      " 369 370 371 372 373 374 375 376 377 378 379 380 381 382 383 384 385 386\n",
      " 387 388 389 390 391 392 393 394 395 396 397 398 399 400 401 402 403 404\n",
      " 405 406 407 408 409 410 411 412 413 414 415 416 417 418 419 420 421 422\n",
      " 423 424 425 426 427 428 429 430 431 432 433 434 435 436 437 438 439 440\n",
      " 441 442 443 444 445 446 447 448 449 494 495 496 497 498 499 500 501 502\n",
      " 503 504 505 506 507 508 509 510 511 512 513 514 515 516 517 518 519 520\n",
      " 521 522 523 524 525 526 527 528 529 530 531 532 533 534 535 536 537 538\n",
      " 539 540 541 542 543 544 545 546 547 548 549 550 551 552 553 554 555 556\n",
      " 557 558 559 560 561 562 563 564 565 566 567 568 569 570 571 572 573 574\n",
      " 575 576 577 578 579 580 581 582 583 584 585 586 587 588 589 590 591 592\n",
      " 593 594 595 596 597 598 599 600 601 602 603 604 605 606 607 608 609 610\n",
      " 611 612 613 614 615 616 617 618 619 620 621 622 623 624 625 626 627 628\n",
      " 629 630 631 632 633 634 635 636 637 638 639 640 641 642 643 644 645 646\n",
      " 647 648 649 650 651 652 653 654 655 656 657 658 659 660 661 662 663 664\n",
      " 665 666 667 668 669 670 671 672 673 674 675 676 677 678 679 680 681 682\n",
      " 683 684 685 686 687 688 689 690 691 692 693 694 695 696 697 698 699 700\n",
      " 701 702 703 704 705 706 707 708 709 710 711 712 713 714 715 716 717 718\n",
      " 719 720 721 722 723 724 725 726 727 728 729 730 731 732 733 734 735 736\n",
      " 737 738 739 740 741 742 743 744 745 746 747 748 749 750 751 752 753 754\n",
      " 755 756 757 758 759 760 761 762 763 764 765 766 767 768 769 770 771 772\n",
      " 773 774 775 776 777 778 779 780 781 782 783 784 785 786 787 788 789 790\n",
      " 791 792 793 794 795 796 797 798 799 800 801 802 803 804 805 806 807 808\n",
      " 809 810 811 812 813 814 815 816 817 818 819 820 821 822 823 824 825 826\n",
      " 827 828 829 830 831 832 833 834 835 836 837 838 839 840 841 842 843 844\n",
      " 845 846 847 848 849 850 851 852 853 854 855 856 857 858 859 860 861 862\n",
      " 863 864 865 866 867 868 869 870 871 872 873 874 875 876 877 878 879 880\n",
      " 881 882 883 884 885 886 887 888 889]\n",
      "[  0   1   2   3   4   5   6   7   8   9  10  11  12  13  14  15  16  17\n",
      "  18  19  20  21  22  23  24  25  26  27  28  29  30  31  32  33  34  35\n",
      "  36  37  38  39  40  41  42  43  44 450 451 452 453 454 455 456 457 458\n",
      " 459 460 461 462 463 464 465 466 467 468 469 470 471 472 473 474 475 476\n",
      " 477 478 479 480 481 482 483 484 485 486 487 488 489 490 491 492 493]\n"
     ]
    }
   ],
   "source": [
    "for train_index, test_index in kf.split(X, y):\n",
    "    print(train_index)\n",
    "    print(test_index)\n",
    "    break"
   ]
  },
  {
   "cell_type": "code",
   "execution_count": 17,
   "metadata": {},
   "outputs": [
    {
     "name": "stdout",
     "output_type": "stream",
     "text": [
      "Training MultinomialNB\n"
     ]
    },
    {
     "name": "stderr",
     "output_type": "stream",
     "text": [
      "C:\\Users\\munch\\anaconda3\\envs\\nlu\\lib\\site-packages\\sklearn\\naive_bayes.py:555: UserWarning: alpha too small will result in numeric errors, setting alpha = 1.0e-10\n",
      "  warnings.warn(\n",
      "C:\\Users\\munch\\anaconda3\\envs\\nlu\\lib\\site-packages\\sklearn\\naive_bayes.py:555: UserWarning: alpha too small will result in numeric errors, setting alpha = 1.0e-10\n",
      "  warnings.warn(\n",
      "C:\\Users\\munch\\anaconda3\\envs\\nlu\\lib\\site-packages\\sklearn\\naive_bayes.py:555: UserWarning: alpha too small will result in numeric errors, setting alpha = 1.0e-10\n",
      "  warnings.warn(\n",
      "C:\\Users\\munch\\anaconda3\\envs\\nlu\\lib\\site-packages\\sklearn\\naive_bayes.py:555: UserWarning: alpha too small will result in numeric errors, setting alpha = 1.0e-10\n",
      "  warnings.warn(\n",
      "C:\\Users\\munch\\anaconda3\\envs\\nlu\\lib\\site-packages\\sklearn\\naive_bayes.py:555: UserWarning: alpha too small will result in numeric errors, setting alpha = 1.0e-10\n",
      "  warnings.warn(\n"
     ]
    },
    {
     "name": "stdout",
     "output_type": "stream",
     "text": [
      "Training SVC\n",
      "Training DecisionTreeClassifier\n",
      "Training RandomForestClassifier\n",
      "Training LogisticRegression\n",
      "Training AdaBoostClassifier\n",
      "Training MultinomialNB\n"
     ]
    },
    {
     "name": "stderr",
     "output_type": "stream",
     "text": [
      "C:\\Users\\munch\\anaconda3\\envs\\nlu\\lib\\site-packages\\sklearn\\naive_bayes.py:555: UserWarning: alpha too small will result in numeric errors, setting alpha = 1.0e-10\n",
      "  warnings.warn(\n",
      "C:\\Users\\munch\\anaconda3\\envs\\nlu\\lib\\site-packages\\sklearn\\naive_bayes.py:555: UserWarning: alpha too small will result in numeric errors, setting alpha = 1.0e-10\n",
      "  warnings.warn(\n",
      "C:\\Users\\munch\\anaconda3\\envs\\nlu\\lib\\site-packages\\sklearn\\naive_bayes.py:555: UserWarning: alpha too small will result in numeric errors, setting alpha = 1.0e-10\n",
      "  warnings.warn(\n",
      "C:\\Users\\munch\\anaconda3\\envs\\nlu\\lib\\site-packages\\sklearn\\naive_bayes.py:555: UserWarning: alpha too small will result in numeric errors, setting alpha = 1.0e-10\n",
      "  warnings.warn(\n",
      "C:\\Users\\munch\\anaconda3\\envs\\nlu\\lib\\site-packages\\sklearn\\naive_bayes.py:555: UserWarning: alpha too small will result in numeric errors, setting alpha = 1.0e-10\n",
      "  warnings.warn(\n"
     ]
    },
    {
     "name": "stdout",
     "output_type": "stream",
     "text": [
      "Training SVC\n",
      "Training DecisionTreeClassifier\n",
      "Training RandomForestClassifier\n",
      "Training LogisticRegression\n",
      "Training AdaBoostClassifier\n",
      "Training MultinomialNB\n"
     ]
    },
    {
     "name": "stderr",
     "output_type": "stream",
     "text": [
      "C:\\Users\\munch\\anaconda3\\envs\\nlu\\lib\\site-packages\\sklearn\\naive_bayes.py:555: UserWarning: alpha too small will result in numeric errors, setting alpha = 1.0e-10\n",
      "  warnings.warn(\n",
      "C:\\Users\\munch\\anaconda3\\envs\\nlu\\lib\\site-packages\\sklearn\\naive_bayes.py:555: UserWarning: alpha too small will result in numeric errors, setting alpha = 1.0e-10\n",
      "  warnings.warn(\n",
      "C:\\Users\\munch\\anaconda3\\envs\\nlu\\lib\\site-packages\\sklearn\\naive_bayes.py:555: UserWarning: alpha too small will result in numeric errors, setting alpha = 1.0e-10\n",
      "  warnings.warn(\n",
      "C:\\Users\\munch\\anaconda3\\envs\\nlu\\lib\\site-packages\\sklearn\\naive_bayes.py:555: UserWarning: alpha too small will result in numeric errors, setting alpha = 1.0e-10\n",
      "  warnings.warn(\n",
      "C:\\Users\\munch\\anaconda3\\envs\\nlu\\lib\\site-packages\\sklearn\\naive_bayes.py:555: UserWarning: alpha too small will result in numeric errors, setting alpha = 1.0e-10\n",
      "  warnings.warn(\n",
      "C:\\Users\\munch\\anaconda3\\envs\\nlu\\lib\\site-packages\\sklearn\\naive_bayes.py:555: UserWarning: alpha too small will result in numeric errors, setting alpha = 1.0e-10\n",
      "  warnings.warn(\n",
      "C:\\Users\\munch\\anaconda3\\envs\\nlu\\lib\\site-packages\\sklearn\\naive_bayes.py:555: UserWarning: alpha too small will result in numeric errors, setting alpha = 1.0e-10\n",
      "  warnings.warn(\n",
      "C:\\Users\\munch\\anaconda3\\envs\\nlu\\lib\\site-packages\\sklearn\\naive_bayes.py:555: UserWarning: alpha too small will result in numeric errors, setting alpha = 1.0e-10\n",
      "  warnings.warn(\n",
      "C:\\Users\\munch\\anaconda3\\envs\\nlu\\lib\\site-packages\\sklearn\\naive_bayes.py:555: UserWarning: alpha too small will result in numeric errors, setting alpha = 1.0e-10\n",
      "  warnings.warn(\n",
      "C:\\Users\\munch\\anaconda3\\envs\\nlu\\lib\\site-packages\\sklearn\\naive_bayes.py:555: UserWarning: alpha too small will result in numeric errors, setting alpha = 1.0e-10\n",
      "  warnings.warn(\n"
     ]
    },
    {
     "name": "stdout",
     "output_type": "stream",
     "text": [
      "Training SVC\n",
      "Training DecisionTreeClassifier\n",
      "Training RandomForestClassifier\n",
      "Training LogisticRegression\n",
      "Training AdaBoostClassifier\n",
      "Training MultinomialNB\n",
      "Training SVC\n",
      "Training DecisionTreeClassifier\n",
      "Training RandomForestClassifier\n",
      "Training LogisticRegression\n",
      "Training AdaBoostClassifier\n",
      "Training MultinomialNB\n",
      "Training SVC\n",
      "Training DecisionTreeClassifier\n",
      "Training RandomForestClassifier\n",
      "Training LogisticRegression\n",
      "Training AdaBoostClassifier\n",
      "Training MultinomialNB\n",
      "Training SVC\n",
      "Training DecisionTreeClassifier\n",
      "Training RandomForestClassifier\n",
      "Training LogisticRegression\n",
      "Training AdaBoostClassifier\n",
      "Training MultinomialNB\n"
     ]
    },
    {
     "name": "stderr",
     "output_type": "stream",
     "text": [
      "C:\\Users\\munch\\anaconda3\\envs\\nlu\\lib\\site-packages\\sklearn\\naive_bayes.py:555: UserWarning: alpha too small will result in numeric errors, setting alpha = 1.0e-10\n",
      "  warnings.warn(\n",
      "C:\\Users\\munch\\anaconda3\\envs\\nlu\\lib\\site-packages\\sklearn\\naive_bayes.py:555: UserWarning: alpha too small will result in numeric errors, setting alpha = 1.0e-10\n",
      "  warnings.warn(\n",
      "C:\\Users\\munch\\anaconda3\\envs\\nlu\\lib\\site-packages\\sklearn\\naive_bayes.py:555: UserWarning: alpha too small will result in numeric errors, setting alpha = 1.0e-10\n",
      "  warnings.warn(\n",
      "C:\\Users\\munch\\anaconda3\\envs\\nlu\\lib\\site-packages\\sklearn\\naive_bayes.py:555: UserWarning: alpha too small will result in numeric errors, setting alpha = 1.0e-10\n",
      "  warnings.warn(\n",
      "C:\\Users\\munch\\anaconda3\\envs\\nlu\\lib\\site-packages\\sklearn\\naive_bayes.py:555: UserWarning: alpha too small will result in numeric errors, setting alpha = 1.0e-10\n",
      "  warnings.warn(\n"
     ]
    },
    {
     "name": "stdout",
     "output_type": "stream",
     "text": [
      "Training SVC\n",
      "Training DecisionTreeClassifier\n",
      "Training RandomForestClassifier\n",
      "Training LogisticRegression\n",
      "Training AdaBoostClassifier\n",
      "Training MultinomialNB\n",
      "Training SVC\n",
      "Training DecisionTreeClassifier\n",
      "Training RandomForestClassifier\n",
      "Training LogisticRegression\n",
      "Training AdaBoostClassifier\n",
      "Training MultinomialNB\n"
     ]
    },
    {
     "name": "stderr",
     "output_type": "stream",
     "text": [
      "C:\\Users\\munch\\anaconda3\\envs\\nlu\\lib\\site-packages\\sklearn\\naive_bayes.py:555: UserWarning: alpha too small will result in numeric errors, setting alpha = 1.0e-10\n",
      "  warnings.warn(\n",
      "C:\\Users\\munch\\anaconda3\\envs\\nlu\\lib\\site-packages\\sklearn\\naive_bayes.py:555: UserWarning: alpha too small will result in numeric errors, setting alpha = 1.0e-10\n",
      "  warnings.warn(\n",
      "C:\\Users\\munch\\anaconda3\\envs\\nlu\\lib\\site-packages\\sklearn\\naive_bayes.py:555: UserWarning: alpha too small will result in numeric errors, setting alpha = 1.0e-10\n",
      "  warnings.warn(\n",
      "C:\\Users\\munch\\anaconda3\\envs\\nlu\\lib\\site-packages\\sklearn\\naive_bayes.py:555: UserWarning: alpha too small will result in numeric errors, setting alpha = 1.0e-10\n",
      "  warnings.warn(\n",
      "C:\\Users\\munch\\anaconda3\\envs\\nlu\\lib\\site-packages\\sklearn\\naive_bayes.py:555: UserWarning: alpha too small will result in numeric errors, setting alpha = 1.0e-10\n",
      "  warnings.warn(\n"
     ]
    },
    {
     "name": "stdout",
     "output_type": "stream",
     "text": [
      "Training SVC\n",
      "Training DecisionTreeClassifier\n",
      "Training RandomForestClassifier\n",
      "Training LogisticRegression\n",
      "Training AdaBoostClassifier\n",
      "Training MultinomialNB\n"
     ]
    },
    {
     "name": "stderr",
     "output_type": "stream",
     "text": [
      "C:\\Users\\munch\\anaconda3\\envs\\nlu\\lib\\site-packages\\sklearn\\naive_bayes.py:555: UserWarning: alpha too small will result in numeric errors, setting alpha = 1.0e-10\n",
      "  warnings.warn(\n",
      "C:\\Users\\munch\\anaconda3\\envs\\nlu\\lib\\site-packages\\sklearn\\naive_bayes.py:555: UserWarning: alpha too small will result in numeric errors, setting alpha = 1.0e-10\n",
      "  warnings.warn(\n",
      "C:\\Users\\munch\\anaconda3\\envs\\nlu\\lib\\site-packages\\sklearn\\naive_bayes.py:555: UserWarning: alpha too small will result in numeric errors, setting alpha = 1.0e-10\n",
      "  warnings.warn(\n",
      "C:\\Users\\munch\\anaconda3\\envs\\nlu\\lib\\site-packages\\sklearn\\naive_bayes.py:555: UserWarning: alpha too small will result in numeric errors, setting alpha = 1.0e-10\n",
      "  warnings.warn(\n",
      "C:\\Users\\munch\\anaconda3\\envs\\nlu\\lib\\site-packages\\sklearn\\naive_bayes.py:555: UserWarning: alpha too small will result in numeric errors, setting alpha = 1.0e-10\n",
      "  warnings.warn(\n"
     ]
    },
    {
     "name": "stdout",
     "output_type": "stream",
     "text": [
      "Training SVC\n",
      "Training DecisionTreeClassifier\n",
      "Training RandomForestClassifier\n",
      "Training LogisticRegression\n",
      "Training AdaBoostClassifier\n",
      "Wall time: 42min 6s\n"
     ]
    }
   ],
   "source": [
    "%%time\n",
    "from sklearn.metrics import accuracy_score, f1_score, precision_score, recall_score, roc_auc_score\n",
    "import numpy as np\n",
    "from scipy.stats import reciprocal\n",
    "from sklearn.model_selection import RandomizedSearchCV\n",
    "from scipy.stats import reciprocal, uniform\n",
    "\n",
    "scores_mnb = {'train_acc':[], 'test_acc':[], 'train_f1':[], 'test_f1':[], 'train_precision':[], 'test_precision':[], 'train_recall':[], 'test_recall':[], 'train_auc':[], 'test_auc':[]}\n",
    "scores_svm = {'train_acc':[], 'test_acc':[], 'train_f1':[], 'test_f1':[], 'train_precision':[], 'test_precision':[], 'train_recall':[], 'test_recall':[], 'train_auc':[], 'test_auc':[]}\n",
    "scores_dt = {'train_acc':[], 'test_acc':[], 'train_f1':[], 'test_f1':[], 'train_precision':[], 'test_precision':[], 'train_recall':[], 'test_recall':[], 'train_auc':[], 'test_auc':[]}\n",
    "scores_rf = {'train_acc':[], 'test_acc':[], 'train_f1':[], 'test_f1':[], 'train_precision':[], 'test_precision':[], 'train_recall':[], 'test_recall':[], 'train_auc':[], 'test_auc':[]}\n",
    "scores_log_reg = {'train_acc':[], 'test_acc':[], 'train_f1':[], 'test_f1':[], 'train_precision':[], 'test_precision':[], 'train_recall':[], 'test_recall':[], 'train_auc':[], 'test_auc':[]}\n",
    "scores_ada = {'train_acc':[], 'test_acc':[], 'train_f1':[], 'test_f1':[], 'train_precision':[], 'test_precision':[], 'train_recall':[], 'test_recall':[], 'train_auc':[], 'test_auc':[]}\n",
    "#scores_hard_voting = {'train_acc':[], 'test_acc':[], 'train_f1':[], 'test_f1':[], 'train_precision':[], 'test_precision':[], 'train_recall':[], 'test_recall':[], 'train_auc':[], 'test_auc':[]}\n",
    "\n",
    "lookup_clf = {0:scores_mnb, 1:scores_svm, 2:scores_dt, 3:scores_rf, 4:scores_log_reg, 5:scores_ada}\n",
    "\n",
    "\n",
    "param_distributions_mnb = {'alpha': np.linspace(0, 2, 20), 'fit_prior': [True, False]}\n",
    "param_distributions_svm = {\"gamma\": reciprocal(0.001, 0.1), \"C\": uniform(1, 10)}\n",
    "param_distributions_dt = {\"max_depth\": uniform(5, 100)}\n",
    "param_distributions_rf = {\"n_estimators\": np.arange(5, 100)}\n",
    "param_distributions_log = {\"C\": uniform(0.01, 100)}\n",
    "param_distributions_ada = {\"learning_rate\": uniform(0, 2)}\n",
    "\n",
    "param_distributions = [param_distributions_mnb, param_distributions_svm, param_distributions_dt, param_distributions_rf, param_distributions_log, param_distributions_ada]\n",
    "\n",
    "\n",
    "for train_index, test_index in kf.split(X, y):\n",
    "    X_train, X_test, y_train, y_test = X.iloc[train_index], X.iloc[test_index], y[train_index], y[test_index]\n",
    "    clf_list = [mnb_clf, svm_clf, dt_clf, rf_clf, log_reg_clf, ada_clf]\n",
    "    for index, clf in enumerate(clf_list):\n",
    "        print(f\"Training {clf.__class__.__name__}\")\n",
    "        clf.fit(X_train, y_train)\n",
    "        rnd_search_cv = RandomizedSearchCV(clf, param_distributions[index], n_iter=20, verbose=0, cv=5)\n",
    "        rnd_search_cv.fit(X_train, y_train)\n",
    "        y_train_pred = rnd_search_cv.predict(X_train)\n",
    "        #print(\"Training Accuracy :\", clf.__class__.__name__, accuracy_score(y_train, y_train_pred))\n",
    "        y_pred = rnd_search_cv.predict(X_test)\n",
    "        #print(\"Validation Accuracy :\", clf.__class__.__name__, accuracy_score(y_val, y_pred))\n",
    "        #print(\"Validation F1-score :\", clf.__class__.__name__, f1_score(y_val, y_pred))\n",
    "        #print()\n",
    "        train_accuracy = accuracy_score(y_train, y_train_pred)\n",
    "        test_accuracy = accuracy_score(y_test, y_pred)\n",
    "        \n",
    "        train_f1 = f1_score(y_train, y_train_pred)\n",
    "        test_f1 = f1_score(y_test, y_pred)\n",
    "        \n",
    "        train_precision = precision_score(y_train, y_train_pred)\n",
    "        test_precision = precision_score(y_test, y_pred)\n",
    "        \n",
    "        train_recall = recall_score(y_train, y_train_pred)\n",
    "        test_recall = recall_score(y_test, y_pred)\n",
    "        \n",
    "        train_roc_auc_score = roc_auc_score(y_train, y_train_pred)\n",
    "        test_roc_auc_score = roc_auc_score(y_test, y_pred)\n",
    "        \n",
    "        scores_clf = lookup_clf[index]\n",
    "        \n",
    "        scores_clf[\"train_acc\"].append(train_accuracy)\n",
    "        scores_clf[\"test_acc\"].append(test_accuracy)\n",
    "        \n",
    "        scores_clf[\"train_f1\"].append(train_f1)\n",
    "        scores_clf[\"test_f1\"].append(test_f1)\n",
    "        \n",
    "        scores_clf[\"train_precision\"].append(train_precision)\n",
    "        scores_clf[\"test_precision\"].append(test_precision)\n",
    "        \n",
    "        scores_clf[\"train_recall\"].append(train_recall)\n",
    "        scores_clf[\"test_recall\"].append(test_recall)\n",
    "        \n",
    "        scores_clf[\"train_auc\"].append(train_roc_auc_score)\n",
    "        scores_clf[\"test_auc\"].append(test_roc_auc_score)"
   ]
  },
  {
   "cell_type": "code",
   "execution_count": 27,
   "metadata": {},
   "outputs": [
    {
     "data": {
      "text/plain": [
       "array([5, 6, 7, 8, 9])"
      ]
     },
     "execution_count": 27,
     "metadata": {},
     "output_type": "execute_result"
    }
   ],
   "source": [
    "np.arange(5, 10)"
   ]
  },
  {
   "cell_type": "code",
   "execution_count": 19,
   "metadata": {},
   "outputs": [
    {
     "name": "stdout",
     "output_type": "stream",
     "text": [
      "MultinomialNB\n",
      "train_acc: 0.9652933832709114\n",
      "test_acc: 0.9168539325842696\n",
      "train_f1: 0.9642872641739695\n",
      "test_f1: 0.9111972764395856\n",
      "train_precision: 0.9817406931651564\n",
      "test_precision: 0.959628127882858\n",
      "train_recall: 0.9474747474747475\n",
      "test_recall: 0.8704545454545455\n",
      "train_auc: 0.9650953984287317\n",
      "test_auc: 0.9163383838383838\n",
      "\n",
      "SVC\n",
      "train_acc: 0.9928838951310861\n",
      "test_acc: 0.9629213483146067\n",
      "train_f1: 0.9928117466238249\n",
      "test_f1: 0.9621899009879912\n",
      "train_precision: 0.9909419123650527\n",
      "test_precision: 0.9621533696053413\n",
      "train_recall: 0.9946969696969697\n",
      "test_recall: 0.9636363636363636\n",
      "train_auc: 0.9929040404040403\n",
      "test_auc: 0.962929292929293\n",
      "\n",
      "DecisionTreeClassifier\n",
      "train_acc: 0.9962546816479401\n",
      "test_acc: 0.9314606741573034\n",
      "train_f1: 0.9961954391337202\n",
      "test_f1: 0.9302710420676796\n",
      "train_precision: 0.9977137492311179\n",
      "test_precision: 0.9354848236139925\n",
      "train_recall: 0.9946969696969697\n",
      "test_recall: 0.9272727272727272\n",
      "train_auc: 0.9962373737373738\n",
      "test_auc: 0.9314141414141414\n",
      "\n",
      "RandomForestClassifier\n",
      "train_acc: 1.0\n",
      "test_acc: 0.9685393258426966\n",
      "train_f1: 1.0\n",
      "test_f1: 0.9674532819304753\n",
      "train_precision: 1.0\n",
      "test_precision: 0.9816367159971812\n",
      "train_recall: 1.0\n",
      "test_recall: 0.9545454545454546\n",
      "train_auc: 1.0\n",
      "test_auc: 0.9683838383838383\n",
      "\n",
      "LogisticRegression\n",
      "train_acc: 0.999625468164794\n",
      "test_acc: 0.9595505617977528\n",
      "train_f1: 0.9996226415094339\n",
      "test_f1: 0.9593239535299705\n",
      "train_precision: 0.9992481203007518\n",
      "test_precision: 0.952119799398674\n",
      "train_recall: 1.0\n",
      "test_recall: 0.9681818181818181\n",
      "train_auc: 0.9996296296296296\n",
      "test_auc: 0.9596464646464646\n",
      "\n",
      "AdaBoostClassifier\n",
      "train_acc: 0.9951310861423222\n",
      "test_acc: 0.9617977528089887\n",
      "train_f1: 0.9950538174004233\n",
      "test_f1: 0.9611260053315117\n",
      "train_precision: 0.9959235602638001\n",
      "test_precision: 0.9644958942304747\n",
      "train_recall: 0.9941919191919192\n",
      "test_recall: 0.9590909090909091\n",
      "train_auc: 0.9951206509539843\n",
      "test_auc: 0.9617676767676768\n",
      "\n"
     ]
    }
   ],
   "source": [
    "import statistics\n",
    "clf_list = [mnb_clf, svm_clf, dt_clf, rf_clf, log_reg_clf, ada_clf, hard_voting_clf]\n",
    "ls = [\"train_acc\", \"test_acc\"]\n",
    "for index, scores_clf in lookup_clf.items():\n",
    "    clf_class = clf_list[index].__class__.__name__\n",
    "    print(f\"{clf_class}\")\n",
    "    for key, item in scores_clf.items():\n",
    "        mean = statistics.mean(item)\n",
    "        print(f\"{key}: {mean}\")\n",
    "    print()"
   ]
  },
  {
   "cell_type": "code",
   "execution_count": 223,
   "metadata": {},
   "outputs": [
    {
     "name": "stderr",
     "output_type": "stream",
     "text": [
      "C:\\Users\\munch\\anaconda3\\lib\\site-packages\\sklearn\\utils\\validation.py:72: DataConversionWarning: A column-vector y was passed when a 1d array was expected. Please change the shape of y to (n_samples, ), for example using ravel().\n",
      "  return f(**kwargs)\n"
     ]
    },
    {
     "data": {
      "text/plain": [
       "VotingClassifier(estimators=[('mnb', MultinomialNB(alpha=0.84)),\n",
       "                             ('svm',\n",
       "                              SVC(C=9.0, gamma=0.00126, probability=True)),\n",
       "                             ('rf',\n",
       "                              RandomForestClassifier(n_estimators=1000,\n",
       "                                                     random_state=42)),\n",
       "                             ('log_reg',\n",
       "                              LogisticRegression(C=96, random_state=42)),\n",
       "                             ('adaboost',\n",
       "                              AdaBoostClassifier(base_estimator=DecisionTreeClassifier(max_depth=1),\n",
       "                                                 learning_rate=0.63,\n",
       "                                                 n_estimators=200,\n",
       "                                                 random_state=42))],\n",
       "                 voting='soft')"
      ]
     },
     "execution_count": 223,
     "metadata": {},
     "output_type": "execute_result"
    }
   ],
   "source": [
    "from sklearn.ensemble import VotingClassifier\n",
    "svm_clf = SVC(kernel=\"rbf\", probability=True, C=9.0, gamma=0.00126)\n",
    "\n",
    "soft_voting_clf = VotingClassifier(\n",
    "    estimators=[\n",
    "        ('mnb', mnb_clf),\n",
    "        ('svm', svm_clf),\n",
    "        ('rf', rf_clf),\n",
    "        ('log_reg', log_reg_clf),\n",
    "        ('adaboost', ada_clf)\n",
    "    ],\n",
    "    voting='soft'\n",
    ")\n",
    "soft_voting_clf.fit(X_train, y_train)"
   ]
  },
  {
   "cell_type": "code",
   "execution_count": 224,
   "metadata": {},
   "outputs": [
    {
     "name": "stderr",
     "output_type": "stream",
     "text": [
      "C:\\Users\\munch\\anaconda3\\lib\\site-packages\\sklearn\\utils\\validation.py:72: DataConversionWarning: A column-vector y was passed when a 1d array was expected. Please change the shape of y to (n_samples, ), for example using ravel().\n",
      "  return f(**kwargs)\n"
     ]
    },
    {
     "name": "stdout",
     "output_type": "stream",
     "text": [
      "VotingClassifier 0.9662921348314607\n",
      "VotingClassifier 1.0\n"
     ]
    }
   ],
   "source": [
    "soft_voting_clf.fit(X_train, y_train)\n",
    "y_pred = soft_voting_clf.predict(X_val)\n",
    "print(soft_voting_clf.__class__.__name__, accuracy_score(y_val, y_pred))\n",
    "y_train_pred = soft_voting_clf.predict(X_train)\n",
    "print(soft_voting_clf.__class__.__name__, accuracy_score(y_train, y_train_pred))"
   ]
  },
  {
   "cell_type": "code",
   "execution_count": 131,
   "metadata": {},
   "outputs": [
    {
     "data": {
      "text/plain": [
       "(178, 1355)"
      ]
     },
     "execution_count": 131,
     "metadata": {},
     "output_type": "execute_result"
    }
   ],
   "source": [
    "X_val.shape"
   ]
  },
  {
   "cell_type": "code",
   "execution_count": 227,
   "metadata": {},
   "outputs": [],
   "source": [
    "import pickle\n",
    "\n",
    "with open('soft_voting_clf.pkl', 'wb') as f:\n",
    "    pickle.dump(soft_voting_clf, f)"
   ]
  },
  {
   "cell_type": "markdown",
   "metadata": {},
   "source": [
    "## Which news did the Ensemble Model predict wrongly"
   ]
  },
  {
   "cell_type": "code",
   "execution_count": 132,
   "metadata": {},
   "outputs": [],
   "source": [
    "misclassified_ind = list(X_val[y_val != y_pred].index.values)"
   ]
  },
  {
   "cell_type": "code",
   "execution_count": 133,
   "metadata": {},
   "outputs": [
    {
     "data": {
      "text/plain": [
       "[106, 71, 372, 593, 21, 121, 703]"
      ]
     },
     "execution_count": 133,
     "metadata": {},
     "output_type": "execute_result"
    }
   ],
   "source": [
    "misclassified_ind"
   ]
  },
  {
   "cell_type": "code",
   "execution_count": 134,
   "metadata": {},
   "outputs": [
    {
     "name": "stdout",
     "output_type": "stream",
     "text": [
      "Real\n"
     ]
    }
   ],
   "source": [
    "print(\"Real\" if 1==1 else \"Fake\")"
   ]
  },
  {
   "cell_type": "code",
   "execution_count": 135,
   "metadata": {},
   "outputs": [
    {
     "data": {
      "text/html": [
       "<div>\n",
       "<style scoped>\n",
       "    .dataframe tbody tr th:only-of-type {\n",
       "        vertical-align: middle;\n",
       "    }\n",
       "\n",
       "    .dataframe tbody tr th {\n",
       "        vertical-align: top;\n",
       "    }\n",
       "\n",
       "    .dataframe thead th {\n",
       "        text-align: right;\n",
       "    }\n",
       "</style>\n",
       "<table border=\"1\" class=\"dataframe\">\n",
       "  <thead>\n",
       "    <tr style=\"text-align: right;\">\n",
       "      <th></th>\n",
       "      <th>Month</th>\n",
       "      <th>Text</th>\n",
       "      <th>Type</th>\n",
       "    </tr>\n",
       "  </thead>\n",
       "  <tbody>\n",
       "    <tr>\n",
       "      <th>106</th>\n",
       "      <td>Apr,20</td>\n",
       "      <td>petaling jaya selfemployed worker hit hard mov...</td>\n",
       "      <td>0</td>\n",
       "    </tr>\n",
       "    <tr>\n",
       "      <th>372</th>\n",
       "      <td>Jul,20</td>\n",
       "      <td>ipoh senoi praaq battalion personnel general o...</td>\n",
       "      <td>0</td>\n",
       "    </tr>\n",
       "    <tr>\n",
       "      <th>257</th>\n",
       "      <td>Nov,20</td>\n",
       "      <td>petaling jaya two foreign men confirm positive...</td>\n",
       "      <td>0</td>\n",
       "    </tr>\n",
       "    <tr>\n",
       "      <th>593</th>\n",
       "      <td>Mar,20</td>\n",
       "      <td>kuala lumpur malaysia enough rice last two hal...</td>\n",
       "      <td>1</td>\n",
       "    </tr>\n",
       "    <tr>\n",
       "      <th>21</th>\n",
       "      <td>Feb,20</td>\n",
       "      <td>johor baru despite scale follow coronavirus ou...</td>\n",
       "      <td>0</td>\n",
       "    </tr>\n",
       "    <tr>\n",
       "      <th>121</th>\n",
       "      <td>Apr,20</td>\n",
       "      <td>petaling jaya malaysianborn doctor base united...</td>\n",
       "      <td>0</td>\n",
       "    </tr>\n",
       "    <tr>\n",
       "      <th>703</th>\n",
       "      <td>May,20</td>\n",
       "      <td>kangar individual return abroad perlis conditi...</td>\n",
       "      <td>1</td>\n",
       "    </tr>\n",
       "  </tbody>\n",
       "</table>\n",
       "</div>"
      ],
      "text/plain": [
       "      Month                                               Text  Type\n",
       "106  Apr,20  petaling jaya selfemployed worker hit hard mov...     0\n",
       "372  Jul,20  ipoh senoi praaq battalion personnel general o...     0\n",
       "257  Nov,20  petaling jaya two foreign men confirm positive...     0\n",
       "593  Mar,20  kuala lumpur malaysia enough rice last two hal...     1\n",
       "21   Feb,20  johor baru despite scale follow coronavirus ou...     0\n",
       "121  Apr,20  petaling jaya malaysianborn doctor base united...     0\n",
       "703  May,20  kangar individual return abroad perlis conditi...     1"
      ]
     },
     "execution_count": 135,
     "metadata": {},
     "output_type": "execute_result"
    }
   ],
   "source": [
    "misclassified_df"
   ]
  },
  {
   "cell_type": "code",
   "execution_count": 136,
   "metadata": {},
   "outputs": [],
   "source": [
    "misclassified_df = df.filter(items=misclassified_ind, axis=0)\n",
    "cv = CountVectorizer(stop_words=stop_words, ngram_range=(1, 1), min_df=0.01)\n",
    "cv.fit(df.Text)\n",
    "data_cv = cv.transform(misclassified_df.Text)\n",
    "dtm = pd.DataFrame(data_cv.toarray(), columns=cv.get_feature_names())\n",
    "dtm.index = misclassified_df.index"
   ]
  },
  {
   "cell_type": "code",
   "execution_count": 137,
   "metadata": {},
   "outputs": [],
   "source": [
    "y_pred = soft_voting_clf.predict(dtm)"
   ]
  },
  {
   "cell_type": "code",
   "execution_count": 138,
   "metadata": {},
   "outputs": [
    {
     "data": {
      "text/plain": [
       "array([1, 1, 1, 0, 1, 1, 0], dtype=int64)"
      ]
     },
     "execution_count": 138,
     "metadata": {},
     "output_type": "execute_result"
    }
   ],
   "source": [
    "y_pred"
   ]
  },
  {
   "cell_type": "code",
   "execution_count": 140,
   "metadata": {
    "scrolled": true
   },
   "outputs": [
    {
     "name": "stdout",
     "output_type": "stream",
     "text": [
      "Label :\n",
      "Real\n",
      "Predicted Label:\n",
      "Fake\n",
      "petaling jaya selfemployed worker hit hard movement control order almost half work accord survey department statisticsand half still job majority experience drop income quite number lose incomethe online survey effect economy individual conduct march record response total people age year aboveselfemployed worker make total respondent surveyaccording survey lose jobsof still work almost experience drop income incomes drop employer make survey respondent people also hit badly workthe survey find employer experience drop income survey also find selfemployed worker saving could last one month ready mco extend furthersimilarly employer survey financially readyagriculture affect sector make lose job follow service sector \n",
      "\n",
      "\n",
      "\n",
      "Label :\n",
      "Real\n",
      "Predicted Label:\n",
      "Fake\n",
      "kota kinabalu petrol station city operate daily throughout movement control order period city hall issue statement matter saturday say line government effort fight apart petrol station eatery also see operation hour cut short allow operate daily march detail type eatery involve release later \n",
      "\n",
      "\n",
      "\n",
      "Label :\n",
      "Real\n",
      "Predicted Label:\n",
      "Fake\n",
      "ipoh senoi praaq battalion personnel general operation force shot head police barrack pantai remis near manjung manjung ocpd asst comm omar sappi confirm incident occur around sunday decease corporal battalion senoi praaq pengkalan hulu base pantai remis part manjung ops benteng rush manjung hospital die hour later come \n",
      "\n",
      "\n",
      "\n",
      "Label :\n",
      "Fake\n",
      "Predicted Label:\n",
      "Real\n",
      "kuala lumpur malaysia enough rice last two half month ministry agriculture food industry tell reuters friday vietnam suspend export feed people amid epidemic vietnam third large rice exporter wednesday say would sign new rice export contract mar ensure sufficient domestic supply raise concern global food security malaysia net rice importer say food supply sufficient enter second week onemonth restrict movement order include closing border require nonessential business shut bid stop virus country tonne rice stock consumes tonne month accord data agriculture food industry ministry provide reuters bernas act early secure rice export contract may vietnam even though high price ministry say refer national rice agency next step also purchase rice country include pakistan india myanmar thailand say malaysia large rice consumer world farm rice also import per cent per cent requirement fee population million number confirm coronavirus infection malaysia double week high southeast asia death food stock malaysia march accord ministryrice tonne tonne monthchicken chickenl chicken montheggs egg egg monthmeat tonne enough meet current needsfish tonne enough meet current needsvegatables tonne monthfruits tonne monthfresh milk litre month \n",
      "\n",
      "\n",
      "\n",
      "Label :\n",
      "Real\n",
      "Predicted Label:\n",
      "Fake\n",
      "johor baru despite scale follow coronavirus outbreak chingay festival celebration still manage pull sizable crowd crowd start build around xing gong temple along jalan ulu ayer molek friday enter temple require temperature check put face mask hand sanitise five lorry carry figure deity worship five main johor clan teochew hokkien hakka cantonese hainan start drive around town previous year deity carry foot follow thousand would join parade accompany colourful float performance however year five lorry small crowd spot along road town people wait along jalan wong ah fook city centre witness scaleddown version parade earlier report chingay festival scaleddown follow increase risk state government continuation festival urge organiser cancel \n",
      "\n",
      "\n",
      "\n",
      "Label :\n",
      "Real\n",
      "Predicted Label:\n",
      "Fake\n",
      "petaling jaya malaysianborn doctor base united kingdom catch stable condition admit intensive care unit accord facebook page traditional halaqa dr tun muzamal wildan continue require breathe assistance oxygen level stable stable conditionour malaysian brother dr tun muzamal wildan attend recent wycombe halaqa attend since fight life intensive care due infect virusplease pray may allah grant speedy recovery may allah protect family love one suffer read post facebook page wednesday malaysian doctor also put message ask others pray himon thursday dr nur amalina che bakri tweet ask prayer dr tun muzamal treat hospital birminghamas request dr tun muzamal wildans family malaysian surgeon base united kingdom would like humbly request consider prayer todayhes currently ventilate icu due he stable write dr nur amalina malaysian general surgeon base londonkpj damansara specialist hospital obstetrician gynaecologist dr imelda balchin thank prayed dr tun muzamal say friendthank prayed friend dr muzamal wildan still require breathe assistance birmingham uk stable oxygen level stablelets continue pray health dr imelda post facebook thursdaythere case united kingdom death toll close time write \n",
      "\n",
      "\n",
      "\n",
      "Label :\n",
      "Fake\n",
      "Predicted Label:\n",
      "Real\n",
      "kangar individual return abroad perlis conditional movement control order must undergo health screen quarantine daysmenteri besar datuk seri azlan man say maintain perlis green zone statefor cross state movement individual ask undergo health screen health clinic determine risk infection decide need quarantine vice versathis rule cover individual include red zone well green zone state kedah exception anyone direct ministry health curb tell medium todayazlan say total individual still quarantine three quarantine center state namely people place industrial train institute hotel putra brasmana kuala perlis rest train institute ministry health malaysia kangarin meantime azlan say operation food premise perlis pkpb extend pm compare pm previouslypeople allow eat shop owner premise must adhere standard operating procedure set strict action take condition violate saidaccording trader encourage carry sale packagesdrive past cannot meet sop relate eating premisesazlan say sport recreational activity public allow jog run trail pengkalan assam irrigation drainage department taman bukit lagithe state security special committee meeting today also agree improvement make include open recreation center stage use exercise equipment public park allow saidin additional statement issue several improvement among sanitation sector cut road grass tree allow base prescribed sop \n",
      "\n",
      "\n",
      "\n"
     ]
    }
   ],
   "source": [
    "for ind, item in enumerate(misclassified_df.iterrows()):\n",
    "    print(\"Label :\")\n",
    "    print(\"Real\" if item[1].Type == 0 else \"Fake\")\n",
    "    print(\"Predicted Label:\")\n",
    "    print(\"Fake\" if y_pred[ind] == 1 else \"Real\")\n",
    "    print(item[1].Text)\n",
    "    print(\"\\n\\n\")"
   ]
  },
  {
   "cell_type": "code",
   "execution_count": null,
   "metadata": {},
   "outputs": [],
   "source": []
  },
  {
   "cell_type": "markdown",
   "metadata": {},
   "source": [
    "## Multinomial Naive Bayes. Multinomial distribution is suitable for text classification because it involves the probabilistic calculation of discrete integer feature counts. Bag of Words model generates discrete word counts"
   ]
  },
  {
   "cell_type": "code",
   "execution_count": 11,
   "metadata": {},
   "outputs": [
    {
     "name": "stdout",
     "output_type": "stream",
     "text": [
      "0.9269662921348315\n",
      "0.9212121212121213\n",
      "0.987012987012987\n"
     ]
    }
   ],
   "source": [
    "from sklearn.naive_bayes import MultinomialNB\n",
    "model = MultinomialNB()\n",
    "model.fit(X_train, y_train)\n",
    "\n",
    "y_pred = model.predict(X_val)\n",
    "\n",
    "from sklearn.metrics import accuracy_score, f1_score, precision_score\n",
    "print(accuracy_score(y_test, y_pred))\n",
    "print(f1_score(y_test, y_pred))\n",
    "print(precision_score(y_test, y_pred))"
   ]
  },
  {
   "cell_type": "code",
   "execution_count": 12,
   "metadata": {},
   "outputs": [],
   "source": [
    "mnb_pipeline = Pipeline([\n",
    "    ('bow_vectorizer', bow_pipeline),\n",
    "    ('mnb', MultinomialNB())\n",
    "])"
   ]
  },
  {
   "cell_type": "code",
   "execution_count": 13,
   "metadata": {},
   "outputs": [
    {
     "data": {
      "text/plain": [
       "<bound method Pipeline.get_params of Pipeline(steps=[('bow_vectorizer',\n",
       "                 Pipeline(steps=[('bow_vectorizer', BagOfWordsTransformer())])),\n",
       "                ('mnb', MultinomialNB())])>"
      ]
     },
     "execution_count": 13,
     "metadata": {},
     "output_type": "execute_result"
    }
   ],
   "source": [
    "mnb_pipeline.get_params"
   ]
  },
  {
   "cell_type": "code",
   "execution_count": null,
   "metadata": {},
   "outputs": [],
   "source": [
    "param_grid_mnb = [\n",
    "    {'alpha': np.linspace(0, 2, 20), 'fit_prior': [True, False]}\n",
    "]"
   ]
  },
  {
   "cell_type": "code",
   "execution_count": 14,
   "metadata": {},
   "outputs": [
    {
     "name": "stderr",
     "output_type": "stream",
     "text": [
      "C:\\Users\\munch\\anaconda3\\lib\\site-packages\\sklearn\\naive_bayes.py:511: UserWarning: alpha too small will result in numeric errors, setting alpha = 1.0e-10\n",
      "  warnings.warn('alpha too small will result in numeric errors, '\n",
      "C:\\Users\\munch\\anaconda3\\lib\\site-packages\\sklearn\\naive_bayes.py:511: UserWarning: alpha too small will result in numeric errors, setting alpha = 1.0e-10\n",
      "  warnings.warn('alpha too small will result in numeric errors, '\n",
      "C:\\Users\\munch\\anaconda3\\lib\\site-packages\\sklearn\\naive_bayes.py:511: UserWarning: alpha too small will result in numeric errors, setting alpha = 1.0e-10\n",
      "  warnings.warn('alpha too small will result in numeric errors, '\n",
      "C:\\Users\\munch\\anaconda3\\lib\\site-packages\\sklearn\\naive_bayes.py:511: UserWarning: alpha too small will result in numeric errors, setting alpha = 1.0e-10\n",
      "  warnings.warn('alpha too small will result in numeric errors, '\n",
      "C:\\Users\\munch\\anaconda3\\lib\\site-packages\\sklearn\\naive_bayes.py:511: UserWarning: alpha too small will result in numeric errors, setting alpha = 1.0e-10\n",
      "  warnings.warn('alpha too small will result in numeric errors, '\n",
      "C:\\Users\\munch\\anaconda3\\lib\\site-packages\\sklearn\\naive_bayes.py:511: UserWarning: alpha too small will result in numeric errors, setting alpha = 1.0e-10\n",
      "  warnings.warn('alpha too small will result in numeric errors, '\n"
     ]
    },
    {
     "data": {
      "text/plain": [
       "GridSearchCV(cv=3, estimator=MultinomialNB(),\n",
       "             param_grid=[{'alpha': array([0.        , 0.10526316, 0.21052632, 0.31578947, 0.42105263,\n",
       "       0.52631579, 0.63157895, 0.73684211, 0.84210526, 0.94736842,\n",
       "       1.05263158, 1.15789474, 1.26315789, 1.36842105, 1.47368421,\n",
       "       1.57894737, 1.68421053, 1.78947368, 1.89473684, 2.        ]),\n",
       "                          'fit_prior': [True, False]}],\n",
       "             return_train_score=True)"
      ]
     },
     "execution_count": 14,
     "metadata": {},
     "output_type": "execute_result"
    }
   ],
   "source": [
    "from sklearn.model_selection import GridSearchCV\n",
    "import numpy as np\n",
    "\n",
    "param_grid = [\n",
    "    {'alpha': np.linspace(0, 2, 20), 'fit_prior': [True, False]}\n",
    "]\n",
    "\n",
    "grid_search = GridSearchCV(model, param_grid, cv=3, return_train_score=True)\n",
    "grid_search.fit(X_train, y_train)"
   ]
  },
  {
   "cell_type": "code",
   "execution_count": 15,
   "metadata": {},
   "outputs": [
    {
     "data": {
      "text/plain": [
       "{'alpha': 0.8421052631578947, 'fit_prior': False}"
      ]
     },
     "execution_count": 15,
     "metadata": {},
     "output_type": "execute_result"
    }
   ],
   "source": [
    "grid_search.best_params_"
   ]
  },
  {
   "cell_type": "code",
   "execution_count": 16,
   "metadata": {},
   "outputs": [
    {
     "name": "stdout",
     "output_type": "stream",
     "text": [
      "0.778085073691924 {'alpha': 0.0, 'fit_prior': True}\n",
      "0.778085073691924 {'alpha': 0.0, 'fit_prior': False}\n",
      "0.8918495668309517 {'alpha': 0.10526315789473684, 'fit_prior': True}\n",
      "0.8918495668309517 {'alpha': 0.10526315789473684, 'fit_prior': False}\n",
      "0.9058965358295218 {'alpha': 0.21052631578947367, 'fit_prior': True}\n",
      "0.9058965358295218 {'alpha': 0.21052631578947367, 'fit_prior': False}\n",
      "0.9073030055904218 {'alpha': 0.3157894736842105, 'fit_prior': True}\n",
      "0.9073030055904218 {'alpha': 0.3157894736842105, 'fit_prior': False}\n",
      "0.9157300050822016 {'alpha': 0.42105263157894735, 'fit_prior': True}\n",
      "0.9157300050822016 {'alpha': 0.42105263157894735, 'fit_prior': False}\n",
      "0.914329444858112 {'alpha': 0.5263157894736842, 'fit_prior': True}\n",
      "0.914329444858112 {'alpha': 0.5263157894736842, 'fit_prior': False}\n",
      "0.9185488541408123 {'alpha': 0.631578947368421, 'fit_prior': True}\n",
      "0.919949414364902 {'alpha': 0.631578947368421, 'fit_prior': False}\n",
      "0.9227505348130814 {'alpha': 0.7368421052631579, 'fit_prior': True}\n",
      "0.9241510950371711 {'alpha': 0.7368421052631579, 'fit_prior': False}\n",
      "0.9241510950371711 {'alpha': 0.8421052631578947, 'fit_prior': True}\n",
      "0.9255516552612607 {'alpha': 0.8421052631578947, 'fit_prior': False}\n",
      "0.9227505348130814 {'alpha': 0.9473684210526315, 'fit_prior': True}\n",
      "0.9227505348130814 {'alpha': 0.9473684210526315, 'fit_prior': False}\n",
      "0.9199435048280916 {'alpha': 1.0526315789473684, 'fit_prior': True}\n",
      "0.9199435048280916 {'alpha': 1.0526315789473684, 'fit_prior': False}\n",
      "0.9171423843799124 {'alpha': 1.1578947368421053, 'fit_prior': True}\n",
      "0.919949414364902 {'alpha': 1.1578947368421053, 'fit_prior': False}\n",
      "0.9157359146190123 {'alpha': 1.263157894736842, 'fit_prior': True}\n",
      "0.9157359146190123 {'alpha': 1.263157894736842, 'fit_prior': False}\n",
      "0.9157359146190123 {'alpha': 1.3684210526315788, 'fit_prior': True}\n",
      "0.9157359146190123 {'alpha': 1.3684210526315788, 'fit_prior': False}\n",
      "0.914329444858112 {'alpha': 1.4736842105263157, 'fit_prior': True}\n",
      "0.9157359146190123 {'alpha': 1.4736842105263157, 'fit_prior': False}\n",
      "0.914329444858112 {'alpha': 1.5789473684210527, 'fit_prior': True}\n",
      "0.914329444858112 {'alpha': 1.5789473684210527, 'fit_prior': False}\n",
      "0.9129288846340223 {'alpha': 1.6842105263157894, 'fit_prior': True}\n",
      "0.9129288846340223 {'alpha': 1.6842105263157894, 'fit_prior': False}\n",
      "0.9115283244099327 {'alpha': 1.789473684210526, 'fit_prior': True}\n",
      "0.9115283244099327 {'alpha': 1.789473684210526, 'fit_prior': False}\n",
      "0.9101218546490326 {'alpha': 1.894736842105263, 'fit_prior': True}\n",
      "0.9101218546490326 {'alpha': 1.894736842105263, 'fit_prior': False}\n",
      "0.9115283244099328 {'alpha': 2.0, 'fit_prior': True}\n",
      "0.9101277641858432 {'alpha': 2.0, 'fit_prior': False}\n"
     ]
    }
   ],
   "source": [
    "cvres = grid_search.cv_results_\n",
    "for mean_score, params in zip(cvres[\"mean_test_score\"], cvres[\"params\"]):\n",
    "    print(mean_score, params)"
   ]
  },
  {
   "cell_type": "markdown",
   "metadata": {},
   "source": [
    "## K-Nearest Neigbours, Poor Performance because of Curse of Dimensionality. Too many features (1000+)"
   ]
  },
  {
   "cell_type": "code",
   "execution_count": 31,
   "metadata": {},
   "outputs": [
    {
     "data": {
      "text/plain": [
       "KNeighborsClassifier()"
      ]
     },
     "execution_count": 31,
     "metadata": {},
     "output_type": "execute_result"
    }
   ],
   "source": [
    "from sklearn.neighbors import KNeighborsClassifier\n",
    "\n",
    "optimal_k = 5\n",
    "knn_classifier = KNeighborsClassifier(n_neighbors=optimal_k)\n",
    "knn_classifier.fit(X_train, y_train)"
   ]
  },
  {
   "cell_type": "code",
   "execution_count": 32,
   "metadata": {},
   "outputs": [
    {
     "name": "stdout",
     "output_type": "stream",
     "text": [
      "0.7134831460674157\n",
      "0.7753303964757708\n",
      "0.6330935251798561\n"
     ]
    }
   ],
   "source": [
    "y_pred = knn_classifier.predict(X_val)\n",
    "\n",
    "from sklearn.metrics import accuracy_score, f1_score, precision_score\n",
    "print(accuracy_score(y_test, y_pred))\n",
    "print(f1_score(y_test, y_pred))\n",
    "print(precision_score(y_test, y_pred))"
   ]
  },
  {
   "cell_type": "markdown",
   "metadata": {},
   "source": [
    "## Support Vector Machines (SVM)"
   ]
  },
  {
   "cell_type": "code",
   "execution_count": null,
   "metadata": {},
   "outputs": [],
   "source": [
    "param_distributions_svm = {\"gamma\": reciprocal(0.001, 0.1), \"C\": uniform(1, 10)}"
   ]
  },
  {
   "cell_type": "code",
   "execution_count": 48,
   "metadata": {},
   "outputs": [
    {
     "name": "stdout",
     "output_type": "stream",
     "text": [
      "Fitting 3 folds for each of 20 candidates, totalling 60 fits\n",
      "[CV] C=8.644074959660024, gamma=0.05872435932305266 ..................\n"
     ]
    },
    {
     "name": "stderr",
     "output_type": "stream",
     "text": [
      "[Parallel(n_jobs=1)]: Using backend SequentialBackend with 1 concurrent workers.\n"
     ]
    },
    {
     "name": "stdout",
     "output_type": "stream",
     "text": [
      "[CV] ... C=8.644074959660024, gamma=0.05872435932305266, total=   0.3s\n",
      "[CV] C=8.644074959660024, gamma=0.05872435932305266 ..................\n"
     ]
    },
    {
     "name": "stderr",
     "output_type": "stream",
     "text": [
      "[Parallel(n_jobs=1)]: Done   1 out of   1 | elapsed:    0.2s remaining:    0.0s\n"
     ]
    },
    {
     "name": "stdout",
     "output_type": "stream",
     "text": [
      "[CV] ... C=8.644074959660024, gamma=0.05872435932305266, total=   0.3s\n",
      "[CV] C=8.644074959660024, gamma=0.05872435932305266 ..................\n",
      "[CV] ... C=8.644074959660024, gamma=0.05872435932305266, total=   0.3s\n",
      "[CV] C=8.997985055738074, gamma=0.001257819045542782 .................\n",
      "[CV] .. C=8.997985055738074, gamma=0.001257819045542782, total=   0.1s\n",
      "[CV] C=8.997985055738074, gamma=0.001257819045542782 .................\n",
      "[CV] .. C=8.997985055738074, gamma=0.001257819045542782, total=   0.1s\n",
      "[CV] C=8.997985055738074, gamma=0.001257819045542782 .................\n",
      "[CV] .. C=8.997985055738074, gamma=0.001257819045542782, total=   0.1s\n",
      "[CV] C=7.2339929330956725, gamma=0.04830384719665792 .................\n",
      "[CV] .. C=7.2339929330956725, gamma=0.04830384719665792, total=   0.3s\n",
      "[CV] C=7.2339929330956725, gamma=0.04830384719665792 .................\n",
      "[CV] .. C=7.2339929330956725, gamma=0.04830384719665792, total=   0.3s\n",
      "[CV] C=7.2339929330956725, gamma=0.04830384719665792 .................\n",
      "[CV] .. C=7.2339929330956725, gamma=0.04830384719665792, total=   0.3s\n",
      "[CV] C=10.806355674886793, gamma=0.08153190916039757 .................\n",
      "[CV] .. C=10.806355674886793, gamma=0.08153190916039757, total=   0.3s\n",
      "[CV] C=10.806355674886793, gamma=0.08153190916039757 .................\n",
      "[CV] .. C=10.806355674886793, gamma=0.08153190916039757, total=   0.3s\n",
      "[CV] C=10.806355674886793, gamma=0.08153190916039757 .................\n",
      "[CV] .. C=10.806355674886793, gamma=0.08153190916039757, total=   0.3s\n",
      "[CV] C=10.47042374115425, gamma=0.07039873924590305 ..................\n",
      "[CV] ... C=10.47042374115425, gamma=0.07039873924590305, total=   0.3s\n",
      "[CV] C=10.47042374115425, gamma=0.07039873924590305 ..................\n",
      "[CV] ... C=10.47042374115425, gamma=0.07039873924590305, total=   0.3s\n",
      "[CV] C=10.47042374115425, gamma=0.07039873924590305 ..................\n",
      "[CV] ... C=10.47042374115425, gamma=0.07039873924590305, total=   0.3s\n",
      "[CV] C=2.84923247894502, gamma=0.08866214251204353 ...................\n",
      "[CV] .... C=2.84923247894502, gamma=0.08866214251204353, total=   0.3s\n",
      "[CV] C=2.84923247894502, gamma=0.08866214251204353 ...................\n",
      "[CV] .... C=2.84923247894502, gamma=0.08866214251204353, total=   0.3s\n",
      "[CV] C=2.84923247894502, gamma=0.08866214251204353 ...................\n",
      "[CV] .... C=2.84923247894502, gamma=0.08866214251204353, total=   0.3s\n",
      "[CV] C=9.568253456767868, gamma=0.0012612973492588035 ................\n",
      "[CV] . C=9.568253456767868, gamma=0.0012612973492588035, total=   0.1s\n",
      "[CV] C=9.568253456767868, gamma=0.0012612973492588035 ................\n",
      "[CV] . C=9.568253456767868, gamma=0.0012612973492588035, total=   0.1s\n",
      "[CV] C=9.568253456767868, gamma=0.0012612973492588035 ................\n",
      "[CV] . C=9.568253456767868, gamma=0.0012612973492588035, total=   0.1s\n",
      "[CV] C=9.191887606625723, gamma=0.021046798623336714 .................\n",
      "[CV] .. C=9.191887606625723, gamma=0.021046798623336714, total=   0.3s\n",
      "[CV] C=9.191887606625723, gamma=0.021046798623336714 .................\n",
      "[CV] .. C=9.191887606625723, gamma=0.021046798623336714, total=   0.3s\n",
      "[CV] C=9.191887606625723, gamma=0.021046798623336714 .................\n",
      "[CV] .. C=9.191887606625723, gamma=0.021046798623336714, total=   0.3s\n",
      "[CV] C=4.2440184079082455, gamma=0.0058557317526536585 ...............\n",
      "[CV]  C=4.2440184079082455, gamma=0.0058557317526536585, total=   0.2s\n",
      "[CV] C=4.2440184079082455, gamma=0.0058557317526536585 ...............\n",
      "[CV]  C=4.2440184079082455, gamma=0.0058557317526536585, total=   0.2s\n",
      "[CV] C=4.2440184079082455, gamma=0.0058557317526536585 ...............\n",
      "[CV]  C=4.2440184079082455, gamma=0.0058557317526536585, total=   0.2s\n",
      "[CV] C=10.1292126356702, gamma=0.060582680830766955 ..................\n",
      "[CV] ... C=10.1292126356702, gamma=0.060582680830766955, total=   0.3s\n",
      "[CV] C=10.1292126356702, gamma=0.060582680830766955 ..................\n",
      "[CV] ... C=10.1292126356702, gamma=0.060582680830766955, total=   0.3s\n",
      "[CV] C=10.1292126356702, gamma=0.060582680830766955 ..................\n",
      "[CV] ... C=10.1292126356702, gamma=0.060582680830766955, total=   0.3s\n",
      "[CV] C=4.287245888593552, gamma=0.04721821443620606 ..................\n",
      "[CV] ... C=4.287245888593552, gamma=0.04721821443620606, total=   0.3s\n",
      "[CV] C=4.287245888593552, gamma=0.04721821443620606 ..................\n",
      "[CV] ... C=4.287245888593552, gamma=0.04721821443620606, total=   0.3s\n",
      "[CV] C=4.287245888593552, gamma=0.04721821443620606 ..................\n",
      "[CV] ... C=4.287245888593552, gamma=0.04721821443620606, total=   0.3s\n",
      "[CV] C=6.181778629617878, gamma=0.02291244297753815 ..................\n",
      "[CV] ... C=6.181778629617878, gamma=0.02291244297753815, total=   0.3s\n",
      "[CV] C=6.181778629617878, gamma=0.02291244297753815 ..................\n",
      "[CV] ... C=6.181778629617878, gamma=0.02291244297753815, total=   0.3s\n",
      "[CV] C=6.181778629617878, gamma=0.02291244297753815 ..................\n",
      "[CV] ... C=6.181778629617878, gamma=0.02291244297753815, total=   0.3s\n",
      "[CV] C=6.473731916996673, gamma=0.03774115712356054 ..................\n",
      "[CV] ... C=6.473731916996673, gamma=0.03774115712356054, total=   0.3s\n",
      "[CV] C=6.473731916996673, gamma=0.03774115712356054 ..................\n",
      "[CV] ... C=6.473731916996673, gamma=0.03774115712356054, total=   0.3s\n",
      "[CV] C=6.473731916996673, gamma=0.03774115712356054 ..................\n",
      "[CV] ... C=6.473731916996673, gamma=0.03774115712356054, total=   0.3s\n",
      "[CV] C=8.984678555032396, gamma=0.0015984657884246158 ................\n",
      "[CV] . C=8.984678555032396, gamma=0.0015984657884246158, total=   0.1s\n",
      "[CV] C=8.984678555032396, gamma=0.0015984657884246158 ................\n",
      "[CV] . C=8.984678555032396, gamma=0.0015984657884246158, total=   0.1s\n",
      "[CV] C=8.984678555032396, gamma=0.0015984657884246158 ................\n",
      "[CV] . C=8.984678555032396, gamma=0.0015984657884246158, total=   0.1s\n",
      "[CV] C=2.971935581804356, gamma=0.006965950429481289 .................\n",
      "[CV] .. C=2.971935581804356, gamma=0.006965950429481289, total=   0.2s\n",
      "[CV] C=2.971935581804356, gamma=0.006965950429481289 .................\n",
      "[CV] .. C=2.971935581804356, gamma=0.006965950429481289, total=   0.2s\n",
      "[CV] C=2.971935581804356, gamma=0.006965950429481289 .................\n",
      "[CV] .. C=2.971935581804356, gamma=0.006965950429481289, total=   0.2s\n",
      "[CV] C=5.86682388195876, gamma=0.031831447833995385 ..................\n",
      "[CV] ... C=5.86682388195876, gamma=0.031831447833995385, total=   0.3s\n",
      "[CV] C=5.86682388195876, gamma=0.031831447833995385 ..................\n",
      "[CV] ... C=5.86682388195876, gamma=0.031831447833995385, total=   0.3s\n",
      "[CV] C=5.86682388195876, gamma=0.031831447833995385 ..................\n",
      "[CV] ... C=5.86682388195876, gamma=0.031831447833995385, total=   0.3s\n",
      "[CV] C=9.390682092354378, gamma=0.005915004223212669 .................\n",
      "[CV] .. C=9.390682092354378, gamma=0.005915004223212669, total=   0.2s\n",
      "[CV] C=9.390682092354378, gamma=0.005915004223212669 .................\n",
      "[CV] .. C=9.390682092354378, gamma=0.005915004223212669, total=   0.2s\n",
      "[CV] C=9.390682092354378, gamma=0.005915004223212669 .................\n",
      "[CV] .. C=9.390682092354378, gamma=0.005915004223212669, total=   0.2s\n",
      "[CV] C=7.736273709602687, gamma=0.055745179607664674 .................\n",
      "[CV] .. C=7.736273709602687, gamma=0.055745179607664674, total=   0.3s\n",
      "[CV] C=7.736273709602687, gamma=0.055745179607664674 .................\n",
      "[CV] .. C=7.736273709602687, gamma=0.055745179607664674, total=   0.3s\n",
      "[CV] C=7.736273709602687, gamma=0.055745179607664674 .................\n",
      "[CV] .. C=7.736273709602687, gamma=0.055745179607664674, total=   0.3s\n",
      "[CV] C=1.0289595810584642, gamma=0.014676017000737054 ................\n",
      "[CV] . C=1.0289595810584642, gamma=0.014676017000737054, total=   0.3s\n",
      "[CV] C=1.0289595810584642, gamma=0.014676017000737054 ................\n",
      "[CV] . C=1.0289595810584642, gamma=0.014676017000737054, total=   0.3s\n",
      "[CV] C=1.0289595810584642, gamma=0.014676017000737054 ................\n",
      "[CV] . C=1.0289595810584642, gamma=0.014676017000737054, total=   0.3s\n",
      "[CV] C=9.184878624804107, gamma=0.013947424936041114 .................\n",
      "[CV] .. C=9.184878624804107, gamma=0.013947424936041114, total=   0.3s\n",
      "[CV] C=9.184878624804107, gamma=0.013947424936041114 .................\n",
      "[CV] .. C=9.184878624804107, gamma=0.013947424936041114, total=   0.3s\n",
      "[CV] C=9.184878624804107, gamma=0.013947424936041114 .................\n"
     ]
    },
    {
     "name": "stdout",
     "output_type": "stream",
     "text": [
      "[CV] .. C=9.184878624804107, gamma=0.013947424936041114, total=   0.3s\n"
     ]
    },
    {
     "name": "stderr",
     "output_type": "stream",
     "text": [
      "[Parallel(n_jobs=1)]: Done  60 out of  60 | elapsed:   15.4s finished\n"
     ]
    },
    {
     "data": {
      "text/plain": [
       "RandomizedSearchCV(cv=3, estimator=SVC(), n_iter=20,\n",
       "                   param_distributions={'C': <scipy.stats._distn_infrastructure.rv_frozen object at 0x000001E7CF52ED30>,\n",
       "                                        'gamma': <scipy.stats._distn_infrastructure.rv_frozen object at 0x000001E7CF52E190>},\n",
       "                   verbose=2)"
      ]
     },
     "execution_count": 48,
     "metadata": {},
     "output_type": "execute_result"
    }
   ],
   "source": [
    "from sklearn.svm import SVC\n",
    "from sklearn.model_selection import RandomizedSearchCV\n",
    "from scipy.stats import reciprocal, uniform\n",
    "\n",
    "svm_classifier = SVC(kernel=\"rbf\")\n",
    "param_distributions = {\"gamma\": reciprocal(0.001, 0.1), \"C\": uniform(1, 10)}\n",
    "rnd_search_cv = RandomizedSearchCV(svm_classifier, param_distributions, n_iter=20, verbose=2, cv=3)\n",
    "rnd_search_cv.fit(X_train, y_train)"
   ]
  },
  {
   "cell_type": "code",
   "execution_count": 49,
   "metadata": {},
   "outputs": [
    {
     "data": {
      "text/plain": [
       "SVC(C=8.997985055738074, gamma=0.001257819045542782)"
      ]
     },
     "execution_count": 49,
     "metadata": {},
     "output_type": "execute_result"
    }
   ],
   "source": [
    "rnd_search_cv.best_estimator_"
   ]
  },
  {
   "cell_type": "code",
   "execution_count": 50,
   "metadata": {},
   "outputs": [
    {
     "data": {
      "text/plain": [
       "0.9663038211065017"
      ]
     },
     "execution_count": 50,
     "metadata": {},
     "output_type": "execute_result"
    }
   ],
   "source": [
    "rnd_search_cv.best_score_"
   ]
  },
  {
   "cell_type": "code",
   "execution_count": 51,
   "metadata": {},
   "outputs": [
    {
     "name": "stdout",
     "output_type": "stream",
     "text": [
      "0.8749719297001501 {'C': 8.644074959660024, 'gamma': 0.05872435932305266}\n",
      "0.9663038211065017 {'C': 8.997985055738074, 'gamma': 0.001257819045542782}\n",
      "0.8904194589228096 {'C': 7.2339929330956725, 'gamma': 0.04830384719665792}\n",
      "0.8511033105225212 {'C': 10.806355674886793, 'gamma': 0.08153190916039757}\n",
      "0.8623373399992907 {'C': 10.47042374115425, 'gamma': 0.07039873924590305}\n",
      "0.8412875698802728 {'C': 2.84923247894502, 'gamma': 0.08866214251204353}\n",
      "0.9663038211065017 {'C': 9.568253456767868, 'gamma': 0.0012612973492588035}\n",
      "0.9381862449621199 {'C': 9.191887606625723, 'gamma': 0.021046798623336714}\n",
      "0.9648973513456015 {'C': 4.2440184079082455, 'gamma': 0.0058557317526536585}\n",
      "0.8721648997151603 {'C': 10.1292126356702, 'gamma': 0.060582680830766955}\n",
      "0.89323239844461 {'C': 4.287245888593552, 'gamma': 0.04721821443620606}\n",
      "0.9353733054403196 {'C': 6.181778629617878, 'gamma': 0.02291244297753815}\n",
      "0.9100982165017905 {'C': 6.473731916996673, 'gamma': 0.03774115712356054}\n",
      "0.9663038211065017 {'C': 8.984678555032396, 'gamma': 0.0015984657884246158}\n",
      "0.9634849720478909 {'C': 2.971935581804356, 'gamma': 0.006965950429481289}\n",
      "0.9213381555153708 {'C': 5.86682388195876, 'gamma': 0.031831447833995385}\n",
      "0.9648973513456015 {'C': 9.390682092354378, 'gamma': 0.005915004223212669}\n",
      "0.8791854294460401 {'C': 7.736273709602687, 'gamma': 0.055745179607664674}\n",
      "0.9452185937666205 {'C': 1.0289595810584642, 'gamma': 0.014676017000737054}\n",
      "0.9508326537366001 {'C': 9.184878624804107, 'gamma': 0.013947424936041114}\n"
     ]
    }
   ],
   "source": [
    "cvres = rnd_search_cv.cv_results_\n",
    "for mean_score, params in zip(cvres[\"mean_test_score\"], cvres[\"params\"]):\n",
    "    print(mean_score, params)"
   ]
  },
  {
   "cell_type": "markdown",
   "metadata": {},
   "source": [
    "## Random Forest"
   ]
  },
  {
   "cell_type": "code",
   "execution_count": null,
   "metadata": {},
   "outputs": [],
   "source": [
    "param_rf = []"
   ]
  },
  {
   "cell_type": "code",
   "execution_count": 57,
   "metadata": {},
   "outputs": [],
   "source": [
    "from sklearn.ensemble import RandomForestClassifier\n",
    "\n",
    "rnd_clf = RandomForestClassifier(n_estimators=1000, random_state=42)\n",
    "rnd_clf.fit(X_train, y_train)\n",
    "\n",
    "y_pred = rnd_clf.predict(X_val)"
   ]
  },
  {
   "cell_type": "code",
   "execution_count": 58,
   "metadata": {},
   "outputs": [
    {
     "name": "stdout",
     "output_type": "stream",
     "text": [
      "0.9550561797752809\n",
      "0.9545454545454546\n",
      "0.9545454545454546\n"
     ]
    }
   ],
   "source": [
    "from sklearn.metrics import accuracy_score, f1_score, precision_score\n",
    "print(accuracy_score(y_test, y_pred))\n",
    "print(f1_score(y_test, y_pred))\n",
    "print(precision_score(y_test, y_pred))"
   ]
  },
  {
   "cell_type": "markdown",
   "metadata": {},
   "source": [
    "## Logistic Regression"
   ]
  },
  {
   "cell_type": "code",
   "execution_count": null,
   "metadata": {},
   "outputs": [],
   "source": [
    "param_distributions_log = {\"C\": uniform(0.01, 100)}"
   ]
  },
  {
   "cell_type": "code",
   "execution_count": 11,
   "metadata": {},
   "outputs": [
    {
     "data": {
      "text/plain": [
       "LogisticRegression(random_state=42)"
      ]
     },
     "execution_count": 11,
     "metadata": {},
     "output_type": "execute_result"
    }
   ],
   "source": [
    "from sklearn.linear_model import LogisticRegression\n",
    "log_reg_clf = LogisticRegression(solver=\"lbfgs\", random_state=42)\n",
    "log_reg_clf.fit(X_train, y_train)"
   ]
  },
  {
   "cell_type": "code",
   "execution_count": 18,
   "metadata": {},
   "outputs": [
    {
     "name": "stdout",
     "output_type": "stream",
     "text": [
      "Fitting 3 folds for each of 50 candidates, totalling 150 fits\n",
      "[CV] C=96.17412381288322 .............................................\n",
      "[CV] .............................. C=96.17412381288322, total=   0.1s\n",
      "[CV] C=96.17412381288322 .............................................\n",
      "[CV] .............................. C=96.17412381288322, total=   0.0s\n",
      "[CV] C=96.17412381288322 .............................................\n",
      "[CV] .............................. C=96.17412381288322, total=   0.1s\n",
      "[CV] C=24.575930580333296 ............................................\n"
     ]
    },
    {
     "name": "stderr",
     "output_type": "stream",
     "text": [
      "[Parallel(n_jobs=1)]: Using backend SequentialBackend with 1 concurrent workers.\n",
      "[Parallel(n_jobs=1)]: Done   1 out of   1 | elapsed:    0.0s remaining:    0.0s\n"
     ]
    },
    {
     "name": "stdout",
     "output_type": "stream",
     "text": [
      "[CV] ............................. C=24.575930580333296, total=   0.1s\n",
      "[CV] C=24.575930580333296 ............................................\n",
      "[CV] ............................. C=24.575930580333296, total=   0.1s\n",
      "[CV] C=24.575930580333296 ............................................\n",
      "[CV] ............................. C=24.575930580333296, total=   0.1s\n",
      "[CV] C=6.573306527891555 .............................................\n",
      "[CV] .............................. C=6.573306527891555, total=   0.0s\n",
      "[CV] C=6.573306527891555 .............................................\n",
      "[CV] .............................. C=6.573306527891555, total=   0.1s\n",
      "[CV] C=6.573306527891555 .............................................\n",
      "[CV] .............................. C=6.573306527891555, total=   0.1s\n",
      "[CV] C=18.79485560155848 .............................................\n",
      "[CV] .............................. C=18.79485560155848, total=   0.1s\n",
      "[CV] C=18.79485560155848 .............................................\n",
      "[CV] .............................. C=18.79485560155848, total=   0.1s\n",
      "[CV] C=18.79485560155848 .............................................\n",
      "[CV] .............................. C=18.79485560155848, total=   0.1s\n",
      "[CV] C=98.53369779624859 .............................................\n",
      "[CV] .............................. C=98.53369779624859, total=   0.1s\n",
      "[CV] C=98.53369779624859 .............................................\n",
      "[CV] .............................. C=98.53369779624859, total=   0.1s\n",
      "[CV] C=98.53369779624859 .............................................\n",
      "[CV] .............................. C=98.53369779624859, total=   0.1s\n",
      "[CV] C=87.78360963240969 .............................................\n",
      "[CV] .............................. C=87.78360963240969, total=   0.1s\n",
      "[CV] C=87.78360963240969 .............................................\n",
      "[CV] .............................. C=87.78360963240969, total=   0.1s\n",
      "[CV] C=87.78360963240969 .............................................\n",
      "[CV] .............................. C=87.78360963240969, total=   0.1s\n",
      "[CV] C=76.82290248146266 .............................................\n",
      "[CV] .............................. C=76.82290248146266, total=   0.1s\n",
      "[CV] C=76.82290248146266 .............................................\n",
      "[CV] .............................. C=76.82290248146266, total=   0.1s\n",
      "[CV] C=76.82290248146266 .............................................\n",
      "[CV] .............................. C=76.82290248146266, total=   0.1s\n",
      "[CV] C=7.037848093730182 .............................................\n",
      "[CV] .............................. C=7.037848093730182, total=   0.1s\n",
      "[CV] C=7.037848093730182 .............................................\n",
      "[CV] .............................. C=7.037848093730182, total=   0.1s\n",
      "[CV] C=7.037848093730182 .............................................\n",
      "[CV] .............................. C=7.037848093730182, total=   0.1s\n",
      "[CV] C=89.60497229170957 .............................................\n",
      "[CV] .............................. C=89.60497229170957, total=   0.1s\n",
      "[CV] C=89.60497229170957 .............................................\n",
      "[CV] .............................. C=89.60497229170957, total=   0.0s\n",
      "[CV] C=89.60497229170957 .............................................\n",
      "[CV] .............................. C=89.60497229170957, total=   0.1s\n",
      "[CV] C=3.832759294813782 .............................................\n",
      "[CV] .............................. C=3.832759294813782, total=   0.1s\n",
      "[CV] C=3.832759294813782 .............................................\n",
      "[CV] .............................. C=3.832759294813782, total=   0.0s\n",
      "[CV] C=3.832759294813782 .............................................\n",
      "[CV] .............................. C=3.832759294813782, total=   0.1s\n",
      "[CV] C=51.81748708694529 .............................................\n",
      "[CV] .............................. C=51.81748708694529, total=   0.1s\n",
      "[CV] C=51.81748708694529 .............................................\n",
      "[CV] .............................. C=51.81748708694529, total=   0.0s\n",
      "[CV] C=51.81748708694529 .............................................\n",
      "[CV] .............................. C=51.81748708694529, total=   0.1s\n",
      "[CV] C=73.86608396290413 .............................................\n",
      "[CV] .............................. C=73.86608396290413, total=   0.0s\n",
      "[CV] C=73.86608396290413 .............................................\n",
      "[CV] .............................. C=73.86608396290413, total=   0.1s\n",
      "[CV] C=73.86608396290413 .............................................\n",
      "[CV] .............................. C=73.86608396290413, total=   0.1s\n",
      "[CV] C=14.44630825683594 .............................................\n",
      "[CV] .............................. C=14.44630825683594, total=   0.1s\n",
      "[CV] C=14.44630825683594 .............................................\n",
      "[CV] .............................. C=14.44630825683594, total=   0.1s\n",
      "[CV] C=14.44630825683594 .............................................\n",
      "[CV] .............................. C=14.44630825683594, total=   0.1s\n",
      "[CV] C=98.19292731127989 .............................................\n",
      "[CV] .............................. C=98.19292731127989, total=   0.1s\n",
      "[CV] C=98.19292731127989 .............................................\n",
      "[CV] .............................. C=98.19292731127989, total=   0.0s\n",
      "[CV] C=98.19292731127989 .............................................\n",
      "[CV] .............................. C=98.19292731127989, total=   0.1s\n",
      "[CV] C=69.48453486635702 .............................................\n",
      "[CV] .............................. C=69.48453486635702, total=   0.1s\n",
      "[CV] C=69.48453486635702 .............................................\n",
      "[CV] .............................. C=69.48453486635702, total=   0.1s\n",
      "[CV] C=69.48453486635702 .............................................\n",
      "[CV] .............................. C=69.48453486635702, total=   0.1s\n",
      "[CV] C=2.196590425376533 .............................................\n",
      "[CV] .............................. C=2.196590425376533, total=   0.1s\n",
      "[CV] C=2.196590425376533 .............................................\n",
      "[CV] .............................. C=2.196590425376533, total=   0.1s\n",
      "[CV] C=2.196590425376533 .............................................\n",
      "[CV] .............................. C=2.196590425376533, total=   0.1s\n",
      "[CV] C=21.78117924396003 .............................................\n",
      "[CV] .............................. C=21.78117924396003, total=   0.1s\n",
      "[CV] C=21.78117924396003 .............................................\n",
      "[CV] .............................. C=21.78117924396003, total=   0.0s\n",
      "[CV] C=21.78117924396003 .............................................\n",
      "[CV] .............................. C=21.78117924396003, total=   0.1s\n",
      "[CV] C=61.45219497645829 .............................................\n",
      "[CV] .............................. C=61.45219497645829, total=   0.1s\n",
      "[CV] C=61.45219497645829 .............................................\n",
      "[CV] .............................. C=61.45219497645829, total=   0.1s\n",
      "[CV] C=61.45219497645829 .............................................\n",
      "[CV] .............................. C=61.45219497645829, total=   0.1s\n",
      "[CV] C=61.128097970517345 ............................................\n",
      "[CV] ............................. C=61.128097970517345, total=   0.1s\n",
      "[CV] C=61.128097970517345 ............................................\n",
      "[CV] ............................. C=61.128097970517345, total=   0.1s\n",
      "[CV] C=61.128097970517345 ............................................\n",
      "[CV] ............................. C=61.128097970517345, total=   0.1s\n",
      "[CV] C=32.5177322480937 ..............................................\n",
      "[CV] ............................... C=32.5177322480937, total=   0.0s\n",
      "[CV] C=32.5177322480937 ..............................................\n",
      "[CV] ............................... C=32.5177322480937, total=   0.1s\n",
      "[CV] C=32.5177322480937 ..............................................\n",
      "[CV] ............................... C=32.5177322480937, total=   0.1s\n",
      "[CV] C=82.80772429901927 .............................................\n",
      "[CV] .............................. C=82.80772429901927, total=   0.1s\n",
      "[CV] C=82.80772429901927 .............................................\n",
      "[CV] .............................. C=82.80772429901927, total=   0.1s\n",
      "[CV] C=82.80772429901927 .............................................\n",
      "[CV] .............................. C=82.80772429901927, total=   0.1s\n",
      "[CV] C=16.449876099538756 ............................................\n"
     ]
    },
    {
     "name": "stdout",
     "output_type": "stream",
     "text": [
      "[CV] ............................. C=16.449876099538756, total=   0.1s\n",
      "[CV] C=16.449876099538756 ............................................\n",
      "[CV] ............................. C=16.449876099538756, total=   0.1s\n",
      "[CV] C=16.449876099538756 ............................................\n",
      "[CV] ............................. C=16.449876099538756, total=   0.1s\n",
      "[CV] C=15.531674413606966 ............................................\n",
      "[CV] ............................. C=15.531674413606966, total=   0.1s\n",
      "[CV] C=15.531674413606966 ............................................\n",
      "[CV] ............................. C=15.531674413606966, total=   0.0s\n",
      "[CV] C=15.531674413606966 ............................................\n",
      "[CV] ............................. C=15.531674413606966, total=   0.1s\n",
      "[CV] C=0.33880518638160884 ...........................................\n",
      "[CV] ............................ C=0.33880518638160884, total=   0.0s\n",
      "[CV] C=0.33880518638160884 ...........................................\n",
      "[CV] ............................ C=0.33880518638160884, total=   0.0s\n",
      "[CV] C=0.33880518638160884 ...........................................\n",
      "[CV] ............................ C=0.33880518638160884, total=   0.0s\n",
      "[CV] C=77.0314691019628 ..............................................\n",
      "[CV] ............................... C=77.0314691019628, total=   0.1s\n",
      "[CV] C=77.0314691019628 ..............................................\n",
      "[CV] ............................... C=77.0314691019628, total=   0.1s\n",
      "[CV] C=77.0314691019628 ..............................................\n",
      "[CV] ............................... C=77.0314691019628, total=   0.1s\n",
      "[CV] C=40.24524108141677 .............................................\n",
      "[CV] .............................. C=40.24524108141677, total=   0.1s\n",
      "[CV] C=40.24524108141677 .............................................\n",
      "[CV] .............................. C=40.24524108141677, total=   0.1s\n",
      "[CV] C=40.24524108141677 .............................................\n",
      "[CV] .............................. C=40.24524108141677, total=   0.1s\n",
      "[CV] C=82.58590002105706 .............................................\n",
      "[CV] .............................. C=82.58590002105706, total=   0.0s\n",
      "[CV] C=82.58590002105706 .............................................\n",
      "[CV] .............................. C=82.58590002105706, total=   0.1s\n",
      "[CV] C=82.58590002105706 .............................................\n",
      "[CV] .............................. C=82.58590002105706, total=   0.1s\n",
      "[CV] C=27.237391844598594 ............................................\n",
      "[CV] ............................. C=27.237391844598594, total=   0.1s\n",
      "[CV] C=27.237391844598594 ............................................\n",
      "[CV] ............................. C=27.237391844598594, total=   0.1s\n",
      "[CV] C=27.237391844598594 ............................................\n",
      "[CV] ............................. C=27.237391844598594, total=   0.1s\n",
      "[CV] C=61.49210603403018 .............................................\n",
      "[CV] .............................. C=61.49210603403018, total=   0.0s\n",
      "[CV] C=61.49210603403018 .............................................\n",
      "[CV] .............................. C=61.49210603403018, total=   0.1s\n",
      "[CV] C=61.49210603403018 .............................................\n",
      "[CV] .............................. C=61.49210603403018, total=   0.1s\n",
      "[CV] C=92.9692926693952 ..............................................\n",
      "[CV] ............................... C=92.9692926693952, total=   0.1s\n",
      "[CV] C=92.9692926693952 ..............................................\n",
      "[CV] ............................... C=92.9692926693952, total=   0.1s\n",
      "[CV] C=92.9692926693952 ..............................................\n",
      "[CV] ............................... C=92.9692926693952, total=   0.1s\n",
      "[CV] C=35.727980273163595 ............................................\n",
      "[CV] ............................. C=35.727980273163595, total=   0.0s\n",
      "[CV] C=35.727980273163595 ............................................\n",
      "[CV] ............................. C=35.727980273163595, total=   0.1s\n",
      "[CV] C=35.727980273163595 ............................................\n",
      "[CV] ............................. C=35.727980273163595, total=   0.1s\n",
      "[CV] C=50.95964942293691 .............................................\n",
      "[CV] .............................. C=50.95964942293691, total=   0.0s\n",
      "[CV] C=50.95964942293691 .............................................\n",
      "[CV] .............................. C=50.95964942293691, total=   0.0s\n",
      "[CV] C=50.95964942293691 .............................................\n",
      "[CV] .............................. C=50.95964942293691, total=   0.1s\n",
      "[CV] C=99.49002378757115 .............................................\n",
      "[CV] .............................. C=99.49002378757115, total=   0.1s\n",
      "[CV] C=99.49002378757115 .............................................\n",
      "[CV] .............................. C=99.49002378757115, total=   0.0s\n",
      "[CV] C=99.49002378757115 .............................................\n",
      "[CV] .............................. C=99.49002378757115, total=   0.1s\n",
      "[CV] C=45.73995750112317 .............................................\n",
      "[CV] .............................. C=45.73995750112317, total=   0.0s\n",
      "[CV] C=45.73995750112317 .............................................\n",
      "[CV] .............................. C=45.73995750112317, total=   0.1s\n",
      "[CV] C=45.73995750112317 .............................................\n",
      "[CV] .............................. C=45.73995750112317, total=   0.1s\n",
      "[CV] C=45.92826147698526 .............................................\n",
      "[CV] .............................. C=45.92826147698526, total=   0.0s\n",
      "[CV] C=45.92826147698526 .............................................\n",
      "[CV] .............................. C=45.92826147698526, total=   0.1s\n",
      "[CV] C=45.92826147698526 .............................................\n",
      "[CV] .............................. C=45.92826147698526, total=   0.1s\n",
      "[CV] C=41.31471389579762 .............................................\n",
      "[CV] .............................. C=41.31471389579762, total=   0.1s\n",
      "[CV] C=41.31471389579762 .............................................\n",
      "[CV] .............................. C=41.31471389579762, total=   0.1s\n",
      "[CV] C=41.31471389579762 .............................................\n",
      "[CV] .............................. C=41.31471389579762, total=   0.1s\n",
      "[CV] C=56.73645189166795 .............................................\n",
      "[CV] .............................. C=56.73645189166795, total=   0.1s\n",
      "[CV] C=56.73645189166795 .............................................\n",
      "[CV] .............................. C=56.73645189166795, total=   0.1s\n",
      "[CV] C=56.73645189166795 .............................................\n",
      "[CV] .............................. C=56.73645189166795, total=   0.1s\n",
      "[CV] C=20.01942622583101 .............................................\n",
      "[CV] .............................. C=20.01942622583101, total=   0.1s\n",
      "[CV] C=20.01942622583101 .............................................\n",
      "[CV] .............................. C=20.01942622583101, total=   0.1s\n",
      "[CV] C=20.01942622583101 .............................................\n",
      "[CV] .............................. C=20.01942622583101, total=   0.1s\n",
      "[CV] C=74.86387139969402 .............................................\n",
      "[CV] .............................. C=74.86387139969402, total=   0.1s\n",
      "[CV] C=74.86387139969402 .............................................\n",
      "[CV] .............................. C=74.86387139969402, total=   0.1s\n",
      "[CV] C=74.86387139969402 .............................................\n",
      "[CV] .............................. C=74.86387139969402, total=   0.1s\n",
      "[CV] C=44.698600820177 ...............................................\n",
      "[CV] ................................ C=44.698600820177, total=   0.0s\n",
      "[CV] C=44.698600820177 ...............................................\n",
      "[CV] ................................ C=44.698600820177, total=   0.1s\n",
      "[CV] C=44.698600820177 ...............................................\n",
      "[CV] ................................ C=44.698600820177, total=   0.1s\n",
      "[CV] C=79.03656714627441 .............................................\n",
      "[CV] .............................. C=79.03656714627441, total=   0.0s\n",
      "[CV] C=79.03656714627441 .............................................\n",
      "[CV] .............................. C=79.03656714627441, total=   0.1s\n",
      "[CV] C=79.03656714627441 .............................................\n"
     ]
    },
    {
     "name": "stdout",
     "output_type": "stream",
     "text": [
      "[CV] .............................. C=79.03656714627441, total=   0.1s\n",
      "[CV] C=98.14049501101563 .............................................\n",
      "[CV] .............................. C=98.14049501101563, total=   0.1s\n",
      "[CV] C=98.14049501101563 .............................................\n",
      "[CV] .............................. C=98.14049501101563, total=   0.1s\n",
      "[CV] C=98.14049501101563 .............................................\n",
      "[CV] .............................. C=98.14049501101563, total=   0.1s\n",
      "[CV] C=66.69094650044148 .............................................\n",
      "[CV] .............................. C=66.69094650044148, total=   0.1s\n",
      "[CV] C=66.69094650044148 .............................................\n",
      "[CV] .............................. C=66.69094650044148, total=   0.1s\n",
      "[CV] C=66.69094650044148 .............................................\n",
      "[CV] .............................. C=66.69094650044148, total=   0.1s\n",
      "[CV] C=57.55743020403982 .............................................\n",
      "[CV] .............................. C=57.55743020403982, total=   0.0s\n",
      "[CV] C=57.55743020403982 .............................................\n",
      "[CV] .............................. C=57.55743020403982, total=   0.1s\n",
      "[CV] C=57.55743020403982 .............................................\n",
      "[CV] .............................. C=57.55743020403982, total=   0.1s\n",
      "[CV] C=94.1625904274476 ..............................................\n",
      "[CV] ............................... C=94.1625904274476, total=   0.1s\n",
      "[CV] C=94.1625904274476 ..............................................\n",
      "[CV] ............................... C=94.1625904274476, total=   0.1s\n",
      "[CV] C=94.1625904274476 ..............................................\n",
      "[CV] ............................... C=94.1625904274476, total=   0.1s\n",
      "[CV] C=91.09224575620546 .............................................\n",
      "[CV] .............................. C=91.09224575620546, total=   0.1s\n",
      "[CV] C=91.09224575620546 .............................................\n",
      "[CV] .............................. C=91.09224575620546, total=   0.1s\n",
      "[CV] C=91.09224575620546 .............................................\n",
      "[CV] .............................. C=91.09224575620546, total=   0.1s\n",
      "[CV] C=89.64059804106714 .............................................\n",
      "[CV] .............................. C=89.64059804106714, total=   0.1s\n",
      "[CV] C=89.64059804106714 .............................................\n",
      "[CV] .............................. C=89.64059804106714, total=   0.1s\n",
      "[CV] C=89.64059804106714 .............................................\n",
      "[CV] .............................. C=89.64059804106714, total=   0.1s\n",
      "[CV] C=63.76196649511594 .............................................\n",
      "[CV] .............................. C=63.76196649511594, total=   0.1s\n",
      "[CV] C=63.76196649511594 .............................................\n",
      "[CV] .............................. C=63.76196649511594, total=   0.1s\n",
      "[CV] C=63.76196649511594 .............................................\n",
      "[CV] .............................. C=63.76196649511594, total=   0.1s\n",
      "[CV] C=72.60560533691485 .............................................\n",
      "[CV] .............................. C=72.60560533691485, total=   0.1s\n",
      "[CV] C=72.60560533691485 .............................................\n",
      "[CV] .............................. C=72.60560533691485, total=   0.0s\n",
      "[CV] C=72.60560533691485 .............................................\n",
      "[CV] .............................. C=72.60560533691485, total=   0.1s\n",
      "[CV] C=55.302018114153285 ............................................\n",
      "[CV] ............................. C=55.302018114153285, total=   0.1s\n",
      "[CV] C=55.302018114153285 ............................................\n",
      "[CV] ............................. C=55.302018114153285, total=   0.1s\n",
      "[CV] C=55.302018114153285 ............................................\n",
      "[CV] ............................. C=55.302018114153285, total=   0.1s\n"
     ]
    },
    {
     "name": "stderr",
     "output_type": "stream",
     "text": [
      "[Parallel(n_jobs=1)]: Done 150 out of 150 | elapsed:    8.0s finished\n"
     ]
    },
    {
     "data": {
      "text/plain": [
       "RandomizedSearchCV(cv=3, estimator=LogisticRegression(random_state=42),\n",
       "                   n_iter=50,\n",
       "                   param_distributions={'C': <scipy.stats._distn_infrastructure.rv_frozen object at 0x000001A0463E7250>},\n",
       "                   verbose=2)"
      ]
     },
     "execution_count": 18,
     "metadata": {},
     "output_type": "execute_result"
    }
   ],
   "source": [
    "from sklearn.model_selection import RandomizedSearchCV\n",
    "from scipy.stats import reciprocal, uniform\n",
    "\n",
    "param_distributions = {\"C\": uniform(0.01, 100)}\n",
    "\n",
    "rnd_search_cv = RandomizedSearchCV(log_reg_clf, param_distributions, n_iter=50, verbose=2, cv=3)\n",
    "rnd_search_cv.fit(X, y)"
   ]
  },
  {
   "cell_type": "code",
   "execution_count": 19,
   "metadata": {},
   "outputs": [
    {
     "data": {
      "text/plain": [
       "LogisticRegression(C=96.17412381288322, random_state=42)"
      ]
     },
     "execution_count": 19,
     "metadata": {},
     "output_type": "execute_result"
    }
   ],
   "source": [
    "rnd_search_cv.best_estimator_"
   ]
  },
  {
   "cell_type": "code",
   "execution_count": 20,
   "metadata": {},
   "outputs": [
    {
     "data": {
      "text/plain": [
       "0.9584584584584585"
      ]
     },
     "execution_count": 20,
     "metadata": {},
     "output_type": "execute_result"
    }
   ],
   "source": [
    "rnd_search_cv.best_score_"
   ]
  },
  {
   "cell_type": "code",
   "execution_count": 21,
   "metadata": {},
   "outputs": [
    {
     "name": "stdout",
     "output_type": "stream",
     "text": [
      "0.9584584584584585 {'C': 96.17412381288322}\n",
      "0.9573361240027906 {'C': 24.575930580333296}\n",
      "0.9562099978766646 {'C': 6.573306527891555}\n",
      "0.9573361240027906 {'C': 18.79485560155848}\n",
      "0.9584584584584585 {'C': 98.53369779624859}\n",
      "0.9584584584584585 {'C': 87.78360963240969}\n",
      "0.9584584584584585 {'C': 76.82290248146266}\n",
      "0.9562099978766646 {'C': 7.037848093730182}\n",
      "0.9584584584584585 {'C': 89.60497229170957}\n",
      "0.9562099978766646 {'C': 3.832759294813782}\n",
      "0.9584584584584585 {'C': 51.81748708694529}\n",
      "0.9584584584584585 {'C': 73.86608396290413}\n",
      "0.9573361240027906 {'C': 14.44630825683594}\n",
      "0.9584584584584585 {'C': 98.19292731127989}\n",
      "0.9584584584584585 {'C': 69.48453486635702}\n",
      "0.9573323323323324 {'C': 2.196590425376533}\n",
      "0.9573361240027906 {'C': 21.78117924396003}\n",
      "0.9584584584584585 {'C': 61.45219497645829}\n",
      "0.9584584584584585 {'C': 61.128097970517345}\n",
      "0.9584584584584585 {'C': 32.5177322480937}\n",
      "0.9584584584584585 {'C': 82.80772429901927}\n",
      "0.9573361240027906 {'C': 16.449876099538756}\n",
      "0.9573361240027906 {'C': 15.531674413606966}\n",
      "0.957328540661874 {'C': 0.33880518638160884}\n",
      "0.9584584584584585 {'C': 77.0314691019628}\n",
      "0.9584584584584585 {'C': 40.24524108141677}\n",
      "0.9584584584584585 {'C': 82.58590002105706}\n",
      "0.9573361240027906 {'C': 27.237391844598594}\n",
      "0.9584584584584585 {'C': 61.49210603403018}\n",
      "0.9584584584584585 {'C': 92.9692926693952}\n",
      "0.9584584584584585 {'C': 35.727980273163595}\n",
      "0.9584584584584585 {'C': 50.95964942293691}\n",
      "0.9584584584584585 {'C': 99.49002378757115}\n",
      "0.9584584584584585 {'C': 45.73995750112317}\n",
      "0.9584584584584585 {'C': 45.92826147698526}\n",
      "0.9584584584584585 {'C': 41.31471389579762}\n",
      "0.9584584584584585 {'C': 56.73645189166795}\n",
      "0.9573361240027906 {'C': 20.01942622583101}\n",
      "0.9584584584584585 {'C': 74.86387139969402}\n",
      "0.9584584584584585 {'C': 44.698600820177}\n",
      "0.9584584584584585 {'C': 79.03656714627441}\n",
      "0.9584584584584585 {'C': 98.14049501101563}\n",
      "0.9584584584584585 {'C': 66.69094650044148}\n",
      "0.9584584584584585 {'C': 57.55743020403982}\n",
      "0.9584584584584585 {'C': 94.1625904274476}\n",
      "0.9584584584584585 {'C': 91.09224575620546}\n",
      "0.9584584584584585 {'C': 89.64059804106714}\n",
      "0.9584584584584585 {'C': 63.76196649511594}\n",
      "0.9584584584584585 {'C': 72.60560533691485}\n",
      "0.9584584584584585 {'C': 55.302018114153285}\n"
     ]
    }
   ],
   "source": [
    "cvres = rnd_search_cv.cv_results_\n",
    "for mean_score, params in zip(cvres[\"mean_test_score\"], cvres[\"params\"]):\n",
    "    print(mean_score, params)"
   ]
  },
  {
   "cell_type": "markdown",
   "metadata": {},
   "source": [
    "## Adaboost"
   ]
  },
  {
   "cell_type": "code",
   "execution_count": null,
   "metadata": {},
   "outputs": [],
   "source": [
    "param_distributions_ada = {\"learning_rate\": uniform(0, 2)}"
   ]
  },
  {
   "cell_type": "code",
   "execution_count": 64,
   "metadata": {},
   "outputs": [],
   "source": [
    "from sklearn.ensemble import AdaBoostClassifier\n",
    "from sklearn.tree import DecisionTreeClassifier\n",
    "\n",
    "ada_clf = AdaBoostClassifier(\n",
    "    DecisionTreeClassifier(max_depth=1), n_estimators=200,\n",
    "    algorithm=\"SAMME.R\", random_state=42\n",
    ")"
   ]
  },
  {
   "cell_type": "code",
   "execution_count": 67,
   "metadata": {},
   "outputs": [
    {
     "name": "stdout",
     "output_type": "stream",
     "text": [
      "Fitting 3 folds for each of 20 candidates, totalling 60 fits\n",
      "[CV] learning_rate=0.7449401411086163 ................................\n"
     ]
    },
    {
     "name": "stderr",
     "output_type": "stream",
     "text": [
      "[Parallel(n_jobs=1)]: Using backend SequentialBackend with 1 concurrent workers.\n"
     ]
    },
    {
     "name": "stdout",
     "output_type": "stream",
     "text": [
      "[CV] ................. learning_rate=0.7449401411086163, total=   1.9s\n",
      "[CV] learning_rate=0.7449401411086163 ................................\n"
     ]
    },
    {
     "name": "stderr",
     "output_type": "stream",
     "text": [
      "[Parallel(n_jobs=1)]: Done   1 out of   1 | elapsed:    1.8s remaining:    0.0s\n"
     ]
    },
    {
     "name": "stdout",
     "output_type": "stream",
     "text": [
      "[CV] ................. learning_rate=0.7449401411086163, total=   1.8s\n",
      "[CV] learning_rate=0.7449401411086163 ................................\n",
      "[CV] ................. learning_rate=0.7449401411086163, total=   1.9s\n",
      "[CV] learning_rate=0.5699614745716512 ................................\n",
      "[CV] ................. learning_rate=0.5699614745716512, total=   1.9s\n",
      "[CV] learning_rate=0.5699614745716512 ................................\n",
      "[CV] ................. learning_rate=0.5699614745716512, total=   1.9s\n",
      "[CV] learning_rate=0.5699614745716512 ................................\n",
      "[CV] ................. learning_rate=0.5699614745716512, total=   1.9s\n",
      "[CV] learning_rate=0.6903953767852085 ................................\n",
      "[CV] ................. learning_rate=0.6903953767852085, total=   1.8s\n",
      "[CV] learning_rate=0.6903953767852085 ................................\n",
      "[CV] ................. learning_rate=0.6903953767852085, total=   1.8s\n",
      "[CV] learning_rate=0.6903953767852085 ................................\n",
      "[CV] ................. learning_rate=0.6903953767852085, total=   1.8s\n",
      "[CV] learning_rate=1.9476466100809495 ................................\n",
      "[CV] ................. learning_rate=1.9476466100809495, total=   1.9s\n",
      "[CV] learning_rate=1.9476466100809495 ................................\n",
      "[CV] ................. learning_rate=1.9476466100809495, total=   1.9s\n",
      "[CV] learning_rate=1.9476466100809495 ................................\n",
      "[CV] ................. learning_rate=1.9476466100809495, total=   1.8s\n",
      "[CV] learning_rate=0.8210230387933066 ................................\n",
      "[CV] ................. learning_rate=0.8210230387933066, total=   1.9s\n",
      "[CV] learning_rate=0.8210230387933066 ................................\n",
      "[CV] ................. learning_rate=0.8210230387933066, total=   1.8s\n",
      "[CV] learning_rate=0.8210230387933066 ................................\n",
      "[CV] ................. learning_rate=0.8210230387933066, total=   1.8s\n",
      "[CV] learning_rate=1.7604591154582108 ................................\n",
      "[CV] ................. learning_rate=1.7604591154582108, total=   1.8s\n",
      "[CV] learning_rate=1.7604591154582108 ................................\n",
      "[CV] ................. learning_rate=1.7604591154582108, total=   1.8s\n",
      "[CV] learning_rate=1.7604591154582108 ................................\n",
      "[CV] ................. learning_rate=1.7604591154582108, total=   1.9s\n",
      "[CV] learning_rate=0.5227839135962051 ................................\n",
      "[CV] ................. learning_rate=0.5227839135962051, total=   1.8s\n",
      "[CV] learning_rate=0.5227839135962051 ................................\n",
      "[CV] ................. learning_rate=0.5227839135962051, total=   1.8s\n",
      "[CV] learning_rate=0.5227839135962051 ................................\n",
      "[CV] ................. learning_rate=0.5227839135962051, total=   1.8s\n",
      "[CV] learning_rate=0.534528661874029 .................................\n",
      "[CV] .................. learning_rate=0.534528661874029, total=   1.8s\n",
      "[CV] learning_rate=0.534528661874029 .................................\n",
      "[CV] .................. learning_rate=0.534528661874029, total=   1.9s\n",
      "[CV] learning_rate=0.534528661874029 .................................\n",
      "[CV] .................. learning_rate=0.534528661874029, total=   1.8s\n",
      "[CV] learning_rate=0.62905054942068 ..................................\n",
      "[CV] ................... learning_rate=0.62905054942068, total=   1.9s\n",
      "[CV] learning_rate=0.62905054942068 ..................................\n",
      "[CV] ................... learning_rate=0.62905054942068, total=   1.9s\n",
      "[CV] learning_rate=0.62905054942068 ..................................\n",
      "[CV] ................... learning_rate=0.62905054942068, total=   2.0s\n",
      "[CV] learning_rate=1.9225877394523332 ................................\n",
      "[CV] ................. learning_rate=1.9225877394523332, total=   2.1s\n",
      "[CV] learning_rate=1.9225877394523332 ................................\n",
      "[CV] ................. learning_rate=1.9225877394523332, total=   1.9s\n",
      "[CV] learning_rate=1.9225877394523332 ................................\n",
      "[CV] ................. learning_rate=1.9225877394523332, total=   1.9s\n",
      "[CV] learning_rate=1.9433342228108736 ................................\n",
      "[CV] ................. learning_rate=1.9433342228108736, total=   2.0s\n",
      "[CV] learning_rate=1.9433342228108736 ................................\n",
      "[CV] ................. learning_rate=1.9433342228108736, total=   2.0s\n",
      "[CV] learning_rate=1.9433342228108736 ................................\n",
      "[CV] ................. learning_rate=1.9433342228108736, total=   2.0s\n",
      "[CV] learning_rate=1.5555476075235293 ................................\n",
      "[CV] ................. learning_rate=1.5555476075235293, total=   1.9s\n",
      "[CV] learning_rate=1.5555476075235293 ................................\n",
      "[CV] ................. learning_rate=1.5555476075235293, total=   1.9s\n",
      "[CV] learning_rate=1.5555476075235293 ................................\n",
      "[CV] ................. learning_rate=1.5555476075235293, total=   1.9s\n",
      "[CV] learning_rate=1.2005294909061195 ................................\n",
      "[CV] ................. learning_rate=1.2005294909061195, total=   2.2s\n",
      "[CV] learning_rate=1.2005294909061195 ................................\n",
      "[CV] ................. learning_rate=1.2005294909061195, total=   2.1s\n",
      "[CV] learning_rate=1.2005294909061195 ................................\n",
      "[CV] ................. learning_rate=1.2005294909061195, total=   2.0s\n",
      "[CV] learning_rate=0.5704155361600407 ................................\n",
      "[CV] ................. learning_rate=0.5704155361600407, total=   1.9s\n",
      "[CV] learning_rate=0.5704155361600407 ................................\n",
      "[CV] ................. learning_rate=0.5704155361600407, total=   1.9s\n",
      "[CV] learning_rate=0.5704155361600407 ................................\n",
      "[CV] ................. learning_rate=0.5704155361600407, total=   1.9s\n",
      "[CV] learning_rate=1.8086471333424754 ................................\n",
      "[CV] ................. learning_rate=1.8086471333424754, total=   1.8s\n",
      "[CV] learning_rate=1.8086471333424754 ................................\n",
      "[CV] ................. learning_rate=1.8086471333424754, total=   1.9s\n",
      "[CV] learning_rate=1.8086471333424754 ................................\n",
      "[CV] ................. learning_rate=1.8086471333424754, total=   1.8s\n",
      "[CV] learning_rate=0.5500482303341634 ................................\n",
      "[CV] ................. learning_rate=0.5500482303341634, total=   1.8s\n",
      "[CV] learning_rate=0.5500482303341634 ................................\n",
      "[CV] ................. learning_rate=0.5500482303341634, total=   1.9s\n",
      "[CV] learning_rate=0.5500482303341634 ................................\n",
      "[CV] ................. learning_rate=0.5500482303341634, total=   2.0s\n",
      "[CV] learning_rate=0.49260588058581045 ...............................\n",
      "[CV] ................ learning_rate=0.49260588058581045, total=   1.9s\n",
      "[CV] learning_rate=0.49260588058581045 ...............................\n",
      "[CV] ................ learning_rate=0.49260588058581045, total=   1.9s\n",
      "[CV] learning_rate=0.49260588058581045 ...............................\n",
      "[CV] ................ learning_rate=0.49260588058581045, total=   1.9s\n",
      "[CV] learning_rate=1.5325802739522947 ................................\n",
      "[CV] ................. learning_rate=1.5325802739522947, total=   1.9s\n",
      "[CV] learning_rate=1.5325802739522947 ................................\n",
      "[CV] ................. learning_rate=1.5325802739522947, total=   1.9s\n",
      "[CV] learning_rate=1.5325802739522947 ................................\n",
      "[CV] ................. learning_rate=1.5325802739522947, total=   1.9s\n",
      "[CV] learning_rate=1.2326259930249908 ................................\n",
      "[CV] ................. learning_rate=1.2326259930249908, total=   1.9s\n",
      "[CV] learning_rate=1.2326259930249908 ................................\n",
      "[CV] ................. learning_rate=1.2326259930249908, total=   1.9s\n",
      "[CV] learning_rate=1.2326259930249908 ................................\n",
      "[CV] ................. learning_rate=1.2326259930249908, total=   2.0s\n",
      "[CV] learning_rate=1.5359409575084622 ................................\n",
      "[CV] ................. learning_rate=1.5359409575084622, total=   1.9s\n",
      "[CV] learning_rate=1.5359409575084622 ................................\n",
      "[CV] ................. learning_rate=1.5359409575084622, total=   1.9s\n",
      "[CV] learning_rate=1.5359409575084622 ................................\n"
     ]
    },
    {
     "name": "stdout",
     "output_type": "stream",
     "text": [
      "[CV] ................. learning_rate=1.5359409575084622, total=   1.9s\n"
     ]
    },
    {
     "name": "stderr",
     "output_type": "stream",
     "text": [
      "[Parallel(n_jobs=1)]: Done  60 out of  60 | elapsed:  1.9min finished\n"
     ]
    },
    {
     "data": {
      "text/plain": [
       "RandomizedSearchCV(cv=3,\n",
       "                   estimator=AdaBoostClassifier(base_estimator=DecisionTreeClassifier(max_depth=1),\n",
       "                                                n_estimators=200,\n",
       "                                                random_state=42),\n",
       "                   n_iter=20,\n",
       "                   param_distributions={'learning_rate': <scipy.stats._distn_infrastructure.rv_frozen object at 0x000001E7CF8A02B0>},\n",
       "                   verbose=2)"
      ]
     },
     "execution_count": 67,
     "metadata": {},
     "output_type": "execute_result"
    }
   ],
   "source": [
    "param_distributions = {\"learning_rate\": uniform(0, 2)}\n",
    "\n",
    "rnd_search_cv = RandomizedSearchCV(ada_clf, param_distributions, n_iter=20, verbose=2, cv=3)\n",
    "rnd_search_cv.fit(X, y)"
   ]
  },
  {
   "cell_type": "code",
   "execution_count": 68,
   "metadata": {},
   "outputs": [
    {
     "data": {
      "text/plain": [
       "AdaBoostClassifier(base_estimator=DecisionTreeClassifier(max_depth=1),\n",
       "                   learning_rate=0.62905054942068, n_estimators=200,\n",
       "                   random_state=42)"
      ]
     },
     "execution_count": 68,
     "metadata": {},
     "output_type": "execute_result"
    }
   ],
   "source": [
    "rnd_search_cv.best_estimator_"
   ]
  },
  {
   "cell_type": "code",
   "execution_count": 69,
   "metadata": {},
   "outputs": [
    {
     "data": {
      "text/plain": [
       "0.969666636333303"
      ]
     },
     "execution_count": 69,
     "metadata": {},
     "output_type": "execute_result"
    }
   ],
   "source": [
    "rnd_search_cv.best_score_"
   ]
  },
  {
   "cell_type": "code",
   "execution_count": 70,
   "metadata": {},
   "outputs": [
    {
     "name": "stdout",
     "output_type": "stream",
     "text": [
      "0.9606841690175023 {'learning_rate': 0.7449401411086163}\n",
      "0.9606879606879607 {'learning_rate': 0.5699614745716512}\n",
      "0.9595580428913761 {'learning_rate': 0.6903953767852085}\n",
      "0.9562062062062062 {'learning_rate': 1.9476466100809495}\n",
      "0.9539349956016623 {'learning_rate': 0.8210230387933066}\n",
      "0.9595580428913761 {'learning_rate': 1.7604591154582108}\n",
      "0.9618140868140869 {'learning_rate': 0.5227839135962051}\n",
      "0.9584319167652501 {'learning_rate': 0.534528661874029}\n",
      "0.969666636333303 {'learning_rate': 0.62905054942068}\n",
      "0.9438226104892772 {'learning_rate': 1.9225877394523332}\n",
      "0.9528088694755361 {'learning_rate': 1.9433342228108736}\n",
      "0.9651772985106319 {'learning_rate': 1.5555476075235293}\n",
      "0.9662996329662997 {'learning_rate': 1.2005294909061195}\n",
      "0.9606879606879607 {'learning_rate': 0.5704155361600407}\n",
      "0.9595618345618346 {'learning_rate': 1.8086471333424754}\n",
      "0.9584508751175419 {'learning_rate': 0.5500482303341634}\n",
      "0.9595618345618346 {'learning_rate': 0.49260588058581045}\n",
      "0.9539387872721207 {'learning_rate': 1.5325802739522947}\n",
      "0.9618065034731701 {'learning_rate': 1.2326259930249908}\n",
      "0.9618102951436285 {'learning_rate': 1.5359409575084622}\n"
     ]
    }
   ],
   "source": [
    "cvres = rnd_search_cv.cv_results_\n",
    "for mean_score, params in zip(cvres[\"mean_test_score\"], cvres[\"params\"]):\n",
    "    print(mean_score, params)"
   ]
  },
  {
   "cell_type": "markdown",
   "metadata": {},
   "source": [
    "## Playing with Scipy Reciprocal function"
   ]
  },
  {
   "cell_type": "code",
   "execution_count": 40,
   "metadata": {},
   "outputs": [
    {
     "data": {
      "text/plain": [
       "[<matplotlib.lines.Line2D at 0x1e7cf3b73a0>]"
      ]
     },
     "execution_count": 40,
     "metadata": {},
     "output_type": "execute_result"
    },
    {
     "data": {
      "image/png": "[encoded data removed]",
      "text/plain": [
       "<Figure size 432x288 with 1 Axes>"
      ]
     },
     "metadata": {
      "needs_background": "light"
     },
     "output_type": "display_data"
    }
   ],
   "source": [
    "from scipy.stats import reciprocal\n",
    "import matplotlib.pyplot as plt\n",
    "fig, ax = plt.subplots(1, 1)\n",
    "rv = reciprocal(0.001, 0.3)\n",
    "x = np.linspace(0.01, 1.0, 500)\n",
    "ax.plot(x, rv.pdf(x), 'k-', lw=2, label='frozen pdf')"
   ]
  },
  {
   "cell_type": "code",
   "execution_count": null,
   "metadata": {},
   "outputs": [],
   "source": []
  }
 ],
 "metadata": {
  "kernelspec": {
   "display_name": "Python 3",
   "language": "python",
   "name": "python3"
  },
  "language_info": {
   "codemirror_mode": {
    "name": "ipython",
    "version": 3
   },
   "file_extension": ".py",
   "mimetype": "text/x-python",
   "name": "python",
   "nbconvert_exporter": "python",
   "pygments_lexer": "ipython3",
   "version": "3.8.5"
  }
 },
 "nbformat": 4,
 "nbformat_minor": 4
}
